{
 "cells": [
  {
   "cell_type": "markdown",
   "id": "3544fa28",
   "metadata": {},
   "source": [
    "# Boston Airbnb 2022 "
   ]
  },
  {
   "cell_type": "markdown",
   "id": "81423fde",
   "metadata": {},
   "source": [
    "* [Medium Post](http://insideairbnb.com/get-the-data/)"
   ]
  },
  {
   "cell_type": "markdown",
   "id": "619e7694",
   "metadata": {},
   "source": [
    "## Index\n",
    "\n",
    "* [1. Introduction](#1)\n",
    "* [2. Data Preparation](#2)\n",
    "* [3. Exploratory Data Analysis](#3)\n",
    "* [4. Conclusion](#4)"
   ]
  },
  {
   "cell_type": "markdown",
   "id": "6ad95554",
   "metadata": {},
   "source": [
    "# Introduction <a class=\"anchor\" id=\"1\"></a>"
   ]
  },
  {
   "cell_type": "markdown",
   "id": "080a5ef3",
   "metadata": {},
   "source": [
    "Boston, Massachusetts is one of the most visited cities, more than 20 million passengers last year according to the [tuorism board statics](https://www.bostonusa.com/media/statistics-and-reports/). It’s no secret Boston is full of historic stories to tell, as well as soak up a great deal of street food and fun activites all day long. \n",
    "\n",
    "This post is aim to provide a basic sense of the rental supply with Airbnb in 2022, which will allow you to maximize the thrill of being there. This analysis is going to answer the following questions:\n",
    "\n",
    "* **How much will cost if you plan to visit the city?**\n",
    "* **Which kind of the room is more popular?**\n",
    "* **What are the popular amenities in the room?**\n",
    "* **Features importance**\n",
    "\n",
    "All the raw data come from the [Inside Airbnb database](http://insideairbnb.com/) 2022."
   ]
  },
  {
   "cell_type": "markdown",
   "id": "ed1bbaff",
   "metadata": {},
   "source": [
    "### Load Dataset"
   ]
  },
  {
   "cell_type": "code",
   "execution_count": 1,
   "id": "3c1bfa57",
   "metadata": {},
   "outputs": [],
   "source": [
    "import pandas as pd\n",
    "import numpy as np\n",
    "import matplotlib.pyplot as plt\n",
    "import seaborn as sns\n",
    "\n",
    "from sklearn.preprocessing import MinMaxScaler\n",
    "from sklearn.model_selection import train_test_split, GridSearchCV\n",
    "\n",
    "from sklearn.linear_model import LinearRegression\n",
    "from sklearn.ensemble import RandomForestRegressor\n",
    "\n",
    "\n",
    "%matplotlib inline\n",
    "\n",
    "import warnings\n",
    "warnings.filterwarnings('ignore')"
   ]
  },
  {
   "cell_type": "code",
   "execution_count": 2,
   "id": "be1a36d0",
   "metadata": {},
   "outputs": [],
   "source": [
    "# calendar = pd.read_csv(\"calendar.csv\")\n",
    "listings = pd.read_csv(\"listings.csv\")\n",
    "# reviews = pd.read_csv(\"reviews.csv\")"
   ]
  },
  {
   "cell_type": "code",
   "execution_count": 3,
   "id": "3e5bb32f",
   "metadata": {},
   "outputs": [
    {
     "data": {
      "text/plain": [
       "(4903, 74)"
      ]
     },
     "execution_count": 3,
     "metadata": {},
     "output_type": "execute_result"
    }
   ],
   "source": [
    "listings.shape"
   ]
  },
  {
   "cell_type": "markdown",
   "id": "f6d02e52",
   "metadata": {},
   "source": [
    "The whole listings has 4903 listings and 74  features. "
   ]
  },
  {
   "cell_type": "code",
   "execution_count": 4,
   "id": "7778ba68",
   "metadata": {},
   "outputs": [
    {
     "data": {
      "text/html": [
       "<div>\n",
       "<style scoped>\n",
       "    .dataframe tbody tr th:only-of-type {\n",
       "        vertical-align: middle;\n",
       "    }\n",
       "\n",
       "    .dataframe tbody tr th {\n",
       "        vertical-align: top;\n",
       "    }\n",
       "\n",
       "    .dataframe thead th {\n",
       "        text-align: right;\n",
       "    }\n",
       "</style>\n",
       "<table border=\"1\" class=\"dataframe\">\n",
       "  <thead>\n",
       "    <tr style=\"text-align: right;\">\n",
       "      <th></th>\n",
       "      <th>id</th>\n",
       "      <th>listing_url</th>\n",
       "      <th>scrape_id</th>\n",
       "      <th>last_scraped</th>\n",
       "      <th>name</th>\n",
       "      <th>description</th>\n",
       "      <th>neighborhood_overview</th>\n",
       "      <th>picture_url</th>\n",
       "      <th>host_id</th>\n",
       "      <th>host_url</th>\n",
       "      <th>...</th>\n",
       "      <th>review_scores_communication</th>\n",
       "      <th>review_scores_location</th>\n",
       "      <th>review_scores_value</th>\n",
       "      <th>license</th>\n",
       "      <th>instant_bookable</th>\n",
       "      <th>calculated_host_listings_count</th>\n",
       "      <th>calculated_host_listings_count_entire_homes</th>\n",
       "      <th>calculated_host_listings_count_private_rooms</th>\n",
       "      <th>calculated_host_listings_count_shared_rooms</th>\n",
       "      <th>reviews_per_month</th>\n",
       "    </tr>\n",
       "  </thead>\n",
       "  <tbody>\n",
       "    <tr>\n",
       "      <th>0</th>\n",
       "      <td>9569407.0</td>\n",
       "      <td>https://www.airbnb.com/rooms/9569407</td>\n",
       "      <td>2.022060e+13</td>\n",
       "      <td>6/13/22</td>\n",
       "      <td>Clean &amp; Cozy Newton/Boston College</td>\n",
       "      <td>Queen bed room in house near BC, near T statio...</td>\n",
       "      <td>NaN</td>\n",
       "      <td>https://a0.muscache.com/pictures/93cbba82-23be...</td>\n",
       "      <td>44920239</td>\n",
       "      <td>https://www.airbnb.com/users/show/44920239</td>\n",
       "      <td>...</td>\n",
       "      <td>5.0</td>\n",
       "      <td>4.92</td>\n",
       "      <td>4.77</td>\n",
       "      <td>NaN</td>\n",
       "      <td>f</td>\n",
       "      <td>2</td>\n",
       "      <td>0</td>\n",
       "      <td>2</td>\n",
       "      <td>0</td>\n",
       "      <td>0.17</td>\n",
       "    </tr>\n",
       "    <tr>\n",
       "      <th>1</th>\n",
       "      <td>31650137.0</td>\n",
       "      <td>https://www.airbnb.com/rooms/31650137</td>\n",
       "      <td>2.022060e+13</td>\n",
       "      <td>6/13/22</td>\n",
       "      <td>Cozy Queen Bedroom close to  Boston</td>\n",
       "      <td>Sunny room in a clean, quiet home. Very quiet ...</td>\n",
       "      <td>Many ethnic restaurants, shops and supermarket...</td>\n",
       "      <td>https://a0.muscache.com/pictures/253151c2-1432...</td>\n",
       "      <td>13005723</td>\n",
       "      <td>https://www.airbnb.com/users/show/13005723</td>\n",
       "      <td>...</td>\n",
       "      <td>5.0</td>\n",
       "      <td>4.84</td>\n",
       "      <td>4.92</td>\n",
       "      <td>NaN</td>\n",
       "      <td>t</td>\n",
       "      <td>3</td>\n",
       "      <td>0</td>\n",
       "      <td>3</td>\n",
       "      <td>0</td>\n",
       "      <td>3.60</td>\n",
       "    </tr>\n",
       "  </tbody>\n",
       "</table>\n",
       "<p>2 rows × 74 columns</p>\n",
       "</div>"
      ],
      "text/plain": [
       "           id                            listing_url     scrape_id  \\\n",
       "0   9569407.0   https://www.airbnb.com/rooms/9569407  2.022060e+13   \n",
       "1  31650137.0  https://www.airbnb.com/rooms/31650137  2.022060e+13   \n",
       "\n",
       "  last_scraped                                 name  \\\n",
       "0      6/13/22   Clean & Cozy Newton/Boston College   \n",
       "1      6/13/22  Cozy Queen Bedroom close to  Boston   \n",
       "\n",
       "                                         description  \\\n",
       "0  Queen bed room in house near BC, near T statio...   \n",
       "1  Sunny room in a clean, quiet home. Very quiet ...   \n",
       "\n",
       "                               neighborhood_overview  \\\n",
       "0                                                NaN   \n",
       "1  Many ethnic restaurants, shops and supermarket...   \n",
       "\n",
       "                                         picture_url   host_id  \\\n",
       "0  https://a0.muscache.com/pictures/93cbba82-23be...  44920239   \n",
       "1  https://a0.muscache.com/pictures/253151c2-1432...  13005723   \n",
       "\n",
       "                                     host_url  ...  \\\n",
       "0  https://www.airbnb.com/users/show/44920239  ...   \n",
       "1  https://www.airbnb.com/users/show/13005723  ...   \n",
       "\n",
       "  review_scores_communication review_scores_location review_scores_value  \\\n",
       "0                         5.0                   4.92                4.77   \n",
       "1                         5.0                   4.84                4.92   \n",
       "\n",
       "  license instant_bookable calculated_host_listings_count  \\\n",
       "0     NaN                f                              2   \n",
       "1     NaN                t                              3   \n",
       "\n",
       "  calculated_host_listings_count_entire_homes  \\\n",
       "0                                           0   \n",
       "1                                           0   \n",
       "\n",
       "  calculated_host_listings_count_private_rooms  \\\n",
       "0                                            2   \n",
       "1                                            3   \n",
       "\n",
       "  calculated_host_listings_count_shared_rooms reviews_per_month  \n",
       "0                                           0              0.17  \n",
       "1                                           0              3.60  \n",
       "\n",
       "[2 rows x 74 columns]"
      ]
     },
     "execution_count": 4,
     "metadata": {},
     "output_type": "execute_result"
    }
   ],
   "source": [
    "listings.head(2)"
   ]
  },
  {
   "cell_type": "markdown",
   "id": "5c7a2094",
   "metadata": {},
   "source": [
    "# Data Preparation <a class=\"anchor\" id=\"2\"></a>"
   ]
  },
  {
   "cell_type": "code",
   "execution_count": 5,
   "id": "b5910a00",
   "metadata": {},
   "outputs": [
    {
     "name": "stdout",
     "output_type": "stream",
     "text": [
      "id : 9569407.0\n",
      "listing_url : https://www.airbnb.com/rooms/9569407\n",
      "scrape_id : 20220600000000.0\n",
      "last_scraped : 6/13/22\n",
      "name : Clean & Cozy Newton/Boston College\n",
      "description : Queen bed room in house near BC, near T station (Newton Center/8 minutes walking)<br />Near restaurants, cafes, banks, parks, CVS, Panera Bread, pizzerias, bakery just across street<br /><br /><b>Other things to note</b><br />No use of stove, no cooking, no fry of any type, just use of microwave, toaster, hot water kettle, refrigerator.\n",
      "neighborhood_overview : nan\n",
      "picture_url : https://a0.muscache.com/pictures/93cbba82-23be-48e6-be5f-e6bd8c05ac07.jpg\n",
      "host_id : 44920239\n",
      "host_url : https://www.airbnb.com/users/show/44920239\n",
      "host_name : Marcia\n",
      "host_since : 9/23/15\n",
      "host_location : Newton, Massachusetts, United States\n",
      "host_about : I like to make new friends and travel\n",
      "host_response_time : within a few hours\n",
      "host_response_rate : 90%\n",
      "host_acceptance_rate : 22%\n",
      "host_is_superhost : f\n",
      "host_thumbnail_url : https://a0.muscache.com/im/users/44920239/profile_pic/1443043676/original.jpg?aki_policy=profile_small\n",
      "host_picture_url : https://a0.muscache.com/im/users/44920239/profile_pic/1443043676/original.jpg?aki_policy=profile_x_medium\n",
      "host_neighbourhood : Newton\n",
      "host_listings_count : 4\n",
      "host_total_listings_count : 4\n",
      "host_verifications : ['phone']\n",
      "host_has_profile_pic : t\n",
      "host_identity_verified : t\n",
      "neighbourhood : nan\n",
      "neighbourhood_cleansed : Brighton\n",
      "neighbourhood_group_cleansed : nan\n",
      "latitude : 42.33588\n",
      "longitude : -71.18811\n",
      "property_type : Private room in rental unit\n",
      "room_type : Private room\n",
      "accommodates : 1\n",
      "bathrooms : nan\n",
      "bathrooms_text : 1 shared bath\n",
      "bedrooms : 1.0\n",
      "beds : 1.0\n",
      "amenities : [\"Long term stays allowed\", \"Essentials\", \"Shampoo\", \"Washer\", \"Hair dryer\", \"Heating\", \"Iron\", \"Wifi\", \"Hangers\", \"Carbon monoxide alarm\", \"Free parking on premises\", \"Smoke alarm\", \"Dryer\", \"Lock on bedroom door\"]\n",
      "price : $60.00 \n",
      "minimum_nights : 91\n",
      "maximum_nights : 1125\n",
      "minimum_minimum_nights : 91.0\n",
      "maximum_minimum_nights : 91.0\n",
      "minimum_maximum_nights : 1125.0\n",
      "maximum_maximum_nights : 1125.0\n",
      "minimum_nights_avg_ntm : 91.0\n",
      "maximum_nights_avg_ntm : 1125.0\n",
      "calendar_updated : nan\n",
      "has_availability : t\n",
      "availability_30 : 0\n",
      "availability_60 : 0\n",
      "availability_90 : 0\n",
      "availability_365 : 255\n",
      "calendar_last_scraped : 6/13/22\n",
      "number_of_reviews : 13\n",
      "number_of_reviews_ltm : 0\n",
      "number_of_reviews_l30d : 0\n",
      "first_review : 3/25/16\n",
      "last_review : 9/2/19\n",
      "review_scores_rating : 4.85\n",
      "review_scores_accuracy : 5.0\n",
      "review_scores_cleanliness : 5.0\n",
      "review_scores_checkin : 5.0\n",
      "review_scores_communication : 5.0\n",
      "review_scores_location : 4.92\n",
      "review_scores_value : 4.77\n",
      "license : nan\n",
      "instant_bookable : f\n",
      "calculated_host_listings_count : 2\n",
      "calculated_host_listings_count_entire_homes : 0\n",
      "calculated_host_listings_count_private_rooms : 2\n",
      "calculated_host_listings_count_shared_rooms : 0\n",
      "reviews_per_month : 0.17\n"
     ]
    }
   ],
   "source": [
    "# take a look at the post information\n",
    "post_1 = listings.query(\"id==9569407.0\")\n",
    "for col in list(listings.columns):\n",
    "    print(col + \" : \" + str(post_1.loc[0, col]))"
   ]
  },
  {
   "cell_type": "code",
   "execution_count": 6,
   "id": "81afb975",
   "metadata": {},
   "outputs": [
    {
     "data": {
      "text/html": [
       "<div>\n",
       "<style scoped>\n",
       "    .dataframe tbody tr th:only-of-type {\n",
       "        vertical-align: middle;\n",
       "    }\n",
       "\n",
       "    .dataframe tbody tr th {\n",
       "        vertical-align: top;\n",
       "    }\n",
       "\n",
       "    .dataframe thead th {\n",
       "        text-align: right;\n",
       "    }\n",
       "</style>\n",
       "<table border=\"1\" class=\"dataframe\">\n",
       "  <thead>\n",
       "    <tr style=\"text-align: right;\">\n",
       "      <th></th>\n",
       "      <th>id</th>\n",
       "      <th>listing_url</th>\n",
       "      <th>scrape_id</th>\n",
       "      <th>last_scraped</th>\n",
       "      <th>name</th>\n",
       "      <th>description</th>\n",
       "      <th>neighborhood_overview</th>\n",
       "      <th>picture_url</th>\n",
       "      <th>host_id</th>\n",
       "      <th>host_url</th>\n",
       "      <th>...</th>\n",
       "      <th>review_scores_communication</th>\n",
       "      <th>review_scores_location</th>\n",
       "      <th>review_scores_value</th>\n",
       "      <th>license</th>\n",
       "      <th>instant_bookable</th>\n",
       "      <th>calculated_host_listings_count</th>\n",
       "      <th>calculated_host_listings_count_entire_homes</th>\n",
       "      <th>calculated_host_listings_count_private_rooms</th>\n",
       "      <th>calculated_host_listings_count_shared_rooms</th>\n",
       "      <th>reviews_per_month</th>\n",
       "    </tr>\n",
       "  </thead>\n",
       "  <tbody>\n",
       "  </tbody>\n",
       "</table>\n",
       "<p>0 rows × 74 columns</p>\n",
       "</div>"
      ],
      "text/plain": [
       "Empty DataFrame\n",
       "Columns: [id, listing_url, scrape_id, last_scraped, name, description, neighborhood_overview, picture_url, host_id, host_url, host_name, host_since, host_location, host_about, host_response_time, host_response_rate, host_acceptance_rate, host_is_superhost, host_thumbnail_url, host_picture_url, host_neighbourhood, host_listings_count, host_total_listings_count, host_verifications, host_has_profile_pic, host_identity_verified, neighbourhood, neighbourhood_cleansed, neighbourhood_group_cleansed, latitude, longitude, property_type, room_type, accommodates, bathrooms, bathrooms_text, bedrooms, beds, amenities, price, minimum_nights, maximum_nights, minimum_minimum_nights, maximum_minimum_nights, minimum_maximum_nights, maximum_maximum_nights, minimum_nights_avg_ntm, maximum_nights_avg_ntm, calendar_updated, has_availability, availability_30, availability_60, availability_90, availability_365, calendar_last_scraped, number_of_reviews, number_of_reviews_ltm, number_of_reviews_l30d, first_review, last_review, review_scores_rating, review_scores_accuracy, review_scores_cleanliness, review_scores_checkin, review_scores_communication, review_scores_location, review_scores_value, license, instant_bookable, calculated_host_listings_count, calculated_host_listings_count_entire_homes, calculated_host_listings_count_private_rooms, calculated_host_listings_count_shared_rooms, reviews_per_month]\n",
       "Index: []\n",
       "\n",
       "[0 rows x 74 columns]"
      ]
     },
     "execution_count": 6,
     "metadata": {},
     "output_type": "execute_result"
    }
   ],
   "source": [
    "# check duplicates\n",
    "listings[listings.duplicated()]"
   ]
  },
  {
   "cell_type": "code",
   "execution_count": 7,
   "id": "fea0f4f7",
   "metadata": {},
   "outputs": [
    {
     "data": {
      "text/plain": [
       "Index(['neighbourhood_group_cleansed', 'bathrooms', 'calendar_updated'], dtype='object')"
      ]
     },
     "execution_count": 7,
     "metadata": {},
     "output_type": "execute_result"
    }
   ],
   "source": [
    "#check empty columns\n",
    "listings.columns[listings.isnull().sum()/listings.shape[0]==1]"
   ]
  },
  {
   "cell_type": "code",
   "execution_count": 8,
   "id": "ff618c8b",
   "metadata": {},
   "outputs": [],
   "source": [
    "# drop empty columns\n",
    "listings = listings.drop(columns=['neighbourhood_group_cleansed', 'bathrooms', 'calendar_updated'])"
   ]
  },
  {
   "cell_type": "code",
   "execution_count": 9,
   "id": "8f9bfe03",
   "metadata": {},
   "outputs": [],
   "source": [
    "# convert price to numeric\n",
    "listings['price'] = listings['price'].apply(lambda x: float(x.replace(\",\", \"\")[1:]) if x is not None else 0)"
   ]
  },
  {
   "cell_type": "markdown",
   "id": "a6bce557",
   "metadata": {},
   "source": [
    "**Amenities cleanup**\n",
    "\n",
    "Because of the descriptions of amentities are vary. I plan to extract the most frquently appearred words and create my own list of amentities."
   ]
  },
  {
   "cell_type": "code",
   "execution_count": 10,
   "id": "96e03249",
   "metadata": {},
   "outputs": [
    {
     "data": {
      "text/plain": [
       "[('', 137190),\n",
       " ('alarm', 9231),\n",
       " ('dryer', 7472),\n",
       " ('allowed', 5911),\n",
       " ('and', 5642),\n",
       " ('wifi', 4927),\n",
       " ('smoke', 4732),\n",
       " ('tv', 4687),\n",
       " ('hot', 4685),\n",
       " ('long', 4595),\n",
       " ('stays', 4595),\n",
       " ('term', 4595),\n",
       " ('water', 4586),\n",
       " ('heating', 4561),\n",
       " ('carbon', 4499),\n",
       " ('monoxide', 4499),\n",
       " ('essentials', 4483),\n",
       " ('kitchen', 4379),\n",
       " ('hangers', 4259),\n",
       " ('hair', 4085),\n",
       " ('iron', 4042),\n",
       " ('on', 4042),\n",
       " ('parking', 3952),\n",
       " ('air', 3951),\n",
       " ('conditioning', 3950),\n",
       " ('shampoo', 3896),\n",
       " ('coffee', 3692),\n",
       " ('refrigerator', 3567),\n",
       " ('washer', 3548),\n",
       " ('maker', 3533),\n",
       " ('microwave', 3429),\n",
       " ('free', 3365),\n",
       " ('dishes', 3114),\n",
       " ('silverware', 3114),\n",
       " ('bed', 3105),\n",
       " ('linens', 3102),\n",
       " ('fire', 2979),\n",
       " ('cooking', 2953),\n",
       " ('basics', 2952),\n",
       " ('extinguisher', 2852),\n",
       " ('oven', 2825),\n",
       " ('stove', 2558),\n",
       " ('premises', 2545),\n",
       " ('private', 2337),\n",
       " ('cable', 2277),\n",
       " ('dishwasher', 2158),\n",
       " ('aid', 1883),\n",
       " ('kit', 1880),\n",
       " ('first', 1880),\n",
       " ('pillows', 1841)]"
      ]
     },
     "execution_count": 10,
     "metadata": {},
     "output_type": "execute_result"
    }
   ],
   "source": [
    "# find out the word most frequently appeared in amenities\n",
    "amenities_word = []\n",
    "for i in listings.amenities:\n",
    "    i = i.replace('[', '').replace(']', '').replace('\"', '')\n",
    "    for j in i.split(','): \n",
    "#         print(type(j))\n",
    "        for w in j.split(' '):\n",
    "           amenities_word.append(w.lower()) \n",
    "\n",
    "word_dict = {}\n",
    "for i in list(set(amenities_word)):\n",
    "    word_dict[i] = amenities_word.count(i)\n",
    "word_dict = sorted(word_dict.items(), key=lambda item: item[1], reverse=True)\n",
    "word_dict[:50]"
   ]
  },
  {
   "cell_type": "code",
   "execution_count": 11,
   "id": "928137ec",
   "metadata": {},
   "outputs": [],
   "source": [
    "# Based on the above result and create the most populer amenities  list\n",
    "top_amenities_word = ['alarm', 'dryer', 'wifi', 'tv', 'essentials', 'kitchen','hangers' 'iron',\n",
    "                             'parking','shampoo', 'coffee',\n",
    "                             'refrigerator', 'washer', 'microwave','dishes', 'silverware','Bed','cooking', 'basics',\n",
    "                             'extinguisher','oven','stove','cable','dishwasher', 'lock','balcony', 'patio']"
   ]
  },
  {
   "cell_type": "code",
   "execution_count": 64,
   "id": "d33cda92",
   "metadata": {},
   "outputs": [],
   "source": [
    "# find the pharse contains those words in the post\n",
    "amenities_terms = set()\n",
    "for i in listings.amenities:\n",
    "#     print(i)\n",
    "    i = i.replace('[', '').replace(']', '').replace('\"', '')\n",
    "    for j in i.split(','):\n",
    "#         print(j)\n",
    "        amenities_terms.add(j)\n",
    "\n",
    "\n",
    "popular_amenities=[]\n",
    "for w in top_amenities_word: \n",
    "    for a in amenities_terms:\n",
    "        if w in a.lower():\n",
    "            popular_amenities.append(a)\n",
    "# set(popular_amenities)"
   ]
  },
  {
   "cell_type": "code",
   "execution_count": 13,
   "id": "99b1840e",
   "metadata": {},
   "outputs": [],
   "source": [
    "# More accurate amenitie terms \n",
    "popular_amenitie_modified = ['Smoke alarm', 'Dryer', 'Wifi', 'TV', 'Essentials', 'Kitchen','Hangers', 'Iron',\n",
    "                             'Parking','Shampoo', 'Coffee maker',\n",
    "                             'Refrigerator', 'Washer', 'Microwave','Dishes and silverware','Bed','Cooking basics',\n",
    "                             'Fire extinguisher','Oven','Stove','Cable','Dishwasher', 'Lock','Balcony', 'Patio']"
   ]
  },
  {
   "cell_type": "markdown",
   "id": "0d46304c",
   "metadata": {},
   "source": [
    "Finally, I created a list with top 30 amenities for quantitative analysis of amenity features.  "
   ]
  },
  {
   "cell_type": "code",
   "execution_count": 14,
   "id": "adacc796",
   "metadata": {},
   "outputs": [],
   "source": [
    "# drop columns that not relavent, such as url links, that are not needed for analysis\n",
    "# col_remove = ['listing_url', 'name', 'host_name', 'scrape_id', 'last_scraped', 'description','neighborhood_overview', 'picture_url',  'host_url',\n",
    "#         'host_about', 'host_response_time',  'host_thumbnail_url', 'host_picture_url',\n",
    "#        'host_neighbourhood',  'host_verifications', 'neighbourhood',\n",
    "#      'neighbourhood_group_cleansed',  'bathrooms_text',  \n",
    "#      'minimum_minimum_nights', 'maximum_minimum_nights', 'minimum_maximum_nights',\n",
    "#        'maximum_maximum_nights', 'minimum_nights_avg_ntm', 'bathrooms',\n",
    "#        'maximum_nights_avg_ntm', 'calendar_updated', 'has_availability',\n",
    "#        'availability_30', 'availability_60', 'availability_90', 'calendar_last_scraped', \n",
    "#        'number_of_reviews_ltm', 'number_of_reviews_l30d', 'first_review',\n",
    "#        'last_review', 'instant_bookable',  'calculated_host_listings_count',\n",
    "#        'calculated_host_listings_count_entire_homes',\n",
    "#        'calculated_host_listings_count_private_rooms',\n",
    "#        'calculated_host_listings_count_shared_rooms']\n",
    "# listings_cleaned = listings.drop(columns = col_remove)"
   ]
  },
  {
   "cell_type": "markdown",
   "id": "a9f6730e",
   "metadata": {},
   "source": [
    "# Exploratory Data Analysis <a class=\"anchor\" id=\"3\"></a>"
   ]
  },
  {
   "cell_type": "markdown",
   "id": "19dc0cd2",
   "metadata": {},
   "source": [
    "**Q1: What are the Airbnb room types? Which one is more popular? What part of the city does these room located?**"
   ]
  },
  {
   "cell_type": "code",
   "execution_count": 15,
   "id": "b1cebfa2",
   "metadata": {},
   "outputs": [
    {
     "data": {
      "text/plain": [
       "Entire home/apt    65.878034\n",
       "Private room       33.081787\n",
       "Shared room         0.550683\n",
       "Hotel room          0.489496\n",
       "Name: room_type, dtype: float64"
      ]
     },
     "execution_count": 15,
     "metadata": {},
     "output_type": "execute_result"
    }
   ],
   "source": [
    "# Roome type and percentage\n",
    "listings['room_type'].value_counts()/listings.shape[0]*100"
   ]
  },
  {
   "cell_type": "markdown",
   "id": "c54a05d8",
   "metadata": {},
   "source": [
    "There are four types of rooms available: Entire home, Private, Hotel, and Shared rooms."
   ]
  },
  {
   "cell_type": "code",
   "execution_count": 16,
   "id": "02ce20e0",
   "metadata": {},
   "outputs": [
    {
     "data": {
      "text/plain": [
       "(26,\n",
       " array(['Brighton', 'Charlestown', 'Roslindale', 'Dorchester', 'South End',\n",
       "        'Fenway', 'Jamaica Plain', 'Beacon Hill', 'South Boston',\n",
       "        'Back Bay', 'Downtown', 'North End', 'Allston', 'Bay Village',\n",
       "        'Hyde Park', 'Roxbury', 'West Roxbury', 'East Boston', 'West End',\n",
       "        'Mission Hill', 'Mattapan', 'Chinatown', 'Longwood Medical Area',\n",
       "        'South Boston Waterfront', 'Leather District', 'Harbor Islands'],\n",
       "       dtype=object))"
      ]
     },
     "execution_count": 16,
     "metadata": {},
     "output_type": "execute_result"
    }
   ],
   "source": [
    "# Where are these rooms are located?\n",
    "listings.neighbourhood_cleansed.nunique(), listings.neighbourhood_cleansed.unique()"
   ]
  },
  {
   "cell_type": "code",
   "execution_count": 17,
   "id": "4af93b7d",
   "metadata": {},
   "outputs": [
    {
     "data": {
      "image/png": "[encoded data removed]",
      "text/plain": [
       "<Figure size 1080x432 with 1 Axes>"
      ]
     },
     "metadata": {
      "needs_background": "light"
     },
     "output_type": "display_data"
    }
   ],
   "source": [
    "# popular neighbourhood\n",
    "fig =plt.figure(figsize=(15,6))\n",
    "\n",
    "sns.countplot(data =listings, x=\"neighbourhood_cleansed\", \n",
    "              order = listings['neighbourhood_cleansed'].value_counts().index)\n",
    "plt.xticks(rotation=45)\n",
    "plt.title('Proportion of rooms across all neighbourhoods', fontsize=20)\n",
    "plt.xlabel('Neighbourhood', fontsize=14)\n",
    "plt.ylabel('Count', fontsize=14);"
   ]
  },
  {
   "cell_type": "code",
   "execution_count": 18,
   "id": "571af67e",
   "metadata": {},
   "outputs": [
    {
     "data": {
      "text/plain": [
       "Index(['Allston', 'Dorchester', 'Brighton', 'Charlestown', 'East Boston',\n",
       "       'Downtown', 'Roxbury', 'Back Bay', 'South End', 'Jamaica Plain',\n",
       "       'Fenway', 'Beacon Hill', 'South Boston', 'West End', 'Mission Hill',\n",
       "       'North End', 'Chinatown', 'West Roxbury', 'Roslindale',\n",
       "       'Longwood Medical Area', 'Hyde Park', 'Bay Village', 'Mattapan',\n",
       "       'South Boston Waterfront', 'Harbor Islands', 'Leather District'],\n",
       "      dtype='object')"
      ]
     },
     "execution_count": 18,
     "metadata": {},
     "output_type": "execute_result"
    }
   ],
   "source": [
    "listings['neighbourhood_cleansed'].value_counts().index"
   ]
  },
  {
   "cell_type": "markdown",
   "id": "1a81245f",
   "metadata": {},
   "source": [
    "The top 1 neighborhood that has the most Airbnb rooms is Allston, which has more than 700 rooms, followed by Dorchester, Brighton, Charlestown, and East Boston. "
   ]
  },
  {
   "cell_type": "markdown",
   "id": "cbcb3b75",
   "metadata": {},
   "source": [
    "**Q2:Are the Airbnb rooms expensive? How much will it cost?**"
   ]
  },
  {
   "cell_type": "code",
   "execution_count": 19,
   "id": "cdc7f2fd",
   "metadata": {},
   "outputs": [
    {
     "data": {
      "image/png": "[encoded data removed]",
      "text/plain": [
       "<Figure size 432x288 with 1 Axes>"
      ]
     },
     "metadata": {
      "needs_background": "light"
     },
     "output_type": "display_data"
    }
   ],
   "source": [
    "listings.price.hist(figsize=(6,4));"
   ]
  },
  {
   "cell_type": "code",
   "execution_count": 20,
   "id": "d99edfa8",
   "metadata": {},
   "outputs": [
    {
     "name": "stdout",
     "output_type": "stream",
     "text": [
      "188.0 \n",
      " 251.84 \n",
      " 611.0 \n",
      " 949.76\n"
     ]
    }
   ],
   "source": [
    "# price is left skewed, \n",
    "print(listings['price'].median(), \"\\n\",\n",
    "round(listings['price'].mean(), 2), \"\\n\",\n",
    "round(listings['price'].quantile(.95),2),\"\\n\",\n",
    "round(listings['price'].quantile(.98),2))"
   ]
  },
  {
   "cell_type": "markdown",
   "id": "5ea0d1d9",
   "metadata": {},
   "source": [
    "98% of the romm pirce is less than 1000, and around 95% less than 600. "
   ]
  },
  {
   "cell_type": "code",
   "execution_count": 21,
   "id": "6a430a21",
   "metadata": {},
   "outputs": [
    {
     "data": {
      "image/png": "[encoded data removed]",
      "text/plain": [
       "<Figure size 1152x576 with 2 Axes>"
      ]
     },
     "metadata": {
      "needs_background": "light"
     },
     "output_type": "display_data"
    }
   ],
   "source": [
    "#price distribution less than 600\n",
    "\n",
    "plt.figure(figsize=(16,8))\n",
    "\n",
    "plt.subplot(1,2,1)\n",
    "listings[listings['price']<= 600]['price'].hist( bins=20, density=True)\n",
    "plt.xlabel('Price', fontsize=18)\n",
    "plt.ylabel('Count', fontsize=18)\n",
    "plt.title('Price Distribution', fontsize=20)\n",
    "listings[listings['price']<= 600]['price'].plot( kind ='kde', linewidth=4)\n",
    "plt.figtext(0.4, 0.8, 'Overall', fontsize=20)\n",
    "plt.xlim([0, 600])\n",
    "\n",
    "plt.subplot(1,2,2)\n",
    "listings[(listings['price']<= 600) & ((listings['neighbourhood_cleansed']== 'Downtown') | \n",
    "         (listings['neighbourhood_cleansed']== 'West End') |\n",
    "         (listings['neighbourhood_cleansed']== 'North End'))]['price'].hist( bins=20, density=True)\n",
    "plt.xlabel('Price', fontsize=18)\n",
    "plt.ylabel('Count', fontsize=18)\n",
    "plt.title('Price Distribution', fontsize=20)\n",
    "listings[(listings['price']<= 600) & ((listings['neighbourhood_cleansed']== 'Downtown') |\n",
    "         (listings['neighbourhood_cleansed']== 'West End') |\n",
    "         (listings['neighbourhood_cleansed']== 'North End'))]['price'].plot(kind ='kde', linewidth=4)\n",
    "plt.figtext(0.8, 0.8, 'Downtown', fontsize=20)\n",
    "plt.figtext(0.8, 0.75, 'West End', fontsize=20)\n",
    "plt.figtext(0.8, 0.7, 'North End', fontsize=20)\n",
    "plt.xlim([0, 600]);"
   ]
  },
  {
   "cell_type": "markdown",
   "id": "5cfe575f",
   "metadata": {},
   "source": [
    "More than half of the rooms range from 50 to 300 dollars per night.. While in the three central neighborhoods (right) where the attractions are mainly located, the price goes up and ranges from 100 to 400 dollars per night."
   ]
  },
  {
   "cell_type": "markdown",
   "id": "30c75198",
   "metadata": {},
   "source": [
    "#### Since the price may higher with more accommodates or vary within different room types. I would like to plot the price with accommodates and room types."
   ]
  },
  {
   "cell_type": "code",
   "execution_count": 22,
   "id": "2d89fa0f",
   "metadata": {},
   "outputs": [
    {
     "data": {
      "text/plain": [
       "array([ 1,  5,  2,  8,  4,  6,  3,  7,  9, 12, 10, 16, 13, 15, 14,  0, 11],\n",
       "      dtype=int64)"
      ]
     },
     "execution_count": 22,
     "metadata": {},
     "output_type": "execute_result"
    }
   ],
   "source": [
    "# accommodates\n",
    "listings.accommodates.unique()"
   ]
  },
  {
   "cell_type": "code",
   "execution_count": 23,
   "id": "3235f853",
   "metadata": {},
   "outputs": [
    {
     "data": {
      "text/plain": [
       "Int64Index([1873], dtype='int64')"
      ]
     },
     "execution_count": 23,
     "metadata": {},
     "output_type": "execute_result"
    }
   ],
   "source": [
    "# drop accommodate equeal 0\n",
    "listings[listings['accommodates'] == 0].index"
   ]
  },
  {
   "cell_type": "code",
   "execution_count": 24,
   "id": "0d974b16",
   "metadata": {},
   "outputs": [],
   "source": [
    "listings = listings.drop(index=1873)"
   ]
  },
  {
   "cell_type": "code",
   "execution_count": 25,
   "id": "a1147fba",
   "metadata": {},
   "outputs": [
    {
     "data": {
      "image/png": "[encoded data removed]",
      "text/plain": [
       "<Figure size 864x432 with 1 Axes>"
      ]
     },
     "metadata": {
      "needs_background": "light"
     },
     "output_type": "display_data"
    }
   ],
   "source": [
    "# average price for different accomodate for different room type\n",
    "fig = plt.figure(figsize=(12,6))\n",
    "sns.barplot(data =listings, x='accommodates', y ='price', hue=\"room_type\");\n",
    "plt.title('Average cost based on accomodates', fontsize=18)\n",
    "plt.legend(loc='upper left')\n",
    "plt.xlabel('Accommodates', fontsize=14)\n",
    "plt.ylabel('Average Price', fontsize=14);"
   ]
  },
  {
   "cell_type": "code",
   "execution_count": 26,
   "id": "ea704c6f",
   "metadata": {},
   "outputs": [
    {
     "data": {
      "text/html": [
       "<div>\n",
       "<style scoped>\n",
       "    .dataframe tbody tr th:only-of-type {\n",
       "        vertical-align: middle;\n",
       "    }\n",
       "\n",
       "    .dataframe tbody tr th {\n",
       "        vertical-align: top;\n",
       "    }\n",
       "\n",
       "    .dataframe thead th {\n",
       "        text-align: right;\n",
       "    }\n",
       "</style>\n",
       "<table border=\"1\" class=\"dataframe\">\n",
       "  <thead>\n",
       "    <tr style=\"text-align: right;\">\n",
       "      <th></th>\n",
       "      <th>id</th>\n",
       "      <th>listing_url</th>\n",
       "      <th>scrape_id</th>\n",
       "      <th>last_scraped</th>\n",
       "      <th>name</th>\n",
       "      <th>description</th>\n",
       "      <th>neighborhood_overview</th>\n",
       "      <th>picture_url</th>\n",
       "      <th>host_id</th>\n",
       "      <th>host_url</th>\n",
       "      <th>...</th>\n",
       "      <th>review_scores_communication</th>\n",
       "      <th>review_scores_location</th>\n",
       "      <th>review_scores_value</th>\n",
       "      <th>license</th>\n",
       "      <th>instant_bookable</th>\n",
       "      <th>calculated_host_listings_count</th>\n",
       "      <th>calculated_host_listings_count_entire_homes</th>\n",
       "      <th>calculated_host_listings_count_private_rooms</th>\n",
       "      <th>calculated_host_listings_count_shared_rooms</th>\n",
       "      <th>reviews_per_month</th>\n",
       "    </tr>\n",
       "  </thead>\n",
       "  <tbody>\n",
       "    <tr>\n",
       "      <th>191</th>\n",
       "      <td>6838488.0</td>\n",
       "      <td>https://www.airbnb.com/rooms/6838488</td>\n",
       "      <td>2.022060e+13</td>\n",
       "      <td>6/13/22</td>\n",
       "      <td>Beautiful Townhouse Unit #2 nr Harvard U. w/ pk</td>\n",
       "      <td>Enjoy a stay at one of Boston's best vacation ...</td>\n",
       "      <td>Lovely, peaceful residential neighborhood with...</td>\n",
       "      <td>https://a0.muscache.com/pictures/6cf132c6-58a0...</td>\n",
       "      <td>14785487</td>\n",
       "      <td>https://www.airbnb.com/users/show/14785487</td>\n",
       "      <td>...</td>\n",
       "      <td>4.59</td>\n",
       "      <td>4.79</td>\n",
       "      <td>4.34</td>\n",
       "      <td>NaN</td>\n",
       "      <td>f</td>\n",
       "      <td>7</td>\n",
       "      <td>4</td>\n",
       "      <td>3</td>\n",
       "      <td>0</td>\n",
       "      <td>0.43</td>\n",
       "    </tr>\n",
       "  </tbody>\n",
       "</table>\n",
       "<p>1 rows × 71 columns</p>\n",
       "</div>"
      ],
      "text/plain": [
       "            id                           listing_url     scrape_id  \\\n",
       "191  6838488.0  https://www.airbnb.com/rooms/6838488  2.022060e+13   \n",
       "\n",
       "    last_scraped                                             name  \\\n",
       "191      6/13/22  Beautiful Townhouse Unit #2 nr Harvard U. w/ pk   \n",
       "\n",
       "                                           description  \\\n",
       "191  Enjoy a stay at one of Boston's best vacation ...   \n",
       "\n",
       "                                 neighborhood_overview  \\\n",
       "191  Lovely, peaceful residential neighborhood with...   \n",
       "\n",
       "                                           picture_url   host_id  \\\n",
       "191  https://a0.muscache.com/pictures/6cf132c6-58a0...  14785487   \n",
       "\n",
       "                                       host_url  ...  \\\n",
       "191  https://www.airbnb.com/users/show/14785487  ...   \n",
       "\n",
       "    review_scores_communication review_scores_location review_scores_value  \\\n",
       "191                        4.59                   4.79                4.34   \n",
       "\n",
       "    license instant_bookable calculated_host_listings_count  \\\n",
       "191     NaN                f                              7   \n",
       "\n",
       "    calculated_host_listings_count_entire_homes  \\\n",
       "191                                           4   \n",
       "\n",
       "    calculated_host_listings_count_private_rooms  \\\n",
       "191                                            3   \n",
       "\n",
       "    calculated_host_listings_count_shared_rooms reviews_per_month  \n",
       "191                                           0              0.43  \n",
       "\n",
       "[1 rows x 71 columns]"
      ]
     },
     "execution_count": 26,
     "metadata": {},
     "output_type": "execute_result"
    }
   ],
   "source": [
    "# find and remove the  outliner\n",
    "listings[(listings['accommodates']==7) & (listings['room_type']=='Private room')]"
   ]
  },
  {
   "cell_type": "code",
   "execution_count": 27,
   "id": "54584d9e",
   "metadata": {},
   "outputs": [],
   "source": [
    "listings = listings.drop(index=191)"
   ]
  },
  {
   "cell_type": "code",
   "execution_count": 28,
   "id": "72be09bd",
   "metadata": {},
   "outputs": [
    {
     "data": {
      "image/png": "[encoded data removed]",
      "text/plain": [
       "<Figure size 1080x432 with 1 Axes>"
      ]
     },
     "metadata": {
      "needs_background": "light"
     },
     "output_type": "display_data"
    }
   ],
   "source": [
    "# after remove the outlier\n",
    "fig = plt.figure(figsize=(15,6))\n",
    "sns.barplot(data =listings, x='accommodates', y ='price', hue=\"room_type\", ci=None)\n",
    "plt.title('Average cost based on accomodates', fontsize=18)\n",
    "plt.xlabel('Accommodates', fontsize=14)\n",
    "plt.ylabel('Average Price', fontsize=14);\n",
    "plt.legend(loc='upper left');"
   ]
  },
  {
   "cell_type": "code",
   "execution_count": 29,
   "id": "8b51d15e",
   "metadata": {},
   "outputs": [
    {
     "data": {
      "text/plain": [
       "81.21999431030986"
      ]
     },
     "execution_count": 29,
     "metadata": {},
     "output_type": "execute_result"
    }
   ],
   "source": [
    "# price per person\n",
    "\n",
    "(listings.price/listings.accommodates).mean()"
   ]
  },
  {
   "cell_type": "markdown",
   "id": "fadc8594",
   "metadata": {},
   "source": [
    "It seems the average cost of private room is always lower than Entire home regardless of the number of accommodates. Hotel is extremely expensive for a two-person room, and the price become similar or even cheaper with more people when compared that with other room types. The overall average cost per person per night is around $80 per night per person"
   ]
  },
  {
   "cell_type": "code",
   "execution_count": 30,
   "id": "a6475800",
   "metadata": {},
   "outputs": [
    {
     "data": {
      "image/png": "[encoded data removed]",
      "text/plain": [
       "<Figure size 1080x432 with 1 Axes>"
      ]
     },
     "metadata": {
      "needs_background": "light"
     },
     "output_type": "display_data"
    }
   ],
   "source": [
    "# availability\n",
    "fig3 = plt.figure(figsize=(15,6))\n",
    "sns.barplot(data =listings, x='accommodates', y ='availability_365', hue=\"room_type\", ci=None)\n",
    "# plt.title('Average cost based on accomodates', fontsize=18)\n",
    "plt.xlabel('Accommodates', fontsize=14)\n",
    "plt.ylabel('Days availabile per year', fontsize=14)\n",
    "plt.legend(loc='upper right');"
   ]
  },
  {
   "cell_type": "markdown",
   "id": "aadbe065",
   "metadata": {},
   "source": [
    "**Q3:What are the most popular amenities inside the rooms?**"
   ]
  },
  {
   "cell_type": "code",
   "execution_count": 31,
   "id": "2b472650",
   "metadata": {},
   "outputs": [
    {
     "data": {
      "text/html": [
       "<div>\n",
       "<style scoped>\n",
       "    .dataframe tbody tr th:only-of-type {\n",
       "        vertical-align: middle;\n",
       "    }\n",
       "\n",
       "    .dataframe tbody tr th {\n",
       "        vertical-align: top;\n",
       "    }\n",
       "\n",
       "    .dataframe thead th {\n",
       "        text-align: right;\n",
       "    }\n",
       "</style>\n",
       "<table border=\"1\" class=\"dataframe\">\n",
       "  <thead>\n",
       "    <tr style=\"text-align: right;\">\n",
       "      <th></th>\n",
       "      <th>id</th>\n",
       "      <th>amenities</th>\n",
       "    </tr>\n",
       "  </thead>\n",
       "  <tbody>\n",
       "    <tr>\n",
       "      <th>0</th>\n",
       "      <td>9569407.0</td>\n",
       "      <td>[\"Long term stays allowed\", \"Essentials\", \"Sha...</td>\n",
       "    </tr>\n",
       "    <tr>\n",
       "      <th>1</th>\n",
       "      <td>31650137.0</td>\n",
       "      <td>[\"Kitchen\", \"Long term stays allowed\", \"Coffee...</td>\n",
       "    </tr>\n",
       "    <tr>\n",
       "      <th>2</th>\n",
       "      <td>1724900.0</td>\n",
       "      <td>[\"Kitchen\", \"Long term stays allowed\", \"Coffee...</td>\n",
       "    </tr>\n",
       "    <tr>\n",
       "      <th>3</th>\n",
       "      <td>1732804.0</td>\n",
       "      <td>[\"Kitchen\", \"Long term stays allowed\", \"Coffee...</td>\n",
       "    </tr>\n",
       "    <tr>\n",
       "      <th>4</th>\n",
       "      <td>1810172.0</td>\n",
       "      <td>[\"Kitchen\", \"Long term stays allowed\", \"Bathtu...</td>\n",
       "    </tr>\n",
       "  </tbody>\n",
       "</table>\n",
       "</div>"
      ],
      "text/plain": [
       "           id                                          amenities\n",
       "0   9569407.0  [\"Long term stays allowed\", \"Essentials\", \"Sha...\n",
       "1  31650137.0  [\"Kitchen\", \"Long term stays allowed\", \"Coffee...\n",
       "2   1724900.0  [\"Kitchen\", \"Long term stays allowed\", \"Coffee...\n",
       "3   1732804.0  [\"Kitchen\", \"Long term stays allowed\", \"Coffee...\n",
       "4   1810172.0  [\"Kitchen\", \"Long term stays allowed\", \"Bathtu..."
      ]
     },
     "execution_count": 31,
     "metadata": {},
     "output_type": "execute_result"
    }
   ],
   "source": [
    "# amenities analysis\n",
    "listings_amenities = listings[['id', 'amenities']]\n",
    "listings_amenities.head()"
   ]
  },
  {
   "cell_type": "code",
   "execution_count": 32,
   "id": "3b1685e2",
   "metadata": {},
   "outputs": [
    {
     "data": {
      "text/html": [
       "<div>\n",
       "<style scoped>\n",
       "    .dataframe tbody tr th:only-of-type {\n",
       "        vertical-align: middle;\n",
       "    }\n",
       "\n",
       "    .dataframe tbody tr th {\n",
       "        vertical-align: top;\n",
       "    }\n",
       "\n",
       "    .dataframe thead th {\n",
       "        text-align: right;\n",
       "    }\n",
       "</style>\n",
       "<table border=\"1\" class=\"dataframe\">\n",
       "  <thead>\n",
       "    <tr style=\"text-align: right;\">\n",
       "      <th></th>\n",
       "      <th>id</th>\n",
       "      <th>amenities</th>\n",
       "      <th>Smoke alarm</th>\n",
       "      <th>Dryer</th>\n",
       "      <th>Wifi</th>\n",
       "      <th>TV</th>\n",
       "      <th>Essentials</th>\n",
       "      <th>Kitchen</th>\n",
       "      <th>Hangers</th>\n",
       "      <th>Iron</th>\n",
       "      <th>...</th>\n",
       "      <th>Bed</th>\n",
       "      <th>Cooking basics</th>\n",
       "      <th>Fire extinguisher</th>\n",
       "      <th>Oven</th>\n",
       "      <th>Stove</th>\n",
       "      <th>Cable</th>\n",
       "      <th>Dishwasher</th>\n",
       "      <th>Lock</th>\n",
       "      <th>Balcony</th>\n",
       "      <th>Patio</th>\n",
       "    </tr>\n",
       "  </thead>\n",
       "  <tbody>\n",
       "    <tr>\n",
       "      <th>0</th>\n",
       "      <td>9569407.0</td>\n",
       "      <td>[\"Long term stays allowed\", \"Essentials\", \"Sha...</td>\n",
       "      <td>1</td>\n",
       "      <td>1</td>\n",
       "      <td>1</td>\n",
       "      <td>0</td>\n",
       "      <td>1</td>\n",
       "      <td>0</td>\n",
       "      <td>1</td>\n",
       "      <td>1</td>\n",
       "      <td>...</td>\n",
       "      <td>1</td>\n",
       "      <td>0</td>\n",
       "      <td>0</td>\n",
       "      <td>0</td>\n",
       "      <td>0</td>\n",
       "      <td>0</td>\n",
       "      <td>0</td>\n",
       "      <td>1</td>\n",
       "      <td>0</td>\n",
       "      <td>0</td>\n",
       "    </tr>\n",
       "    <tr>\n",
       "      <th>1</th>\n",
       "      <td>31650137.0</td>\n",
       "      <td>[\"Kitchen\", \"Long term stays allowed\", \"Coffee...</td>\n",
       "      <td>1</td>\n",
       "      <td>1</td>\n",
       "      <td>1</td>\n",
       "      <td>0</td>\n",
       "      <td>1</td>\n",
       "      <td>1</td>\n",
       "      <td>1</td>\n",
       "      <td>1</td>\n",
       "      <td>...</td>\n",
       "      <td>1</td>\n",
       "      <td>1</td>\n",
       "      <td>1</td>\n",
       "      <td>1</td>\n",
       "      <td>1</td>\n",
       "      <td>0</td>\n",
       "      <td>0</td>\n",
       "      <td>1</td>\n",
       "      <td>0</td>\n",
       "      <td>0</td>\n",
       "    </tr>\n",
       "    <tr>\n",
       "      <th>2</th>\n",
       "      <td>1724900.0</td>\n",
       "      <td>[\"Kitchen\", \"Long term stays allowed\", \"Coffee...</td>\n",
       "      <td>1</td>\n",
       "      <td>1</td>\n",
       "      <td>1</td>\n",
       "      <td>1</td>\n",
       "      <td>1</td>\n",
       "      <td>1</td>\n",
       "      <td>1</td>\n",
       "      <td>1</td>\n",
       "      <td>...</td>\n",
       "      <td>1</td>\n",
       "      <td>1</td>\n",
       "      <td>0</td>\n",
       "      <td>1</td>\n",
       "      <td>1</td>\n",
       "      <td>0</td>\n",
       "      <td>0</td>\n",
       "      <td>0</td>\n",
       "      <td>0</td>\n",
       "      <td>0</td>\n",
       "    </tr>\n",
       "    <tr>\n",
       "      <th>3</th>\n",
       "      <td>1732804.0</td>\n",
       "      <td>[\"Kitchen\", \"Long term stays allowed\", \"Coffee...</td>\n",
       "      <td>1</td>\n",
       "      <td>1</td>\n",
       "      <td>1</td>\n",
       "      <td>0</td>\n",
       "      <td>1</td>\n",
       "      <td>1</td>\n",
       "      <td>1</td>\n",
       "      <td>1</td>\n",
       "      <td>...</td>\n",
       "      <td>0</td>\n",
       "      <td>0</td>\n",
       "      <td>1</td>\n",
       "      <td>1</td>\n",
       "      <td>1</td>\n",
       "      <td>0</td>\n",
       "      <td>1</td>\n",
       "      <td>1</td>\n",
       "      <td>1</td>\n",
       "      <td>1</td>\n",
       "    </tr>\n",
       "    <tr>\n",
       "      <th>4</th>\n",
       "      <td>1810172.0</td>\n",
       "      <td>[\"Kitchen\", \"Long term stays allowed\", \"Bathtu...</td>\n",
       "      <td>1</td>\n",
       "      <td>1</td>\n",
       "      <td>1</td>\n",
       "      <td>1</td>\n",
       "      <td>1</td>\n",
       "      <td>1</td>\n",
       "      <td>1</td>\n",
       "      <td>1</td>\n",
       "      <td>...</td>\n",
       "      <td>1</td>\n",
       "      <td>1</td>\n",
       "      <td>1</td>\n",
       "      <td>1</td>\n",
       "      <td>1</td>\n",
       "      <td>1</td>\n",
       "      <td>1</td>\n",
       "      <td>0</td>\n",
       "      <td>0</td>\n",
       "      <td>0</td>\n",
       "    </tr>\n",
       "  </tbody>\n",
       "</table>\n",
       "<p>5 rows × 27 columns</p>\n",
       "</div>"
      ],
      "text/plain": [
       "           id                                          amenities  Smoke alarm  \\\n",
       "0   9569407.0  [\"Long term stays allowed\", \"Essentials\", \"Sha...            1   \n",
       "1  31650137.0  [\"Kitchen\", \"Long term stays allowed\", \"Coffee...            1   \n",
       "2   1724900.0  [\"Kitchen\", \"Long term stays allowed\", \"Coffee...            1   \n",
       "3   1732804.0  [\"Kitchen\", \"Long term stays allowed\", \"Coffee...            1   \n",
       "4   1810172.0  [\"Kitchen\", \"Long term stays allowed\", \"Bathtu...            1   \n",
       "\n",
       "   Dryer  Wifi  TV  Essentials  Kitchen  Hangers  Iron  ...  Bed  \\\n",
       "0      1     1   0           1        0        1     1  ...    1   \n",
       "1      1     1   0           1        1        1     1  ...    1   \n",
       "2      1     1   1           1        1        1     1  ...    1   \n",
       "3      1     1   0           1        1        1     1  ...    0   \n",
       "4      1     1   1           1        1        1     1  ...    1   \n",
       "\n",
       "   Cooking basics  Fire extinguisher  Oven  Stove  Cable  Dishwasher  Lock  \\\n",
       "0               0                  0     0      0      0           0     1   \n",
       "1               1                  1     1      1      0           0     1   \n",
       "2               1                  0     1      1      0           0     0   \n",
       "3               0                  1     1      1      0           1     1   \n",
       "4               1                  1     1      1      1           1     0   \n",
       "\n",
       "   Balcony  Patio  \n",
       "0        0      0  \n",
       "1        0      0  \n",
       "2        0      0  \n",
       "3        1      1  \n",
       "4        0      0  \n",
       "\n",
       "[5 rows x 27 columns]"
      ]
     },
     "execution_count": 32,
     "metadata": {},
     "output_type": "execute_result"
    }
   ],
   "source": [
    "# get dummy values for amenities \n",
    "# count ids for each amenity\n",
    "\n",
    "def amenities(x): \n",
    "    \"\"\"\n",
    "    returns  1 if the string is included the  list else return 0\n",
    "    \n",
    "    input: \n",
    "        list of strings\n",
    "    output:\n",
    "        0 or 1\n",
    "    \"\"\"\n",
    "    x = str(x).lower()\n",
    "    \n",
    "    if col.lower() in x:\n",
    "        return 1\n",
    "    else:\n",
    "        return 0\n",
    "            \n",
    "for col in popular_amenitie_modified:\n",
    "    listings_amenities[col]=listings_amenities['amenities'].apply(amenities)\n",
    "    \n",
    "listings_amenities.head()"
   ]
  },
  {
   "cell_type": "markdown",
   "id": "194af0c6",
   "metadata": {},
   "source": [
    "Using the previous created amenity list, I convert each amentites description to dummy data, which is easy for analysis."
   ]
  },
  {
   "cell_type": "code",
   "execution_count": 33,
   "id": "df74b799",
   "metadata": {},
   "outputs": [
    {
     "data": {
      "image/png": "[encoded data removed]",
      "text/plain": [
       "<Figure size 1080x432 with 1 Axes>"
      ]
     },
     "metadata": {
      "needs_background": "light"
     },
     "output_type": "display_data"
    }
   ],
   "source": [
    "#plot top amenities \n",
    "fig0 = plt.figure(figsize=(15,6))\n",
    "(listings_amenities.sum(axis =0)[2:32]/listings_amenities.shape[0] *100).sort_values(ascending=False, inplace=False).plot(kind='bar');\n",
    "plt.title('Most Popular Amenities', fontsize=18)\n",
    "plt.ylabel('Percentage', fontsize=18);"
   ]
  },
  {
   "cell_type": "markdown",
   "id": "5c1ab89b",
   "metadata": {},
   "source": [
    "Nowadays, Wi-Fi, essentials, as well as smoke alarms are must-have amenities as expected. Others, like Dryer/Washer, cooking essentials, and kitchen stuff are also important amenities to facilitate the guests’ stay."
   ]
  },
  {
   "cell_type": "markdown",
   "id": "3c0a35ee",
   "metadata": {},
   "source": [
    "**Q4: Are the guests satisfied with the rooms?**"
   ]
  },
  {
   "cell_type": "code",
   "execution_count": 34,
   "id": "fc0bd1b1",
   "metadata": {},
   "outputs": [
    {
     "data": {
      "text/plain": [
       "(46.59314425627423, 4.692636922254865)"
      ]
     },
     "execution_count": 34,
     "metadata": {},
     "output_type": "execute_result"
    }
   ],
   "source": [
    "# top hosts with most reviews\n",
    "\n",
    "listings.number_of_reviews.mean(), listings.review_scores_rating.mean()"
   ]
  },
  {
   "cell_type": "code",
   "execution_count": 35,
   "id": "a4519a76",
   "metadata": {},
   "outputs": [
    {
     "data": {
      "image/png": "[encoded data removed]",
      "text/plain": [
       "<Figure size 432x288 with 1 Axes>"
      ]
     },
     "metadata": {
      "needs_background": "light"
     },
     "output_type": "display_data"
    }
   ],
   "source": [
    "listings.number_of_reviews.hist( bins=20, density=True);"
   ]
  },
  {
   "cell_type": "code",
   "execution_count": 36,
   "id": "85b2d176",
   "metadata": {},
   "outputs": [
    {
     "data": {
      "image/png": "[encoded data removed]",
      "text/plain": [
       "<Figure size 432x288 with 1 Axes>"
      ]
     },
     "metadata": {
      "needs_background": "light"
     },
     "output_type": "display_data"
    }
   ],
   "source": [
    "listings.review_scores_rating.hist(bins=20, density=True);"
   ]
  },
  {
   "cell_type": "code",
   "execution_count": 37,
   "id": "657967ff",
   "metadata": {},
   "outputs": [
    {
     "data": {
      "image/png": "[encoded data removed]",
      "text/plain": [
       "<Figure size 1152x288 with 2 Axes>"
      ]
     },
     "metadata": {
      "needs_background": "light"
     },
     "output_type": "display_data"
    }
   ],
   "source": [
    "plt.figure(figsize=(16,4))\n",
    "\n",
    "plt.subplot(1,2,1)\n",
    "sns.barplot(data =listings, x=\"room_type\", y ='number_of_reviews')\n",
    "plt.xlabel('Room_type', fontsize=18)\n",
    "plt.ylabel('Count', fontsize=18)\n",
    "plt.title('Ave number of reviews', fontsize=20)\n",
    "\n",
    "\n",
    "plt.subplot(1,2,2)\n",
    "sns.barplot(data =listings, x=\"room_type\", y ='review_scores_rating')\n",
    "plt.xlabel('Room_type', fontsize=18)\n",
    "plt.ylabel('Score', fontsize=18)\n",
    "plt.title('Review Rating', fontsize=20);"
   ]
  },
  {
   "cell_type": "markdown",
   "id": "b8866e4f",
   "metadata": {},
   "source": [
    "Although hotel room have more number of reviews but the average rating score are similar across board."
   ]
  },
  {
   "cell_type": "code",
   "execution_count": 38,
   "id": "ca271921",
   "metadata": {},
   "outputs": [
    {
     "data": {
      "image/png": "[encoded data removed]",
      "text/plain": [
       "<Figure size 1080x720 with 2 Axes>"
      ]
     },
     "metadata": {
      "needs_background": "light"
     },
     "output_type": "display_data"
    }
   ],
   "source": [
    "# possible correlations\n",
    "plt.figure(figsize=(15,10))\n",
    "sns.heatmap(listings.corr(), cmap='RdYlGn');"
   ]
  },
  {
   "cell_type": "markdown",
   "id": "ea7aa3e6",
   "metadata": {},
   "source": [
    "Most of the features are not colsely associated with the price. "
   ]
  },
  {
   "cell_type": "markdown",
   "id": "a4df0ee5",
   "metadata": {},
   "source": [
    "### Modeling \n",
    "\n",
    "**Dataset process:**\n",
    "* Drop non-relevant columns\n",
    "* Drop rows with missing values\n",
    "* Convert categorical variable to numbers"
   ]
  },
  {
   "cell_type": "code",
   "execution_count": 39,
   "id": "34f52ff0",
   "metadata": {},
   "outputs": [],
   "source": [
    "#drop hotel room and shared room\n",
    "listings_cleaned= listings[(listings['room_type']=='Private room') |(listings['room_type']=='Entire home/apt')]"
   ]
  },
  {
   "cell_type": "code",
   "execution_count": null,
   "id": "91824290",
   "metadata": {},
   "outputs": [],
   "source": []
  },
  {
   "cell_type": "code",
   "execution_count": 40,
   "id": "1cb1f22f",
   "metadata": {},
   "outputs": [],
   "source": [
    "# drop irrelevant columns\n",
    "drop_list = ['id', 'listing_url', 'scrape_id', 'last_scraped', 'name', 'description', 'neighborhood_overview',\n",
    "             'picture_url', 'host_id', 'host_url', 'host_name','host_response_time', 'host_verifications', 'host_since', 'host_location', 'host_about',\n",
    "             'host_thumbnail_url', 'host_picture_url', 'host_neighbourhood', 'neighbourhood_cleansed','host_listings_count', 'host_total_listings_count',\n",
    "             'neighbourhood', 'property_type',  'bathrooms_text', 'calendar_last_scraped',  'first_review', 'last_review','amenities']\n",
    "\n",
    "listings_cleaned = listings_cleaned.drop(columns = drop_list)"
   ]
  },
  {
   "cell_type": "code",
   "execution_count": 41,
   "id": "7ed685e2",
   "metadata": {},
   "outputs": [
    {
     "data": {
      "text/html": [
       "<div>\n",
       "<style scoped>\n",
       "    .dataframe tbody tr th:only-of-type {\n",
       "        vertical-align: middle;\n",
       "    }\n",
       "\n",
       "    .dataframe tbody tr th {\n",
       "        vertical-align: top;\n",
       "    }\n",
       "\n",
       "    .dataframe thead th {\n",
       "        text-align: right;\n",
       "    }\n",
       "</style>\n",
       "<table border=\"1\" class=\"dataframe\">\n",
       "  <thead>\n",
       "    <tr style=\"text-align: right;\">\n",
       "      <th></th>\n",
       "      <th>host_response_rate</th>\n",
       "      <th>host_acceptance_rate</th>\n",
       "      <th>host_is_superhost</th>\n",
       "      <th>host_has_profile_pic</th>\n",
       "      <th>host_identity_verified</th>\n",
       "      <th>latitude</th>\n",
       "      <th>longitude</th>\n",
       "      <th>room_type</th>\n",
       "      <th>accommodates</th>\n",
       "      <th>bedrooms</th>\n",
       "      <th>...</th>\n",
       "      <th>review_scores_communication</th>\n",
       "      <th>review_scores_location</th>\n",
       "      <th>review_scores_value</th>\n",
       "      <th>license</th>\n",
       "      <th>instant_bookable</th>\n",
       "      <th>calculated_host_listings_count</th>\n",
       "      <th>calculated_host_listings_count_entire_homes</th>\n",
       "      <th>calculated_host_listings_count_private_rooms</th>\n",
       "      <th>calculated_host_listings_count_shared_rooms</th>\n",
       "      <th>reviews_per_month</th>\n",
       "    </tr>\n",
       "  </thead>\n",
       "  <tbody>\n",
       "    <tr>\n",
       "      <th>0</th>\n",
       "      <td>90%</td>\n",
       "      <td>22%</td>\n",
       "      <td>f</td>\n",
       "      <td>t</td>\n",
       "      <td>t</td>\n",
       "      <td>42.33588</td>\n",
       "      <td>-71.18811</td>\n",
       "      <td>Private room</td>\n",
       "      <td>1</td>\n",
       "      <td>1.0</td>\n",
       "      <td>...</td>\n",
       "      <td>5.00</td>\n",
       "      <td>4.92</td>\n",
       "      <td>4.77</td>\n",
       "      <td>NaN</td>\n",
       "      <td>f</td>\n",
       "      <td>2</td>\n",
       "      <td>0</td>\n",
       "      <td>2</td>\n",
       "      <td>0</td>\n",
       "      <td>0.17</td>\n",
       "    </tr>\n",
       "    <tr>\n",
       "      <th>1</th>\n",
       "      <td>100%</td>\n",
       "      <td>100%</td>\n",
       "      <td>t</td>\n",
       "      <td>t</td>\n",
       "      <td>t</td>\n",
       "      <td>42.40645</td>\n",
       "      <td>-71.05180</td>\n",
       "      <td>Private room</td>\n",
       "      <td>1</td>\n",
       "      <td>1.0</td>\n",
       "      <td>...</td>\n",
       "      <td>5.00</td>\n",
       "      <td>4.84</td>\n",
       "      <td>4.92</td>\n",
       "      <td>NaN</td>\n",
       "      <td>t</td>\n",
       "      <td>3</td>\n",
       "      <td>0</td>\n",
       "      <td>3</td>\n",
       "      <td>0</td>\n",
       "      <td>3.60</td>\n",
       "    </tr>\n",
       "    <tr>\n",
       "      <th>2</th>\n",
       "      <td>50%</td>\n",
       "      <td>38%</td>\n",
       "      <td>f</td>\n",
       "      <td>t</td>\n",
       "      <td>f</td>\n",
       "      <td>42.28447</td>\n",
       "      <td>-71.13301</td>\n",
       "      <td>Entire home/apt</td>\n",
       "      <td>5</td>\n",
       "      <td>2.0</td>\n",
       "      <td>...</td>\n",
       "      <td>4.79</td>\n",
       "      <td>4.56</td>\n",
       "      <td>4.65</td>\n",
       "      <td>NaN</td>\n",
       "      <td>f</td>\n",
       "      <td>2</td>\n",
       "      <td>2</td>\n",
       "      <td>0</td>\n",
       "      <td>0</td>\n",
       "      <td>0.42</td>\n",
       "    </tr>\n",
       "    <tr>\n",
       "      <th>3</th>\n",
       "      <td>100%</td>\n",
       "      <td>100%</td>\n",
       "      <td>t</td>\n",
       "      <td>t</td>\n",
       "      <td>t</td>\n",
       "      <td>42.29009</td>\n",
       "      <td>-71.05762</td>\n",
       "      <td>Private room</td>\n",
       "      <td>2</td>\n",
       "      <td>1.0</td>\n",
       "      <td>...</td>\n",
       "      <td>5.00</td>\n",
       "      <td>4.66</td>\n",
       "      <td>4.79</td>\n",
       "      <td>STR-398497</td>\n",
       "      <td>f</td>\n",
       "      <td>1</td>\n",
       "      <td>0</td>\n",
       "      <td>1</td>\n",
       "      <td>0</td>\n",
       "      <td>1.39</td>\n",
       "    </tr>\n",
       "    <tr>\n",
       "      <th>4</th>\n",
       "      <td>100%</td>\n",
       "      <td>88%</td>\n",
       "      <td>f</td>\n",
       "      <td>t</td>\n",
       "      <td>t</td>\n",
       "      <td>42.28127</td>\n",
       "      <td>-71.13304</td>\n",
       "      <td>Private room</td>\n",
       "      <td>2</td>\n",
       "      <td>1.0</td>\n",
       "      <td>...</td>\n",
       "      <td>4.98</td>\n",
       "      <td>4.68</td>\n",
       "      <td>4.78</td>\n",
       "      <td>NaN</td>\n",
       "      <td>f</td>\n",
       "      <td>2</td>\n",
       "      <td>0</td>\n",
       "      <td>2</td>\n",
       "      <td>0</td>\n",
       "      <td>0.40</td>\n",
       "    </tr>\n",
       "  </tbody>\n",
       "</table>\n",
       "<p>5 rows × 42 columns</p>\n",
       "</div>"
      ],
      "text/plain": [
       "  host_response_rate host_acceptance_rate host_is_superhost  \\\n",
       "0                90%                  22%                 f   \n",
       "1               100%                 100%                 t   \n",
       "2                50%                  38%                 f   \n",
       "3               100%                 100%                 t   \n",
       "4               100%                  88%                 f   \n",
       "\n",
       "  host_has_profile_pic host_identity_verified  latitude  longitude  \\\n",
       "0                    t                      t  42.33588  -71.18811   \n",
       "1                    t                      t  42.40645  -71.05180   \n",
       "2                    t                      f  42.28447  -71.13301   \n",
       "3                    t                      t  42.29009  -71.05762   \n",
       "4                    t                      t  42.28127  -71.13304   \n",
       "\n",
       "         room_type  accommodates  bedrooms  ...  review_scores_communication  \\\n",
       "0     Private room             1       1.0  ...                         5.00   \n",
       "1     Private room             1       1.0  ...                         5.00   \n",
       "2  Entire home/apt             5       2.0  ...                         4.79   \n",
       "3     Private room             2       1.0  ...                         5.00   \n",
       "4     Private room             2       1.0  ...                         4.98   \n",
       "\n",
       "   review_scores_location  review_scores_value     license  instant_bookable  \\\n",
       "0                    4.92                 4.77         NaN                 f   \n",
       "1                    4.84                 4.92         NaN                 t   \n",
       "2                    4.56                 4.65         NaN                 f   \n",
       "3                    4.66                 4.79  STR-398497                 f   \n",
       "4                    4.68                 4.78         NaN                 f   \n",
       "\n",
       "   calculated_host_listings_count  \\\n",
       "0                               2   \n",
       "1                               3   \n",
       "2                               2   \n",
       "3                               1   \n",
       "4                               2   \n",
       "\n",
       "   calculated_host_listings_count_entire_homes  \\\n",
       "0                                            0   \n",
       "1                                            0   \n",
       "2                                            2   \n",
       "3                                            0   \n",
       "4                                            0   \n",
       "\n",
       "   calculated_host_listings_count_private_rooms  \\\n",
       "0                                             2   \n",
       "1                                             3   \n",
       "2                                             0   \n",
       "3                                             1   \n",
       "4                                             2   \n",
       "\n",
       "   calculated_host_listings_count_shared_rooms  reviews_per_month  \n",
       "0                                            0               0.17  \n",
       "1                                            0               3.60  \n",
       "2                                            0               0.42  \n",
       "3                                            0               1.39  \n",
       "4                                            0               0.40  \n",
       "\n",
       "[5 rows x 42 columns]"
      ]
     },
     "execution_count": 41,
     "metadata": {},
     "output_type": "execute_result"
    }
   ],
   "source": [
    "listings_cleaned.head()"
   ]
  },
  {
   "cell_type": "code",
   "execution_count": 42,
   "id": "4768f978",
   "metadata": {},
   "outputs": [],
   "source": [
    "# listings_cleaned.isnull().sum()"
   ]
  },
  {
   "cell_type": "code",
   "execution_count": 43,
   "id": "30b47703",
   "metadata": {},
   "outputs": [],
   "source": [
    "#convert categorical value to numbers\n",
    "col_list = ['host_is_superhost', 'host_has_profile_pic', 'host_identity_verified', 'instant_bookable']\n",
    "for col in col_list: \n",
    "    listings_cleaned[col] = listings_cleaned[col].apply(lambda x: 1 if x is 't' else 0)\n",
    "    \n",
    "# convert license    \n",
    "listings_cleaned['license'] = listings_cleaned['license'].apply(lambda x: 0 if x is np.nan else 1)"
   ]
  },
  {
   "cell_type": "code",
   "execution_count": 44,
   "id": "e26d8f0e",
   "metadata": {},
   "outputs": [],
   "source": [
    "# convert categorical to numbers\n",
    "listings_cleaned = pd.get_dummies(listings_cleaned, columns=['room_type'], prefix='', prefix_sep='')"
   ]
  },
  {
   "cell_type": "code",
   "execution_count": 45,
   "id": "c7a7cc89",
   "metadata": {},
   "outputs": [
    {
     "data": {
      "text/html": [
       "<div>\n",
       "<style scoped>\n",
       "    .dataframe tbody tr th:only-of-type {\n",
       "        vertical-align: middle;\n",
       "    }\n",
       "\n",
       "    .dataframe tbody tr th {\n",
       "        vertical-align: top;\n",
       "    }\n",
       "\n",
       "    .dataframe thead th {\n",
       "        text-align: right;\n",
       "    }\n",
       "</style>\n",
       "<table border=\"1\" class=\"dataframe\">\n",
       "  <thead>\n",
       "    <tr style=\"text-align: right;\">\n",
       "      <th></th>\n",
       "      <th>host_response_rate</th>\n",
       "      <th>host_acceptance_rate</th>\n",
       "      <th>host_is_superhost</th>\n",
       "      <th>host_has_profile_pic</th>\n",
       "      <th>host_identity_verified</th>\n",
       "      <th>latitude</th>\n",
       "      <th>longitude</th>\n",
       "      <th>accommodates</th>\n",
       "      <th>bedrooms</th>\n",
       "      <th>beds</th>\n",
       "      <th>...</th>\n",
       "      <th>review_scores_value</th>\n",
       "      <th>license</th>\n",
       "      <th>instant_bookable</th>\n",
       "      <th>calculated_host_listings_count</th>\n",
       "      <th>calculated_host_listings_count_entire_homes</th>\n",
       "      <th>calculated_host_listings_count_private_rooms</th>\n",
       "      <th>calculated_host_listings_count_shared_rooms</th>\n",
       "      <th>reviews_per_month</th>\n",
       "      <th>Entire home/apt</th>\n",
       "      <th>Private room</th>\n",
       "    </tr>\n",
       "  </thead>\n",
       "  <tbody>\n",
       "    <tr>\n",
       "      <th>0</th>\n",
       "      <td>90%</td>\n",
       "      <td>22%</td>\n",
       "      <td>0</td>\n",
       "      <td>1</td>\n",
       "      <td>1</td>\n",
       "      <td>42.33588</td>\n",
       "      <td>-71.18811</td>\n",
       "      <td>1</td>\n",
       "      <td>1.0</td>\n",
       "      <td>1.0</td>\n",
       "      <td>...</td>\n",
       "      <td>4.77</td>\n",
       "      <td>0</td>\n",
       "      <td>0</td>\n",
       "      <td>2</td>\n",
       "      <td>0</td>\n",
       "      <td>2</td>\n",
       "      <td>0</td>\n",
       "      <td>0.17</td>\n",
       "      <td>0</td>\n",
       "      <td>1</td>\n",
       "    </tr>\n",
       "    <tr>\n",
       "      <th>1</th>\n",
       "      <td>100%</td>\n",
       "      <td>100%</td>\n",
       "      <td>1</td>\n",
       "      <td>1</td>\n",
       "      <td>1</td>\n",
       "      <td>42.40645</td>\n",
       "      <td>-71.05180</td>\n",
       "      <td>1</td>\n",
       "      <td>1.0</td>\n",
       "      <td>1.0</td>\n",
       "      <td>...</td>\n",
       "      <td>4.92</td>\n",
       "      <td>0</td>\n",
       "      <td>1</td>\n",
       "      <td>3</td>\n",
       "      <td>0</td>\n",
       "      <td>3</td>\n",
       "      <td>0</td>\n",
       "      <td>3.60</td>\n",
       "      <td>0</td>\n",
       "      <td>1</td>\n",
       "    </tr>\n",
       "    <tr>\n",
       "      <th>2</th>\n",
       "      <td>50%</td>\n",
       "      <td>38%</td>\n",
       "      <td>0</td>\n",
       "      <td>1</td>\n",
       "      <td>0</td>\n",
       "      <td>42.28447</td>\n",
       "      <td>-71.13301</td>\n",
       "      <td>5</td>\n",
       "      <td>2.0</td>\n",
       "      <td>2.0</td>\n",
       "      <td>...</td>\n",
       "      <td>4.65</td>\n",
       "      <td>0</td>\n",
       "      <td>0</td>\n",
       "      <td>2</td>\n",
       "      <td>2</td>\n",
       "      <td>0</td>\n",
       "      <td>0</td>\n",
       "      <td>0.42</td>\n",
       "      <td>1</td>\n",
       "      <td>0</td>\n",
       "    </tr>\n",
       "    <tr>\n",
       "      <th>3</th>\n",
       "      <td>100%</td>\n",
       "      <td>100%</td>\n",
       "      <td>1</td>\n",
       "      <td>1</td>\n",
       "      <td>1</td>\n",
       "      <td>42.29009</td>\n",
       "      <td>-71.05762</td>\n",
       "      <td>2</td>\n",
       "      <td>1.0</td>\n",
       "      <td>1.0</td>\n",
       "      <td>...</td>\n",
       "      <td>4.79</td>\n",
       "      <td>1</td>\n",
       "      <td>0</td>\n",
       "      <td>1</td>\n",
       "      <td>0</td>\n",
       "      <td>1</td>\n",
       "      <td>0</td>\n",
       "      <td>1.39</td>\n",
       "      <td>0</td>\n",
       "      <td>1</td>\n",
       "    </tr>\n",
       "    <tr>\n",
       "      <th>4</th>\n",
       "      <td>100%</td>\n",
       "      <td>88%</td>\n",
       "      <td>0</td>\n",
       "      <td>1</td>\n",
       "      <td>1</td>\n",
       "      <td>42.28127</td>\n",
       "      <td>-71.13304</td>\n",
       "      <td>2</td>\n",
       "      <td>1.0</td>\n",
       "      <td>1.0</td>\n",
       "      <td>...</td>\n",
       "      <td>4.78</td>\n",
       "      <td>0</td>\n",
       "      <td>0</td>\n",
       "      <td>2</td>\n",
       "      <td>0</td>\n",
       "      <td>2</td>\n",
       "      <td>0</td>\n",
       "      <td>0.40</td>\n",
       "      <td>0</td>\n",
       "      <td>1</td>\n",
       "    </tr>\n",
       "  </tbody>\n",
       "</table>\n",
       "<p>5 rows × 43 columns</p>\n",
       "</div>"
      ],
      "text/plain": [
       "  host_response_rate host_acceptance_rate  host_is_superhost  \\\n",
       "0                90%                  22%                  0   \n",
       "1               100%                 100%                  1   \n",
       "2                50%                  38%                  0   \n",
       "3               100%                 100%                  1   \n",
       "4               100%                  88%                  0   \n",
       "\n",
       "   host_has_profile_pic  host_identity_verified  latitude  longitude  \\\n",
       "0                     1                       1  42.33588  -71.18811   \n",
       "1                     1                       1  42.40645  -71.05180   \n",
       "2                     1                       0  42.28447  -71.13301   \n",
       "3                     1                       1  42.29009  -71.05762   \n",
       "4                     1                       1  42.28127  -71.13304   \n",
       "\n",
       "   accommodates  bedrooms  beds  ...  review_scores_value  license  \\\n",
       "0             1       1.0   1.0  ...                 4.77        0   \n",
       "1             1       1.0   1.0  ...                 4.92        0   \n",
       "2             5       2.0   2.0  ...                 4.65        0   \n",
       "3             2       1.0   1.0  ...                 4.79        1   \n",
       "4             2       1.0   1.0  ...                 4.78        0   \n",
       "\n",
       "   instant_bookable  calculated_host_listings_count  \\\n",
       "0                 0                               2   \n",
       "1                 1                               3   \n",
       "2                 0                               2   \n",
       "3                 0                               1   \n",
       "4                 0                               2   \n",
       "\n",
       "   calculated_host_listings_count_entire_homes  \\\n",
       "0                                            0   \n",
       "1                                            0   \n",
       "2                                            2   \n",
       "3                                            0   \n",
       "4                                            0   \n",
       "\n",
       "   calculated_host_listings_count_private_rooms  \\\n",
       "0                                             2   \n",
       "1                                             3   \n",
       "2                                             0   \n",
       "3                                             1   \n",
       "4                                             2   \n",
       "\n",
       "   calculated_host_listings_count_shared_rooms  reviews_per_month  \\\n",
       "0                                            0               0.17   \n",
       "1                                            0               3.60   \n",
       "2                                            0               0.42   \n",
       "3                                            0               1.39   \n",
       "4                                            0               0.40   \n",
       "\n",
       "   Entire home/apt Private room  \n",
       "0                0            1  \n",
       "1                0            1  \n",
       "2                1            0  \n",
       "3                0            1  \n",
       "4                0            1  \n",
       "\n",
       "[5 rows x 43 columns]"
      ]
     },
     "execution_count": 45,
     "metadata": {},
     "output_type": "execute_result"
    }
   ],
   "source": [
    "listings_cleaned.head()"
   ]
  },
  {
   "cell_type": "code",
   "execution_count": 46,
   "id": "14751822",
   "metadata": {},
   "outputs": [],
   "source": [
    "#Spearman Correalation Heatmap\n",
    "# plt.figure(figsize=(20,15))\n",
    "# corr = listings_cleaned.corr(method = 'spearman')\n",
    "# sns.heatmap(round(corr,2), annot = True,cmap=\"RdYlGn\")\n",
    "# plt.show()"
   ]
  },
  {
   "cell_type": "code",
   "execution_count": 47,
   "id": "b1040a9c",
   "metadata": {},
   "outputs": [
    {
     "data": {
      "text/plain": [
       "Entire home/apt                                 0.635124\n",
       "accommodates                                    0.598979\n",
       "bedrooms                                        0.545484\n",
       "calculated_host_listings_count_entire_homes     0.491200\n",
       "beds                                            0.483814\n",
       "availability_60                                 0.292668\n",
       "availability_90                                 0.281860\n",
       "availability_30                                 0.278689\n",
       "review_scores_location                          0.261318\n",
       "instant_bookable                                0.217149\n",
       "availability_365                                0.208230\n",
       "license                                         0.206518\n",
       "calculated_host_listings_count                  0.202888\n",
       "reviews_per_month                               0.202468\n",
       "review_scores_cleanliness                       0.147810\n",
       "host_identity_verified                          0.145991\n",
       "longitude                                       0.142185\n",
       "latitude                                        0.136740\n",
       "number_of_reviews_l30d                          0.100235\n",
       "number_of_reviews_ltm                           0.088396\n",
       "review_scores_rating                            0.055789\n",
       "review_scores_accuracy                          0.012241\n",
       "review_scores_communication                    -0.002881\n",
       "host_is_superhost                              -0.004431\n",
       "host_has_profile_pic                           -0.005044\n",
       "review_scores_checkin                          -0.021728\n",
       "calculated_host_listings_count_shared_rooms    -0.038341\n",
       "maximum_maximum_nights                         -0.048765\n",
       "maximum_nights                                 -0.050040\n",
       "maximum_nights_avg_ntm                         -0.065172\n",
       "number_of_reviews                              -0.073849\n",
       "maximum_minimum_nights                         -0.078813\n",
       "minimum_maximum_nights                         -0.087385\n",
       "review_scores_value                            -0.097686\n",
       "minimum_nights_avg_ntm                         -0.117019\n",
       "minimum_nights                                 -0.213932\n",
       "minimum_minimum_nights                         -0.222120\n",
       "calculated_host_listings_count_private_rooms   -0.523756\n",
       "Private room                                   -0.635124\n",
       "Name: price, dtype: float64"
      ]
     },
     "execution_count": 47,
     "metadata": {},
     "output_type": "execute_result"
    }
   ],
   "source": [
    "#correlation with price \n",
    "listings_cleaned.corr(method = 'spearman')['price'].sort_values(ascending =False)[1:]"
   ]
  },
  {
   "cell_type": "code",
   "execution_count": 48,
   "id": "95f9cb48",
   "metadata": {},
   "outputs": [],
   "source": [
    "# only keep coclumns highly associated with price, absolute value > 0.1\n",
    "\n",
    "listings_cleaned = listings_cleaned.drop(columns = ['number_of_reviews_l30d', 'number_of_reviews_ltm', 'review_scores_rating',\n",
    "                                         'review_scores_accuracy', 'review_scores_rating', 'review_scores_accuracy',\n",
    "                                         'review_scores_communication', 'host_is_superhost', 'host_has_profile_pic', \n",
    "                                         'review_scores_checkin', 'calculated_host_listings_count_shared_rooms', 'maximum_maximum_nights',\n",
    "                                         'maximum_nights', 'maximum_nights_avg_ntm', 'number_of_reviews', 'maximum_minimum_nights',\n",
    "                                         'minimum_maximum_nights', 'review_scores_value'])\n"
   ]
  },
  {
   "cell_type": "code",
   "execution_count": 49,
   "id": "bbf6d8d9",
   "metadata": {},
   "outputs": [
    {
     "data": {
      "text/plain": [
       "host_response_rate                              11.626469\n",
       "host_acceptance_rate                            11.255411\n",
       "host_identity_verified                           0.000000\n",
       "latitude                                         0.000000\n",
       "longitude                                        0.000000\n",
       "accommodates                                     0.000000\n",
       "bedrooms                                        12.079984\n",
       "beds                                             1.607916\n",
       "price                                            0.000000\n",
       "minimum_nights                                   0.000000\n",
       "minimum_minimum_nights                           0.000000\n",
       "minimum_nights_avg_ntm                           0.000000\n",
       "has_availability                                 0.000000\n",
       "availability_30                                  0.000000\n",
       "availability_60                                  0.000000\n",
       "availability_90                                  0.000000\n",
       "availability_365                                 0.000000\n",
       "review_scores_cleanliness                       23.706452\n",
       "review_scores_location                          23.768295\n",
       "license                                          0.000000\n",
       "instant_bookable                                 0.000000\n",
       "calculated_host_listings_count                   0.000000\n",
       "calculated_host_listings_count_entire_homes      0.000000\n",
       "calculated_host_listings_count_private_rooms     0.000000\n",
       "reviews_per_month                               23.479695\n",
       "Entire home/apt                                  0.000000\n",
       "Private room                                     0.000000\n",
       "dtype: float64"
      ]
     },
     "execution_count": 49,
     "metadata": {},
     "output_type": "execute_result"
    }
   ],
   "source": [
    "#clean up null value to prepare data for training\n",
    "listings_cleaned.isnull().sum()/listings_cleaned.shape[0] *100"
   ]
  },
  {
   "cell_type": "code",
   "execution_count": 50,
   "id": "0c5a7dce",
   "metadata": {},
   "outputs": [],
   "source": [
    "# drop columns have too much missing value, beds is so import that I keep it and drop the nnull value rows\n",
    "listings_cleaned=listings_cleaned.drop(columns =['host_response_rate', 'host_acceptance_rate', 'bedrooms',\n",
    "                                                'review_scores_cleanliness', 'review_scores_location','reviews_per_month', 'has_availability'])\n",
    "listings_cleaned=listings_cleaned.dropna()"
   ]
  },
  {
   "cell_type": "code",
   "execution_count": 51,
   "id": "e8ae4c9c",
   "metadata": {},
   "outputs": [
    {
     "data": {
      "text/html": [
       "<div>\n",
       "<style scoped>\n",
       "    .dataframe tbody tr th:only-of-type {\n",
       "        vertical-align: middle;\n",
       "    }\n",
       "\n",
       "    .dataframe tbody tr th {\n",
       "        vertical-align: top;\n",
       "    }\n",
       "\n",
       "    .dataframe thead th {\n",
       "        text-align: right;\n",
       "    }\n",
       "</style>\n",
       "<table border=\"1\" class=\"dataframe\">\n",
       "  <thead>\n",
       "    <tr style=\"text-align: right;\">\n",
       "      <th></th>\n",
       "      <th>host_identity_verified</th>\n",
       "      <th>latitude</th>\n",
       "      <th>longitude</th>\n",
       "      <th>accommodates</th>\n",
       "      <th>beds</th>\n",
       "      <th>price</th>\n",
       "      <th>minimum_nights</th>\n",
       "      <th>minimum_minimum_nights</th>\n",
       "      <th>minimum_nights_avg_ntm</th>\n",
       "      <th>availability_30</th>\n",
       "      <th>availability_60</th>\n",
       "      <th>availability_90</th>\n",
       "      <th>availability_365</th>\n",
       "      <th>license</th>\n",
       "      <th>instant_bookable</th>\n",
       "      <th>calculated_host_listings_count</th>\n",
       "      <th>calculated_host_listings_count_entire_homes</th>\n",
       "      <th>calculated_host_listings_count_private_rooms</th>\n",
       "      <th>Entire home/apt</th>\n",
       "      <th>Private room</th>\n",
       "    </tr>\n",
       "  </thead>\n",
       "  <tbody>\n",
       "    <tr>\n",
       "      <th>0</th>\n",
       "      <td>1</td>\n",
       "      <td>42.33588</td>\n",
       "      <td>-71.18811</td>\n",
       "      <td>1</td>\n",
       "      <td>1.0</td>\n",
       "      <td>60.0</td>\n",
       "      <td>91</td>\n",
       "      <td>91.0</td>\n",
       "      <td>91.0</td>\n",
       "      <td>0</td>\n",
       "      <td>0</td>\n",
       "      <td>0</td>\n",
       "      <td>255</td>\n",
       "      <td>0</td>\n",
       "      <td>0</td>\n",
       "      <td>2</td>\n",
       "      <td>0</td>\n",
       "      <td>2</td>\n",
       "      <td>0</td>\n",
       "      <td>1</td>\n",
       "    </tr>\n",
       "    <tr>\n",
       "      <th>1</th>\n",
       "      <td>1</td>\n",
       "      <td>42.40645</td>\n",
       "      <td>-71.05180</td>\n",
       "      <td>1</td>\n",
       "      <td>1.0</td>\n",
       "      <td>104.0</td>\n",
       "      <td>2</td>\n",
       "      <td>2.0</td>\n",
       "      <td>2.0</td>\n",
       "      <td>25</td>\n",
       "      <td>55</td>\n",
       "      <td>85</td>\n",
       "      <td>85</td>\n",
       "      <td>0</td>\n",
       "      <td>1</td>\n",
       "      <td>3</td>\n",
       "      <td>0</td>\n",
       "      <td>3</td>\n",
       "      <td>0</td>\n",
       "      <td>1</td>\n",
       "    </tr>\n",
       "    <tr>\n",
       "      <th>2</th>\n",
       "      <td>0</td>\n",
       "      <td>42.28447</td>\n",
       "      <td>-71.13301</td>\n",
       "      <td>5</td>\n",
       "      <td>2.0</td>\n",
       "      <td>184.0</td>\n",
       "      <td>29</td>\n",
       "      <td>29.0</td>\n",
       "      <td>29.0</td>\n",
       "      <td>11</td>\n",
       "      <td>11</td>\n",
       "      <td>11</td>\n",
       "      <td>174</td>\n",
       "      <td>0</td>\n",
       "      <td>0</td>\n",
       "      <td>2</td>\n",
       "      <td>2</td>\n",
       "      <td>0</td>\n",
       "      <td>1</td>\n",
       "      <td>0</td>\n",
       "    </tr>\n",
       "    <tr>\n",
       "      <th>3</th>\n",
       "      <td>1</td>\n",
       "      <td>42.29009</td>\n",
       "      <td>-71.05762</td>\n",
       "      <td>2</td>\n",
       "      <td>1.0</td>\n",
       "      <td>69.0</td>\n",
       "      <td>1</td>\n",
       "      <td>1.0</td>\n",
       "      <td>1.0</td>\n",
       "      <td>9</td>\n",
       "      <td>21</td>\n",
       "      <td>50</td>\n",
       "      <td>296</td>\n",
       "      <td>1</td>\n",
       "      <td>0</td>\n",
       "      <td>1</td>\n",
       "      <td>0</td>\n",
       "      <td>1</td>\n",
       "      <td>0</td>\n",
       "      <td>1</td>\n",
       "    </tr>\n",
       "    <tr>\n",
       "      <th>4</th>\n",
       "      <td>1</td>\n",
       "      <td>42.28127</td>\n",
       "      <td>-71.13304</td>\n",
       "      <td>2</td>\n",
       "      <td>1.0</td>\n",
       "      <td>69.0</td>\n",
       "      <td>29</td>\n",
       "      <td>29.0</td>\n",
       "      <td>29.0</td>\n",
       "      <td>14</td>\n",
       "      <td>24</td>\n",
       "      <td>41</td>\n",
       "      <td>296</td>\n",
       "      <td>0</td>\n",
       "      <td>0</td>\n",
       "      <td>2</td>\n",
       "      <td>0</td>\n",
       "      <td>2</td>\n",
       "      <td>0</td>\n",
       "      <td>1</td>\n",
       "    </tr>\n",
       "  </tbody>\n",
       "</table>\n",
       "</div>"
      ],
      "text/plain": [
       "   host_identity_verified  latitude  longitude  accommodates  beds  price  \\\n",
       "0                       1  42.33588  -71.18811             1   1.0   60.0   \n",
       "1                       1  42.40645  -71.05180             1   1.0  104.0   \n",
       "2                       0  42.28447  -71.13301             5   2.0  184.0   \n",
       "3                       1  42.29009  -71.05762             2   1.0   69.0   \n",
       "4                       1  42.28127  -71.13304             2   1.0   69.0   \n",
       "\n",
       "   minimum_nights  minimum_minimum_nights  minimum_nights_avg_ntm  \\\n",
       "0              91                    91.0                    91.0   \n",
       "1               2                     2.0                     2.0   \n",
       "2              29                    29.0                    29.0   \n",
       "3               1                     1.0                     1.0   \n",
       "4              29                    29.0                    29.0   \n",
       "\n",
       "   availability_30  availability_60  availability_90  availability_365  \\\n",
       "0                0                0                0               255   \n",
       "1               25               55               85                85   \n",
       "2               11               11               11               174   \n",
       "3                9               21               50               296   \n",
       "4               14               24               41               296   \n",
       "\n",
       "   license  instant_bookable  calculated_host_listings_count  \\\n",
       "0        0                 0                               2   \n",
       "1        0                 1                               3   \n",
       "2        0                 0                               2   \n",
       "3        1                 0                               1   \n",
       "4        0                 0                               2   \n",
       "\n",
       "   calculated_host_listings_count_entire_homes  \\\n",
       "0                                            0   \n",
       "1                                            0   \n",
       "2                                            2   \n",
       "3                                            0   \n",
       "4                                            0   \n",
       "\n",
       "   calculated_host_listings_count_private_rooms  Entire home/apt  Private room  \n",
       "0                                             2                0             1  \n",
       "1                                             3                0             1  \n",
       "2                                             0                1             0  \n",
       "3                                             1                0             1  \n",
       "4                                             2                0             1  "
      ]
     },
     "execution_count": 51,
     "metadata": {},
     "output_type": "execute_result"
    }
   ],
   "source": [
    "listings_cleaned.head()"
   ]
  },
  {
   "cell_type": "code",
   "execution_count": 52,
   "id": "95bb3b72",
   "metadata": {},
   "outputs": [
    {
     "data": {
      "text/plain": [
       "(4773, 20)"
      ]
     },
     "execution_count": 52,
     "metadata": {},
     "output_type": "execute_result"
    }
   ],
   "source": [
    "listings_cleaned.shape"
   ]
  },
  {
   "cell_type": "markdown",
   "id": "ef477092",
   "metadata": {},
   "source": [
    "The cleaned dataset contains 4773 rows and 20 features."
   ]
  },
  {
   "cell_type": "code",
   "execution_count": 53,
   "id": "ad2af872",
   "metadata": {},
   "outputs": [
    {
     "data": {
      "text/plain": [
       "Entire home/apt                                 0.628330\n",
       "accommodates                                    0.591525\n",
       "calculated_host_listings_count_entire_homes     0.491445\n",
       "beds                                            0.483814\n",
       "availability_60                                 0.290456\n",
       "availability_90                                 0.280321\n",
       "availability_30                                 0.276769\n",
       "instant_bookable                                0.214412\n",
       "calculated_host_listings_count                  0.210850\n",
       "availability_365                                0.209950\n",
       "license                                         0.198968\n",
       "host_identity_verified                          0.149729\n",
       "longitude                                       0.138207\n",
       "latitude                                        0.135986\n",
       "minimum_nights_avg_ntm                         -0.108576\n",
       "minimum_nights                                 -0.204477\n",
       "minimum_minimum_nights                         -0.212523\n",
       "calculated_host_listings_count_private_rooms   -0.516051\n",
       "Private room                                   -0.628330\n",
       "Name: price, dtype: float64"
      ]
     },
     "execution_count": 53,
     "metadata": {},
     "output_type": "execute_result"
    }
   ],
   "source": [
    "#correlation with price \n",
    "listings_cleaned.corr(method = 'spearman')['price'].sort_values(ascending =False)[1:]"
   ]
  },
  {
   "cell_type": "markdown",
   "id": "60c9a841",
   "metadata": {},
   "source": [
    "**Q5:What are the predictors of price for Boston AirBnB’s?**"
   ]
  },
  {
   "cell_type": "code",
   "execution_count": 54,
   "id": "2a8660cb",
   "metadata": {},
   "outputs": [],
   "source": [
    "# split dataset\n",
    "X = listings_cleaned.drop(columns = ['price'])\n",
    "y = listings_cleaned['price']\n"
   ]
  },
  {
   "cell_type": "code",
   "execution_count": 55,
   "id": "f0ae62a5",
   "metadata": {},
   "outputs": [],
   "source": [
    "X_train, X_test, y_train, y_test = train_test_split(X, y, random_state=42)"
   ]
  },
  {
   "cell_type": "code",
   "execution_count": 56,
   "id": "a2be15e4",
   "metadata": {},
   "outputs": [
    {
     "data": {
      "text/plain": [
       "LinearRegression(normalize=True)"
      ]
     },
     "execution_count": 56,
     "metadata": {},
     "output_type": "execute_result"
    }
   ],
   "source": [
    "# Linear Regression Model\n",
    "lm_model = LinearRegression(normalize=True)    \n",
    "lm_model.fit(X_train, y_train) \n"
   ]
  },
  {
   "cell_type": "code",
   "execution_count": 57,
   "id": "d17aa437",
   "metadata": {},
   "outputs": [
    {
     "data": {
      "text/html": [
       "<div>\n",
       "<style scoped>\n",
       "    .dataframe tbody tr th:only-of-type {\n",
       "        vertical-align: middle;\n",
       "    }\n",
       "\n",
       "    .dataframe tbody tr th {\n",
       "        vertical-align: top;\n",
       "    }\n",
       "\n",
       "    .dataframe thead th {\n",
       "        text-align: right;\n",
       "    }\n",
       "</style>\n",
       "<table border=\"1\" class=\"dataframe\">\n",
       "  <thead>\n",
       "    <tr style=\"text-align: right;\">\n",
       "      <th></th>\n",
       "      <th>Features</th>\n",
       "      <th>Coefs</th>\n",
       "    </tr>\n",
       "  </thead>\n",
       "  <tbody>\n",
       "    <tr>\n",
       "      <th>1</th>\n",
       "      <td>latitude</td>\n",
       "      <td>85.081651</td>\n",
       "    </tr>\n",
       "    <tr>\n",
       "      <th>3</th>\n",
       "      <td>accommodates</td>\n",
       "      <td>37.707531</td>\n",
       "    </tr>\n",
       "    <tr>\n",
       "      <th>4</th>\n",
       "      <td>beds</td>\n",
       "      <td>36.524509</td>\n",
       "    </tr>\n",
       "    <tr>\n",
       "      <th>13</th>\n",
       "      <td>instant_bookable</td>\n",
       "      <td>33.894929</td>\n",
       "    </tr>\n",
       "    <tr>\n",
       "      <th>17</th>\n",
       "      <td>Entire home/apt</td>\n",
       "      <td>32.914522</td>\n",
       "    </tr>\n",
       "    <tr>\n",
       "      <th>12</th>\n",
       "      <td>license</td>\n",
       "      <td>28.890504</td>\n",
       "    </tr>\n",
       "    <tr>\n",
       "      <th>14</th>\n",
       "      <td>calculated_host_listings_count</td>\n",
       "      <td>25.479249</td>\n",
       "    </tr>\n",
       "    <tr>\n",
       "      <th>0</th>\n",
       "      <td>host_identity_verified</td>\n",
       "      <td>13.816096</td>\n",
       "    </tr>\n",
       "    <tr>\n",
       "      <th>9</th>\n",
       "      <td>availability_60</td>\n",
       "      <td>2.347404</td>\n",
       "    </tr>\n",
       "    <tr>\n",
       "      <th>6</th>\n",
       "      <td>minimum_minimum_nights</td>\n",
       "      <td>0.072166</td>\n",
       "    </tr>\n",
       "    <tr>\n",
       "      <th>11</th>\n",
       "      <td>availability_365</td>\n",
       "      <td>0.036150</td>\n",
       "    </tr>\n",
       "    <tr>\n",
       "      <th>10</th>\n",
       "      <td>availability_90</td>\n",
       "      <td>-0.065145</td>\n",
       "    </tr>\n",
       "    <tr>\n",
       "      <th>7</th>\n",
       "      <td>minimum_nights_avg_ntm</td>\n",
       "      <td>-0.124719</td>\n",
       "    </tr>\n",
       "    <tr>\n",
       "      <th>5</th>\n",
       "      <td>minimum_nights</td>\n",
       "      <td>-0.246693</td>\n",
       "    </tr>\n",
       "    <tr>\n",
       "      <th>8</th>\n",
       "      <td>availability_30</td>\n",
       "      <td>-0.790724</td>\n",
       "    </tr>\n",
       "    <tr>\n",
       "      <th>15</th>\n",
       "      <td>calculated_host_listings_count_entire_homes</td>\n",
       "      <td>-25.213955</td>\n",
       "    </tr>\n",
       "    <tr>\n",
       "      <th>16</th>\n",
       "      <td>calculated_host_listings_count_private_rooms</td>\n",
       "      <td>-26.196111</td>\n",
       "    </tr>\n",
       "    <tr>\n",
       "      <th>18</th>\n",
       "      <td>Private room</td>\n",
       "      <td>-32.914522</td>\n",
       "    </tr>\n",
       "    <tr>\n",
       "      <th>2</th>\n",
       "      <td>longitude</td>\n",
       "      <td>-332.376760</td>\n",
       "    </tr>\n",
       "  </tbody>\n",
       "</table>\n",
       "</div>"
      ],
      "text/plain": [
       "                                        Features       Coefs\n",
       "1                                       latitude   85.081651\n",
       "3                                   accommodates   37.707531\n",
       "4                                           beds   36.524509\n",
       "13                              instant_bookable   33.894929\n",
       "17                               Entire home/apt   32.914522\n",
       "12                                       license   28.890504\n",
       "14                calculated_host_listings_count   25.479249\n",
       "0                         host_identity_verified   13.816096\n",
       "9                                availability_60    2.347404\n",
       "6                         minimum_minimum_nights    0.072166\n",
       "11                              availability_365    0.036150\n",
       "10                               availability_90   -0.065145\n",
       "7                         minimum_nights_avg_ntm   -0.124719\n",
       "5                                 minimum_nights   -0.246693\n",
       "8                                availability_30   -0.790724\n",
       "15   calculated_host_listings_count_entire_homes  -25.213955\n",
       "16  calculated_host_listings_count_private_rooms  -26.196111\n",
       "18                                  Private room  -32.914522\n",
       "2                                      longitude -332.376760"
      ]
     },
     "execution_count": 57,
     "metadata": {},
     "output_type": "execute_result"
    }
   ],
   "source": [
    "coef_table = pd.DataFrame(list(X_train.columns), columns=['Features']).copy()\n",
    "coef_table.insert(len(coef_table.columns),\"Coefs\",lm_model.coef_.transpose())\n",
    "coef_table.sort_values(['Coefs'], ascending=False)\n"
   ]
  },
  {
   "cell_type": "markdown",
   "id": "e323c564",
   "metadata": {},
   "source": [
    "Features that highly postively associated with price:\n",
    "* latitude\n",
    "* accommodates\n",
    "* beds\n",
    "* Entire home/apt\n",
    "\n",
    "Features that highly negatively associated with price:\n",
    "* longitude\n",
    "* Private room"
   ]
  },
  {
   "cell_type": "code",
   "execution_count": 58,
   "id": "da751917",
   "metadata": {},
   "outputs": [
    {
     "data": {
      "text/plain": [
       "-27258.239571338945"
      ]
     },
     "execution_count": 58,
     "metadata": {},
     "output_type": "execute_result"
    }
   ],
   "source": [
    "# View the intercept\n",
    "lm_model.intercept_"
   ]
  },
  {
   "cell_type": "code",
   "execution_count": 59,
   "id": "5681b412",
   "metadata": {},
   "outputs": [],
   "source": [
    "def predict_score(model):\n",
    "    \"\"\"\n",
    "    return the accuracy score of the test data for initialized model \n",
    "    input:\n",
    "       initialized model \n",
    "    output:\n",
    "        float\n",
    "    \"\"\"\n",
    "    pred = model.predict(X_test)\n",
    "    \n",
    "    # Calculate the absolute errors\n",
    "    errors = abs(pred - y_test)\n",
    "    \n",
    "    # Calculate mean absolute percentage error\n",
    "    mean_APE = 100 * (errors / y_test)\n",
    "    accuracy = 100 - np.mean(mean_APE)\n",
    "    \n",
    "    return round(accuracy, 4)"
   ]
  },
  {
   "cell_type": "code",
   "execution_count": 60,
   "id": "3900d337",
   "metadata": {},
   "outputs": [
    {
     "name": "stdout",
     "output_type": "stream",
     "text": [
      "Accuracy of RandomForestRegressor on training set: 90.13%.\n",
      "Prediction Accuracy: 60.9241%\n"
     ]
    }
   ],
   "source": [
    "# Train data with Random Forest Regressor\n",
    "rf = RandomForestRegressor(random_state = 42)\n",
    "\n",
    "rf.fit(X_train, y_train)\n",
    "print(f'Accuracy of RandomForestRegressor on training set: {round(rf.score(X_train, y_train)*100,2)}%.')\n",
    "print(f'Prediction Accuracy: {predict_score(rf)}%')"
   ]
  },
  {
   "cell_type": "code",
   "execution_count": 61,
   "id": "ee354408",
   "metadata": {},
   "outputs": [
    {
     "data": {
      "image/png": "[encoded data removed]",
      "text/plain": [
       "<Figure size 1080x432 with 1 Axes>"
      ]
     },
     "metadata": {
      "needs_background": "light"
     },
     "output_type": "display_data"
    }
   ],
   "source": [
    "sorted(rf.feature_importances_)\n",
    "feature_importances = pd.DataFrame(rf.feature_importances_,\n",
    "                                   index = X.columns,\n",
    "                                    columns=['importance']).sort_values('importance',ascending=False)\n",
    "\n",
    "\n",
    "feature_importances.plot.bar(figsize = (15, 6))\n",
    "plt.xlabel('Features', fontsize=18)\n",
    "\n",
    "plt.title('Feature importances', fontsize=20);"
   ]
  },
  {
   "cell_type": "markdown",
   "id": "76780643",
   "metadata": {},
   "source": [
    "Top features that have influence on price:\n",
    "* latitude\n",
    "* longitude\n",
    "* accommodate\n",
    "* availability_365\n",
    "* availability_60\n",
    "*  availability_90\n",
    "* availability_30\n",
    "* beds"
   ]
  },
  {
   "cell_type": "markdown",
   "id": "0d8e7355",
   "metadata": {},
   "source": [
    "# Conclusion <a class=\"anchor\" id=\"4\"></a>"
   ]
  },
  {
   "cell_type": "markdown",
   "id": "9fd4f645",
   "metadata": {},
   "source": [
    "From my analysis, I have some interesting findings that could be helpful for your next trip.\n",
    "\n",
    "* Location: \n",
    "You could choose live in central area with a little bit higher in rental price but close to attractions, or choose edge area where the same rooms could be one hundred dollars cheaper. \n",
    "\n",
    "* Room type:\n",
    "You probably want to live in private or entire home/apt for there are more choices to choose. \n",
    "\n",
    "* Cost per night \n",
    "Roughly, no matter how many people will travel togehter, the avrage cost per person per nihgt will be around 100 dollars.\n",
    "\n",
    "Fianlly, we explore the featrues that affect the price.\n",
    "Based on the previous investigation, we conclude the features listed below have more impact on predicting the price of Boston Airbnb listings:\n",
    "\n",
    "* latitude\n",
    "* longitude\n",
    "* accommodates\n",
    "* availability_365\n",
    "* availability_60\n",
    "* availability_90\n",
    "* availability_30\n",
    "* beds"
   ]
  },
  {
   "cell_type": "markdown",
   "id": "51cf1331",
   "metadata": {},
   "source": [
    "\n",
    "\n"
   ]
  },
  {
   "cell_type": "code",
   "execution_count": null,
   "id": "53f3033b",
   "metadata": {},
   "outputs": [],
   "source": []
  },
  {
   "cell_type": "code",
   "execution_count": null,
   "id": "e1c2c251",
   "metadata": {},
   "outputs": [],
   "source": []
  }
 ],
 "metadata": {
  "kernelspec": {
   "display_name": "Python 3 (ipykernel)",
   "language": "python",
   "name": "python3"
  },
  "language_info": {
   "codemirror_mode": {
    "name": "ipython",
    "version": 3
   },
   "file_extension": ".py",
   "mimetype": "text/x-python",
   "name": "python",
   "nbconvert_exporter": "python",
   "pygments_lexer": "ipython3",
   "version": "3.9.7"
  }
 },
 "nbformat": 4,
 "nbformat_minor": 5
}
