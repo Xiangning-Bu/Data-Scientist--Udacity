{
 "cells": [
  {
   "cell_type": "markdown",
   "metadata": {},
   "source": [
    "# Starbucks Capstone Challenge\n",
    "\n",
    "### [Medium Post](http://) \n",
    "\n",
    "### Introduction\n",
    "\n",
    "This data set contains simulated data that mimics customer behavior on the Starbucks rewards mobile app. Once every few days, Starbucks sends out an offer to users of the mobile app. An offer can be merely an advertisement for a drink or an actual offer such as a discount or BOGO (buy one get one free). Some users might not receive any offer during certain weeks. \n",
    "\n",
    "Not all users receive the same offer, and that is the challenge to solve with this data set.\n",
    "\n",
    "Your task is to combine transaction, demographic and offer data to determine which demographic groups respond best to which offer type. This data set is a simplified version of the real Starbucks app because the underlying simulator only has one product whereas Starbucks actually sells dozens of products.\n",
    "\n",
    "Every offer has a validity period before the offer expires. As an example, a BOGO offer might be valid for only 5 days. You'll see in the data set that informational offers have a validity period even though these ads are merely providing information about a product; for example, if an informational offer has 7 days of validity, you can assume the customer is feeling the influence of the offer for 7 days after receiving the advertisement.\n",
    "\n",
    "You'll be given transactional data showing user purchases made on the app including the timestamp of purchase and the amount of money spent on a purchase. This transactional data also has a record for each offer that a user receives as well as a record for when a user actually views the offer. There are also records for when a user completes an offer. \n",
    "\n",
    "Keep in mind as well that someone using the app might make a purchase through the app without having received an offer or seen an offer.\n",
    "\n",
    "### Example\n",
    "\n",
    "To give an example, a user could receive a discount offer buy 10 dollars get 2 off on Monday. The offer is valid for 10 days from receipt. If the customer accumulates at least 10 dollars in purchases during the validity period, the customer completes the offer.\n",
    "\n",
    "However, there are a few things to watch out for in this data set. Customers do not opt into the offers that they receive; in other words, a user can receive an offer, never actually view the offer, and still complete the offer. For example, a user might receive the \"buy 10 dollars get 2 dollars off offer\", but the user never opens the offer during the 10 day validity period. The customer spends 15 dollars during those ten days. There will be an offer completion record in the data set; however, the customer was not influenced by the offer because the customer never viewed the offer.\n",
    "\n",
    "### Cleaning\n",
    "\n",
    "This makes data cleaning especially important and tricky.\n",
    "\n",
    "You'll also want to take into account that some demographic groups will make purchases even if they don't receive an offer. From a business perspective, if a customer is going to make a 10 dollar purchase without an offer anyway, you wouldn't want to send a buy 10 dollars get 2 dollars off offer. You'll want to try to assess what a certain demographic group will buy when not receiving any offers.\n",
    "\n",
    "### Final Advice\n",
    "\n",
    "Because this is a capstone project, you are free to analyze the data any way you see fit. For example, you could build a machine learning model that predicts how much someone will spend based on demographics and offer type. Or you could build a model that predicts whether or not someone will respond to an offer. Or, you don't need to build a machine learning model at all. You could develop a set of heuristics that determine what offer you should send to each customer (i.e., 75 percent of women customers who were 35 years old responded to offer A vs 40 percent from the same demographic to offer B, so send offer A)."
   ]
  },
  {
   "cell_type": "markdown",
   "metadata": {},
   "source": [
    "# Data Sets\n",
    "\n",
    "The data is contained in three files:\n",
    "\n",
    "* portfolio.json - containing offer ids and meta data about each offer (duration, type, etc.)\n",
    "* profile.json - demographic data for each customer\n",
    "* transcript.json - records for transactions, offers received, offers viewed, and offers completed\n",
    "\n",
    "Here is the schema and explanation of each variable in the files:\n",
    "\n",
    "**portfolio.json**\n",
    "* id (string) - offer id\n",
    "* offer_type (string) - type of offer ie BOGO, discount, informational\n",
    "* difficulty (int) - minimum required spend to complete an offer\n",
    "* reward (int) - reward given for completing an offer\n",
    "* duration (int) - time for offer to be open, in days\n",
    "* channels (list of strings)\n",
    "\n",
    "**profile.json**\n",
    "* age (int) - age of the customer \n",
    "* became_member_on (int) - date when customer created an app account\n",
    "* gender (str) - gender of the customer (note some entries contain 'O' for other rather than M or F)\n",
    "* id (str) - customer id\n",
    "* income (float) - customer's income\n",
    "\n",
    "**transcript.json**\n",
    "* event (str) - record description (ie transaction, offer received, offer viewed, etc.)\n",
    "* person (str) - customer id\n",
    "* time (int) - time in hours since start of test. The data begins at time t=0\n",
    "* value - (dict of strings) - either an offer id or transaction amount depending on the record"
   ]
  },
  {
   "cell_type": "markdown",
   "metadata": {},
   "source": [
    "## Problem Statement\n",
    "\n",
    "Our main goal to be approached by the analysis:\n",
    "\n",
    "1. What do we learn from the datasets: \n",
    " - What does the customer's basic demographic distribution looks like, such as age and income ?\n",
    " - What is the effectiveness of the offers provided by Starbucks? (Successful rate)\n",
    " - Are there any demographic preference for the offers?    \n",
    " \n",
    " \n",
    "2. Could we predict the target customers to improve the effectiveness in the future?\n",
    " - Prediction accuracy: How good of our prediction model?\n",
    " - Feature Importances: What are the main factors that define the usage of offers?\n"
   ]
  },
  {
   "cell_type": "code",
   "execution_count": 2,
   "metadata": {},
   "outputs": [],
   "source": [
    "import pandas as pd\n",
    "import numpy as np\n",
    "import math\n",
    "import json\n",
    "import seaborn as sns\n",
    "import matplotlib.pyplot as plt\n",
    "%matplotlib inline\n",
    "\n",
    "import datetime\n",
    "import progressbar\n",
    "\n",
    "from sklearn.preprocessing import MinMaxScaler\n",
    "from sklearn.model_selection import train_test_split, GridSearchCV\n",
    "from sklearn.ensemble import RandomForestClassifier, AdaBoostClassifier, GradientBoostingClassifier\n",
    "from sklearn.metrics import accuracy_score, classification_report\n",
    "\n",
    "# read in the json files\n",
    "portfolio = pd.read_json('data/portfolio.json',  orient='records', lines=True)\n",
    "profile = pd.read_json('data/profile.json', orient='records', lines=True)\n",
    "transcript = pd.read_json('data/transcript.json', orient='records', lines=True)"
   ]
  },
  {
   "cell_type": "markdown",
   "metadata": {},
   "source": [
    "### Overview of datasets"
   ]
  },
  {
   "cell_type": "code",
   "execution_count": 3,
   "metadata": {},
   "outputs": [
    {
     "data": {
      "text/html": [
       "<div>\n",
       "<style scoped>\n",
       "    .dataframe tbody tr th:only-of-type {\n",
       "        vertical-align: middle;\n",
       "    }\n",
       "\n",
       "    .dataframe tbody tr th {\n",
       "        vertical-align: top;\n",
       "    }\n",
       "\n",
       "    .dataframe thead th {\n",
       "        text-align: right;\n",
       "    }\n",
       "</style>\n",
       "<table border=\"1\" class=\"dataframe\">\n",
       "  <thead>\n",
       "    <tr style=\"text-align: right;\">\n",
       "      <th></th>\n",
       "      <th>reward</th>\n",
       "      <th>channels</th>\n",
       "      <th>difficulty</th>\n",
       "      <th>duration</th>\n",
       "      <th>offer_type</th>\n",
       "      <th>id</th>\n",
       "    </tr>\n",
       "  </thead>\n",
       "  <tbody>\n",
       "    <tr>\n",
       "      <th>0</th>\n",
       "      <td>10</td>\n",
       "      <td>[email, mobile, social]</td>\n",
       "      <td>10</td>\n",
       "      <td>7</td>\n",
       "      <td>bogo</td>\n",
       "      <td>ae264e3637204a6fb9bb56bc8210ddfd</td>\n",
       "    </tr>\n",
       "    <tr>\n",
       "      <th>1</th>\n",
       "      <td>10</td>\n",
       "      <td>[web, email, mobile, social]</td>\n",
       "      <td>10</td>\n",
       "      <td>5</td>\n",
       "      <td>bogo</td>\n",
       "      <td>4d5c57ea9a6940dd891ad53e9dbe8da0</td>\n",
       "    </tr>\n",
       "    <tr>\n",
       "      <th>2</th>\n",
       "      <td>0</td>\n",
       "      <td>[web, email, mobile]</td>\n",
       "      <td>0</td>\n",
       "      <td>4</td>\n",
       "      <td>informational</td>\n",
       "      <td>3f207df678b143eea3cee63160fa8bed</td>\n",
       "    </tr>\n",
       "    <tr>\n",
       "      <th>3</th>\n",
       "      <td>5</td>\n",
       "      <td>[web, email, mobile]</td>\n",
       "      <td>5</td>\n",
       "      <td>7</td>\n",
       "      <td>bogo</td>\n",
       "      <td>9b98b8c7a33c4b65b9aebfe6a799e6d9</td>\n",
       "    </tr>\n",
       "    <tr>\n",
       "      <th>4</th>\n",
       "      <td>5</td>\n",
       "      <td>[web, email]</td>\n",
       "      <td>20</td>\n",
       "      <td>10</td>\n",
       "      <td>discount</td>\n",
       "      <td>0b1e1539f2cc45b7b9fa7c272da2e1d7</td>\n",
       "    </tr>\n",
       "    <tr>\n",
       "      <th>5</th>\n",
       "      <td>3</td>\n",
       "      <td>[web, email, mobile, social]</td>\n",
       "      <td>7</td>\n",
       "      <td>7</td>\n",
       "      <td>discount</td>\n",
       "      <td>2298d6c36e964ae4a3e7e9706d1fb8c2</td>\n",
       "    </tr>\n",
       "    <tr>\n",
       "      <th>6</th>\n",
       "      <td>2</td>\n",
       "      <td>[web, email, mobile, social]</td>\n",
       "      <td>10</td>\n",
       "      <td>10</td>\n",
       "      <td>discount</td>\n",
       "      <td>fafdcd668e3743c1bb461111dcafc2a4</td>\n",
       "    </tr>\n",
       "    <tr>\n",
       "      <th>7</th>\n",
       "      <td>0</td>\n",
       "      <td>[email, mobile, social]</td>\n",
       "      <td>0</td>\n",
       "      <td>3</td>\n",
       "      <td>informational</td>\n",
       "      <td>5a8bc65990b245e5a138643cd4eb9837</td>\n",
       "    </tr>\n",
       "    <tr>\n",
       "      <th>8</th>\n",
       "      <td>5</td>\n",
       "      <td>[web, email, mobile, social]</td>\n",
       "      <td>5</td>\n",
       "      <td>5</td>\n",
       "      <td>bogo</td>\n",
       "      <td>f19421c1d4aa40978ebb69ca19b0e20d</td>\n",
       "    </tr>\n",
       "    <tr>\n",
       "      <th>9</th>\n",
       "      <td>2</td>\n",
       "      <td>[web, email, mobile]</td>\n",
       "      <td>10</td>\n",
       "      <td>7</td>\n",
       "      <td>discount</td>\n",
       "      <td>2906b810c7d4411798c6938adc9daaa5</td>\n",
       "    </tr>\n",
       "  </tbody>\n",
       "</table>\n",
       "</div>"
      ],
      "text/plain": [
       "   reward                      channels  difficulty  duration     offer_type  \\\n",
       "0      10       [email, mobile, social]          10         7           bogo   \n",
       "1      10  [web, email, mobile, social]          10         5           bogo   \n",
       "2       0          [web, email, mobile]           0         4  informational   \n",
       "3       5          [web, email, mobile]           5         7           bogo   \n",
       "4       5                  [web, email]          20        10       discount   \n",
       "5       3  [web, email, mobile, social]           7         7       discount   \n",
       "6       2  [web, email, mobile, social]          10        10       discount   \n",
       "7       0       [email, mobile, social]           0         3  informational   \n",
       "8       5  [web, email, mobile, social]           5         5           bogo   \n",
       "9       2          [web, email, mobile]          10         7       discount   \n",
       "\n",
       "                                 id  \n",
       "0  ae264e3637204a6fb9bb56bc8210ddfd  \n",
       "1  4d5c57ea9a6940dd891ad53e9dbe8da0  \n",
       "2  3f207df678b143eea3cee63160fa8bed  \n",
       "3  9b98b8c7a33c4b65b9aebfe6a799e6d9  \n",
       "4  0b1e1539f2cc45b7b9fa7c272da2e1d7  \n",
       "5  2298d6c36e964ae4a3e7e9706d1fb8c2  \n",
       "6  fafdcd668e3743c1bb461111dcafc2a4  \n",
       "7  5a8bc65990b245e5a138643cd4eb9837  \n",
       "8  f19421c1d4aa40978ebb69ca19b0e20d  \n",
       "9  2906b810c7d4411798c6938adc9daaa5  "
      ]
     },
     "execution_count": 3,
     "metadata": {},
     "output_type": "execute_result"
    }
   ],
   "source": [
    "portfolio.head(10)"
   ]
  },
  {
   "cell_type": "code",
   "execution_count": 4,
   "metadata": {},
   "outputs": [
    {
     "data": {
      "text/html": [
       "<div>\n",
       "<style scoped>\n",
       "    .dataframe tbody tr th:only-of-type {\n",
       "        vertical-align: middle;\n",
       "    }\n",
       "\n",
       "    .dataframe tbody tr th {\n",
       "        vertical-align: top;\n",
       "    }\n",
       "\n",
       "    .dataframe thead th {\n",
       "        text-align: right;\n",
       "    }\n",
       "</style>\n",
       "<table border=\"1\" class=\"dataframe\">\n",
       "  <thead>\n",
       "    <tr style=\"text-align: right;\">\n",
       "      <th></th>\n",
       "      <th>gender</th>\n",
       "      <th>age</th>\n",
       "      <th>id</th>\n",
       "      <th>became_member_on</th>\n",
       "      <th>income</th>\n",
       "    </tr>\n",
       "  </thead>\n",
       "  <tbody>\n",
       "    <tr>\n",
       "      <th>12270</th>\n",
       "      <td>M</td>\n",
       "      <td>45</td>\n",
       "      <td>7d47f3a573e34dadb223d70389da903f</td>\n",
       "      <td>20140609</td>\n",
       "      <td>94000.0</td>\n",
       "    </tr>\n",
       "    <tr>\n",
       "      <th>13484</th>\n",
       "      <td>O</td>\n",
       "      <td>77</td>\n",
       "      <td>9f87368b6d19434780c51ba9b45334e8</td>\n",
       "      <td>20171218</td>\n",
       "      <td>92000.0</td>\n",
       "    </tr>\n",
       "    <tr>\n",
       "      <th>11222</th>\n",
       "      <td>F</td>\n",
       "      <td>66</td>\n",
       "      <td>39736eee807a4ab1a9a08c642e530538</td>\n",
       "      <td>20160724</td>\n",
       "      <td>42000.0</td>\n",
       "    </tr>\n",
       "    <tr>\n",
       "      <th>16565</th>\n",
       "      <td>None</td>\n",
       "      <td>118</td>\n",
       "      <td>ce96fff5ef0a41e1a217728a81f6722a</td>\n",
       "      <td>20160322</td>\n",
       "      <td>NaN</td>\n",
       "    </tr>\n",
       "    <tr>\n",
       "      <th>1730</th>\n",
       "      <td>F</td>\n",
       "      <td>56</td>\n",
       "      <td>b991355e11ce45789521f22bcd12804a</td>\n",
       "      <td>20180222</td>\n",
       "      <td>80000.0</td>\n",
       "    </tr>\n",
       "  </tbody>\n",
       "</table>\n",
       "</div>"
      ],
      "text/plain": [
       "      gender  age                                id  became_member_on   income\n",
       "12270      M   45  7d47f3a573e34dadb223d70389da903f          20140609  94000.0\n",
       "13484      O   77  9f87368b6d19434780c51ba9b45334e8          20171218  92000.0\n",
       "11222      F   66  39736eee807a4ab1a9a08c642e530538          20160724  42000.0\n",
       "16565   None  118  ce96fff5ef0a41e1a217728a81f6722a          20160322      NaN\n",
       "1730       F   56  b991355e11ce45789521f22bcd12804a          20180222  80000.0"
      ]
     },
     "execution_count": 4,
     "metadata": {},
     "output_type": "execute_result"
    }
   ],
   "source": [
    "profile.sample(5)"
   ]
  },
  {
   "cell_type": "code",
   "execution_count": 5,
   "metadata": {},
   "outputs": [
    {
     "data": {
      "text/html": [
       "<div>\n",
       "<style scoped>\n",
       "    .dataframe tbody tr th:only-of-type {\n",
       "        vertical-align: middle;\n",
       "    }\n",
       "\n",
       "    .dataframe tbody tr th {\n",
       "        vertical-align: top;\n",
       "    }\n",
       "\n",
       "    .dataframe thead th {\n",
       "        text-align: right;\n",
       "    }\n",
       "</style>\n",
       "<table border=\"1\" class=\"dataframe\">\n",
       "  <thead>\n",
       "    <tr style=\"text-align: right;\">\n",
       "      <th></th>\n",
       "      <th>person</th>\n",
       "      <th>event</th>\n",
       "      <th>value</th>\n",
       "      <th>time</th>\n",
       "    </tr>\n",
       "  </thead>\n",
       "  <tbody>\n",
       "    <tr>\n",
       "      <th>243585</th>\n",
       "      <td>0673e9690e874b7b842da2be63d2de84</td>\n",
       "      <td>transaction</td>\n",
       "      <td>{'amount': 26.09}</td>\n",
       "      <td>570</td>\n",
       "    </tr>\n",
       "    <tr>\n",
       "      <th>80771</th>\n",
       "      <td>ed45c5b6d69b4c17a7855caec289b021</td>\n",
       "      <td>offer completed</td>\n",
       "      <td>{'offer_id': 'fafdcd668e3743c1bb461111dcafc2a4...</td>\n",
       "      <td>198</td>\n",
       "    </tr>\n",
       "    <tr>\n",
       "      <th>244967</th>\n",
       "      <td>1a85ed00b630425aba646b057c6b0f18</td>\n",
       "      <td>transaction</td>\n",
       "      <td>{'amount': 1.9300000000000002}</td>\n",
       "      <td>570</td>\n",
       "    </tr>\n",
       "    <tr>\n",
       "      <th>176251</th>\n",
       "      <td>d5da09de843d412b9739c08c5bd212c7</td>\n",
       "      <td>transaction</td>\n",
       "      <td>{'amount': 13.47}</td>\n",
       "      <td>426</td>\n",
       "    </tr>\n",
       "    <tr>\n",
       "      <th>6666</th>\n",
       "      <td>a5016c17d5ef450482fa82c002896476</td>\n",
       "      <td>offer received</td>\n",
       "      <td>{'offer id': '2906b810c7d4411798c6938adc9daaa5'}</td>\n",
       "      <td>0</td>\n",
       "    </tr>\n",
       "  </tbody>\n",
       "</table>\n",
       "</div>"
      ],
      "text/plain": [
       "                                  person            event  \\\n",
       "243585  0673e9690e874b7b842da2be63d2de84      transaction   \n",
       "80771   ed45c5b6d69b4c17a7855caec289b021  offer completed   \n",
       "244967  1a85ed00b630425aba646b057c6b0f18      transaction   \n",
       "176251  d5da09de843d412b9739c08c5bd212c7      transaction   \n",
       "6666    a5016c17d5ef450482fa82c002896476   offer received   \n",
       "\n",
       "                                                    value  time  \n",
       "243585                                  {'amount': 26.09}   570  \n",
       "80771   {'offer_id': 'fafdcd668e3743c1bb461111dcafc2a4...   198  \n",
       "244967                     {'amount': 1.9300000000000002}   570  \n",
       "176251                                  {'amount': 13.47}   426  \n",
       "6666     {'offer id': '2906b810c7d4411798c6938adc9daaa5'}     0  "
      ]
     },
     "execution_count": 5,
     "metadata": {},
     "output_type": "execute_result"
    }
   ],
   "source": [
    "transcript.sample(5)"
   ]
  },
  {
   "cell_type": "code",
   "execution_count": 6,
   "metadata": {},
   "outputs": [
    {
     "data": {
      "text/plain": [
       "((10, 6), (17000, 5), (306534, 4))"
      ]
     },
     "execution_count": 6,
     "metadata": {},
     "output_type": "execute_result"
    }
   ],
   "source": [
    "portfolio.shape, profile.shape, transcript.shape"
   ]
  },
  {
   "cell_type": "code",
   "execution_count": 7,
   "metadata": {},
   "outputs": [
    {
     "data": {
      "text/plain": [
       "gender              2175\n",
       "age                    0\n",
       "id                     0\n",
       "became_member_on       0\n",
       "income              2175\n",
       "dtype: int64"
      ]
     },
     "execution_count": 7,
     "metadata": {},
     "output_type": "execute_result"
    }
   ],
   "source": [
    "# check NaN values\n",
    "profile.isnull().sum()"
   ]
  },
  {
   "cell_type": "code",
   "execution_count": 8,
   "metadata": {},
   "outputs": [
    {
     "data": {
      "image/png": "[encoded data removed]",
      "text/plain": [
       "<Figure size 1080x360 with 3 Axes>"
      ]
     },
     "metadata": {
      "needs_background": "light"
     },
     "output_type": "display_data"
    }
   ],
   "source": [
    "# A quick look at the data distribution \n",
    "profile.hist(column =['age', 'income', 'became_member_on'], layout=(1,3), figsize= (15, 5), bins =15);"
   ]
  },
  {
   "cell_type": "code",
   "execution_count": 9,
   "metadata": {},
   "outputs": [
    {
     "data": {
      "text/html": [
       "<div>\n",
       "<style scoped>\n",
       "    .dataframe tbody tr th:only-of-type {\n",
       "        vertical-align: middle;\n",
       "    }\n",
       "\n",
       "    .dataframe tbody tr th {\n",
       "        vertical-align: top;\n",
       "    }\n",
       "\n",
       "    .dataframe thead th {\n",
       "        text-align: right;\n",
       "    }\n",
       "</style>\n",
       "<table border=\"1\" class=\"dataframe\">\n",
       "  <thead>\n",
       "    <tr style=\"text-align: right;\">\n",
       "      <th></th>\n",
       "      <th>gender</th>\n",
       "      <th>age</th>\n",
       "      <th>id</th>\n",
       "      <th>became_member_on</th>\n",
       "      <th>income</th>\n",
       "    </tr>\n",
       "  </thead>\n",
       "  <tbody>\n",
       "    <tr>\n",
       "      <th>0</th>\n",
       "      <td>None</td>\n",
       "      <td>118</td>\n",
       "      <td>68be06ca386d4c31939f3a4f0e3dd783</td>\n",
       "      <td>20170212</td>\n",
       "      <td>NaN</td>\n",
       "    </tr>\n",
       "    <tr>\n",
       "      <th>2</th>\n",
       "      <td>None</td>\n",
       "      <td>118</td>\n",
       "      <td>38fe809add3b4fcf9315a9694bb96ff5</td>\n",
       "      <td>20180712</td>\n",
       "      <td>NaN</td>\n",
       "    </tr>\n",
       "    <tr>\n",
       "      <th>4</th>\n",
       "      <td>None</td>\n",
       "      <td>118</td>\n",
       "      <td>a03223e636434f42ac4c3df47e8bac43</td>\n",
       "      <td>20170804</td>\n",
       "      <td>NaN</td>\n",
       "    </tr>\n",
       "    <tr>\n",
       "      <th>6</th>\n",
       "      <td>None</td>\n",
       "      <td>118</td>\n",
       "      <td>8ec6ce2a7e7949b1bf142def7d0e0586</td>\n",
       "      <td>20170925</td>\n",
       "      <td>NaN</td>\n",
       "    </tr>\n",
       "    <tr>\n",
       "      <th>7</th>\n",
       "      <td>None</td>\n",
       "      <td>118</td>\n",
       "      <td>68617ca6246f4fbc85e91a2a49552598</td>\n",
       "      <td>20171002</td>\n",
       "      <td>NaN</td>\n",
       "    </tr>\n",
       "    <tr>\n",
       "      <th>...</th>\n",
       "      <td>...</td>\n",
       "      <td>...</td>\n",
       "      <td>...</td>\n",
       "      <td>...</td>\n",
       "      <td>...</td>\n",
       "    </tr>\n",
       "    <tr>\n",
       "      <th>16980</th>\n",
       "      <td>None</td>\n",
       "      <td>118</td>\n",
       "      <td>5c686d09ca4d475a8f750f2ba07e0440</td>\n",
       "      <td>20160901</td>\n",
       "      <td>NaN</td>\n",
       "    </tr>\n",
       "    <tr>\n",
       "      <th>16982</th>\n",
       "      <td>None</td>\n",
       "      <td>118</td>\n",
       "      <td>d9ca82f550ac4ee58b6299cf1e5c824a</td>\n",
       "      <td>20160415</td>\n",
       "      <td>NaN</td>\n",
       "    </tr>\n",
       "    <tr>\n",
       "      <th>16989</th>\n",
       "      <td>None</td>\n",
       "      <td>118</td>\n",
       "      <td>ca45ee1883624304bac1e4c8a114f045</td>\n",
       "      <td>20180305</td>\n",
       "      <td>NaN</td>\n",
       "    </tr>\n",
       "    <tr>\n",
       "      <th>16991</th>\n",
       "      <td>None</td>\n",
       "      <td>118</td>\n",
       "      <td>a9a20fa8b5504360beb4e7c8712f8306</td>\n",
       "      <td>20160116</td>\n",
       "      <td>NaN</td>\n",
       "    </tr>\n",
       "    <tr>\n",
       "      <th>16994</th>\n",
       "      <td>None</td>\n",
       "      <td>118</td>\n",
       "      <td>c02b10e8752c4d8e9b73f918558531f7</td>\n",
       "      <td>20151211</td>\n",
       "      <td>NaN</td>\n",
       "    </tr>\n",
       "  </tbody>\n",
       "</table>\n",
       "<p>2175 rows × 5 columns</p>\n",
       "</div>"
      ],
      "text/plain": [
       "      gender  age                                id  became_member_on  income\n",
       "0       None  118  68be06ca386d4c31939f3a4f0e3dd783          20170212     NaN\n",
       "2       None  118  38fe809add3b4fcf9315a9694bb96ff5          20180712     NaN\n",
       "4       None  118  a03223e636434f42ac4c3df47e8bac43          20170804     NaN\n",
       "6       None  118  8ec6ce2a7e7949b1bf142def7d0e0586          20170925     NaN\n",
       "7       None  118  68617ca6246f4fbc85e91a2a49552598          20171002     NaN\n",
       "...      ...  ...                               ...               ...     ...\n",
       "16980   None  118  5c686d09ca4d475a8f750f2ba07e0440          20160901     NaN\n",
       "16982   None  118  d9ca82f550ac4ee58b6299cf1e5c824a          20160415     NaN\n",
       "16989   None  118  ca45ee1883624304bac1e4c8a114f045          20180305     NaN\n",
       "16991   None  118  a9a20fa8b5504360beb4e7c8712f8306          20160116     NaN\n",
       "16994   None  118  c02b10e8752c4d8e9b73f918558531f7          20151211     NaN\n",
       "\n",
       "[2175 rows x 5 columns]"
      ]
     },
     "execution_count": 9,
     "metadata": {},
     "output_type": "execute_result"
    }
   ],
   "source": [
    "# Customers with age 118\n",
    "profile.query(\"age ==118\")"
   ]
  },
  {
   "cell_type": "markdown",
   "metadata": {},
   "source": [
    "Customers whose age are 118. It seems that these customers do not have gender and income information either. Actually 118 is a placeholder for those who do not want to provide their ages. "
   ]
  },
  {
   "cell_type": "code",
   "execution_count": 10,
   "metadata": {},
   "outputs": [
    {
     "name": "stdout",
     "output_type": "stream",
     "text": [
      "M    8484\n",
      "F    6129\n",
      "O     212\n",
      "Name: gender, dtype: int64\n"
     ]
    },
    {
     "data": {
      "image/png": "[encoded data removed]",
      "text/plain": [
       "<Figure size 432x288 with 1 Axes>"
      ]
     },
     "metadata": {
      "needs_background": "light"
     },
     "output_type": "display_data"
    }
   ],
   "source": [
    "#Count of cusotmer based on gender\n",
    "print(profile.gender.value_counts())\n",
    "\n",
    "count = profile.gender.value_counts() \n",
    "x = ['M','F','O']\n",
    "plt.bar(x, height=count)\n",
    "plt.xlabel('Gender Type');\n",
    "plt.ylabel('Count')\n",
    "plt.title('The Number of Customers in Each Gender Type');"
   ]
  },
  {
   "cell_type": "markdown",
   "metadata": {},
   "source": [
    "There are more male cusotmers than female customers."
   ]
  },
  {
   "cell_type": "code",
   "execution_count": 11,
   "metadata": {},
   "outputs": [
    {
     "data": {
      "text/plain": [
       "person    0\n",
       "event     0\n",
       "value     0\n",
       "time      0\n",
       "dtype: int64"
      ]
     },
     "execution_count": 11,
     "metadata": {},
     "output_type": "execute_result"
    }
   ],
   "source": [
    "# Check Null values\n",
    "transcript.isnull().sum()"
   ]
  },
  {
   "cell_type": "code",
   "execution_count": 12,
   "metadata": {},
   "outputs": [
    {
     "data": {
      "text/plain": [
       "transaction        138953\n",
       "offer received      76277\n",
       "offer viewed        57725\n",
       "offer completed     33579\n",
       "Name: event, dtype: int64"
      ]
     },
     "execution_count": 12,
     "metadata": {},
     "output_type": "execute_result"
    }
   ],
   "source": [
    "# value counts for different events\n",
    "transcript.event.value_counts()"
   ]
  },
  {
   "cell_type": "code",
   "execution_count": 13,
   "metadata": {},
   "outputs": [
    {
     "data": {
      "text/html": [
       "<div>\n",
       "<style scoped>\n",
       "    .dataframe tbody tr th:only-of-type {\n",
       "        vertical-align: middle;\n",
       "    }\n",
       "\n",
       "    .dataframe tbody tr th {\n",
       "        vertical-align: top;\n",
       "    }\n",
       "\n",
       "    .dataframe thead th {\n",
       "        text-align: right;\n",
       "    }\n",
       "</style>\n",
       "<table border=\"1\" class=\"dataframe\">\n",
       "  <thead>\n",
       "    <tr style=\"text-align: right;\">\n",
       "      <th></th>\n",
       "      <th>gender</th>\n",
       "      <th>age</th>\n",
       "      <th>id</th>\n",
       "      <th>became_member_on</th>\n",
       "      <th>income</th>\n",
       "    </tr>\n",
       "  </thead>\n",
       "  <tbody>\n",
       "  </tbody>\n",
       "</table>\n",
       "</div>"
      ],
      "text/plain": [
       "Empty DataFrame\n",
       "Columns: [gender, age, id, became_member_on, income]\n",
       "Index: []"
      ]
     },
     "execution_count": 13,
     "metadata": {},
     "output_type": "execute_result"
    }
   ],
   "source": [
    "# Drop all those columns from the profile since there are no infomration about the gender and income \n",
    "profile =profile.query(\"age!=118\")\n",
    "profile.query(\"age==118\")"
   ]
  },
  {
   "cell_type": "markdown",
   "metadata": {},
   "source": [
    "### Data pre-process\n",
    "* **profile dataset**: Extract year and month from become_member_year in to seperated columns\n",
    "* **transcript dataset**: Extract the keys and values from column \"value\" in transcript and convert to seperated columns\n",
    "* Combine three datasets into one based on 'customer id' and 'offer id'"
   ]
  },
  {
   "cell_type": "code",
   "execution_count": 14,
   "metadata": {},
   "outputs": [
    {
     "data": {
      "text/plain": [
       "gender                      object\n",
       "age                          int64\n",
       "id                          object\n",
       "became_member_on    datetime64[ns]\n",
       "income                     float64\n",
       "dtype: object"
      ]
     },
     "execution_count": 14,
     "metadata": {},
     "output_type": "execute_result"
    }
   ],
   "source": [
    "#convert became_member_on to datetime type\n",
    "profile['became_member_on'] = pd.to_datetime(profile['became_member_on'], format='%Y%m%d')\n",
    "profile.dtypes"
   ]
  },
  {
   "cell_type": "code",
   "execution_count": 15,
   "metadata": {},
   "outputs": [
    {
     "data": {
      "text/html": [
       "<div>\n",
       "<style scoped>\n",
       "    .dataframe tbody tr th:only-of-type {\n",
       "        vertical-align: middle;\n",
       "    }\n",
       "\n",
       "    .dataframe tbody tr th {\n",
       "        vertical-align: top;\n",
       "    }\n",
       "\n",
       "    .dataframe thead th {\n",
       "        text-align: right;\n",
       "    }\n",
       "</style>\n",
       "<table border=\"1\" class=\"dataframe\">\n",
       "  <thead>\n",
       "    <tr style=\"text-align: right;\">\n",
       "      <th></th>\n",
       "      <th>gender</th>\n",
       "      <th>age</th>\n",
       "      <th>id</th>\n",
       "      <th>became_member_on</th>\n",
       "      <th>income</th>\n",
       "      <th>member_year</th>\n",
       "      <th>mebmer_month</th>\n",
       "    </tr>\n",
       "  </thead>\n",
       "  <tbody>\n",
       "    <tr>\n",
       "      <th>1</th>\n",
       "      <td>F</td>\n",
       "      <td>55</td>\n",
       "      <td>0610b486422d4921ae7d2bf64640c50b</td>\n",
       "      <td>2017-07-15</td>\n",
       "      <td>112000.0</td>\n",
       "      <td>2017</td>\n",
       "      <td>7</td>\n",
       "    </tr>\n",
       "    <tr>\n",
       "      <th>3</th>\n",
       "      <td>F</td>\n",
       "      <td>75</td>\n",
       "      <td>78afa995795e4d85b5d9ceeca43f5fef</td>\n",
       "      <td>2017-05-09</td>\n",
       "      <td>100000.0</td>\n",
       "      <td>2017</td>\n",
       "      <td>5</td>\n",
       "    </tr>\n",
       "    <tr>\n",
       "      <th>5</th>\n",
       "      <td>M</td>\n",
       "      <td>68</td>\n",
       "      <td>e2127556f4f64592b11af22de27a7932</td>\n",
       "      <td>2018-04-26</td>\n",
       "      <td>70000.0</td>\n",
       "      <td>2018</td>\n",
       "      <td>4</td>\n",
       "    </tr>\n",
       "    <tr>\n",
       "      <th>8</th>\n",
       "      <td>M</td>\n",
       "      <td>65</td>\n",
       "      <td>389bc3fa690240e798340f5a15918d5c</td>\n",
       "      <td>2018-02-09</td>\n",
       "      <td>53000.0</td>\n",
       "      <td>2018</td>\n",
       "      <td>2</td>\n",
       "    </tr>\n",
       "    <tr>\n",
       "      <th>12</th>\n",
       "      <td>M</td>\n",
       "      <td>58</td>\n",
       "      <td>2eeac8d8feae4a8cad5a6af0499a211d</td>\n",
       "      <td>2017-11-11</td>\n",
       "      <td>51000.0</td>\n",
       "      <td>2017</td>\n",
       "      <td>11</td>\n",
       "    </tr>\n",
       "  </tbody>\n",
       "</table>\n",
       "</div>"
      ],
      "text/plain": [
       "   gender  age                                id became_member_on    income  \\\n",
       "1       F   55  0610b486422d4921ae7d2bf64640c50b       2017-07-15  112000.0   \n",
       "3       F   75  78afa995795e4d85b5d9ceeca43f5fef       2017-05-09  100000.0   \n",
       "5       M   68  e2127556f4f64592b11af22de27a7932       2018-04-26   70000.0   \n",
       "8       M   65  389bc3fa690240e798340f5a15918d5c       2018-02-09   53000.0   \n",
       "12      M   58  2eeac8d8feae4a8cad5a6af0499a211d       2017-11-11   51000.0   \n",
       "\n",
       "    member_year  mebmer_month  \n",
       "1          2017             7  \n",
       "3          2017             5  \n",
       "5          2018             4  \n",
       "8          2018             2  \n",
       "12         2017            11  "
      ]
     },
     "execution_count": 15,
     "metadata": {},
     "output_type": "execute_result"
    }
   ],
   "source": [
    "# Extract the year and month when become member \n",
    "profile['member_year']= profile['became_member_on'].dt.year\n",
    "profile['mebmer_month']= profile['became_member_on'].dt.month\n",
    "profile.head()"
   ]
  },
  {
   "cell_type": "code",
   "execution_count": 16,
   "metadata": {},
   "outputs": [
    {
     "data": {
      "text/plain": [
       "{'amount', 'offer id', 'offer_id', 'reward'}"
      ]
     },
     "execution_count": 16,
     "metadata": {},
     "output_type": "execute_result"
    }
   ],
   "source": [
    "# find out all the dictionary keys in value column\n",
    "keys = set()\n",
    "\n",
    "for i in transcript['value']:\n",
    "    for k, v in i.items():\n",
    "        keys.add(k)\n",
    "keys   "
   ]
  },
  {
   "cell_type": "code",
   "execution_count": 17,
   "metadata": {},
   "outputs": [
    {
     "data": {
      "text/html": [
       "<div>\n",
       "<style scoped>\n",
       "    .dataframe tbody tr th:only-of-type {\n",
       "        vertical-align: middle;\n",
       "    }\n",
       "\n",
       "    .dataframe tbody tr th {\n",
       "        vertical-align: top;\n",
       "    }\n",
       "\n",
       "    .dataframe thead th {\n",
       "        text-align: right;\n",
       "    }\n",
       "</style>\n",
       "<table border=\"1\" class=\"dataframe\">\n",
       "  <thead>\n",
       "    <tr style=\"text-align: right;\">\n",
       "      <th></th>\n",
       "      <th>person</th>\n",
       "      <th>event</th>\n",
       "      <th>value</th>\n",
       "      <th>time</th>\n",
       "      <th>amount</th>\n",
       "      <th>offer_id</th>\n",
       "      <th>reward</th>\n",
       "    </tr>\n",
       "  </thead>\n",
       "  <tbody>\n",
       "    <tr>\n",
       "      <th>0</th>\n",
       "      <td>78afa995795e4d85b5d9ceeca43f5fef</td>\n",
       "      <td>offer received</td>\n",
       "      <td>{'offer id': '9b98b8c7a33c4b65b9aebfe6a799e6d9'}</td>\n",
       "      <td>0</td>\n",
       "      <td>NaN</td>\n",
       "      <td>9b98b8c7a33c4b65b9aebfe6a799e6d9</td>\n",
       "      <td>NaN</td>\n",
       "    </tr>\n",
       "    <tr>\n",
       "      <th>1</th>\n",
       "      <td>a03223e636434f42ac4c3df47e8bac43</td>\n",
       "      <td>offer received</td>\n",
       "      <td>{'offer id': '0b1e1539f2cc45b7b9fa7c272da2e1d7'}</td>\n",
       "      <td>0</td>\n",
       "      <td>NaN</td>\n",
       "      <td>0b1e1539f2cc45b7b9fa7c272da2e1d7</td>\n",
       "      <td>NaN</td>\n",
       "    </tr>\n",
       "    <tr>\n",
       "      <th>2</th>\n",
       "      <td>e2127556f4f64592b11af22de27a7932</td>\n",
       "      <td>offer received</td>\n",
       "      <td>{'offer id': '2906b810c7d4411798c6938adc9daaa5'}</td>\n",
       "      <td>0</td>\n",
       "      <td>NaN</td>\n",
       "      <td>2906b810c7d4411798c6938adc9daaa5</td>\n",
       "      <td>NaN</td>\n",
       "    </tr>\n",
       "    <tr>\n",
       "      <th>3</th>\n",
       "      <td>8ec6ce2a7e7949b1bf142def7d0e0586</td>\n",
       "      <td>offer received</td>\n",
       "      <td>{'offer id': 'fafdcd668e3743c1bb461111dcafc2a4'}</td>\n",
       "      <td>0</td>\n",
       "      <td>NaN</td>\n",
       "      <td>fafdcd668e3743c1bb461111dcafc2a4</td>\n",
       "      <td>NaN</td>\n",
       "    </tr>\n",
       "    <tr>\n",
       "      <th>4</th>\n",
       "      <td>68617ca6246f4fbc85e91a2a49552598</td>\n",
       "      <td>offer received</td>\n",
       "      <td>{'offer id': '4d5c57ea9a6940dd891ad53e9dbe8da0'}</td>\n",
       "      <td>0</td>\n",
       "      <td>NaN</td>\n",
       "      <td>4d5c57ea9a6940dd891ad53e9dbe8da0</td>\n",
       "      <td>NaN</td>\n",
       "    </tr>\n",
       "  </tbody>\n",
       "</table>\n",
       "</div>"
      ],
      "text/plain": [
       "                             person           event  \\\n",
       "0  78afa995795e4d85b5d9ceeca43f5fef  offer received   \n",
       "1  a03223e636434f42ac4c3df47e8bac43  offer received   \n",
       "2  e2127556f4f64592b11af22de27a7932  offer received   \n",
       "3  8ec6ce2a7e7949b1bf142def7d0e0586  offer received   \n",
       "4  68617ca6246f4fbc85e91a2a49552598  offer received   \n",
       "\n",
       "                                              value  time  amount  \\\n",
       "0  {'offer id': '9b98b8c7a33c4b65b9aebfe6a799e6d9'}     0     NaN   \n",
       "1  {'offer id': '0b1e1539f2cc45b7b9fa7c272da2e1d7'}     0     NaN   \n",
       "2  {'offer id': '2906b810c7d4411798c6938adc9daaa5'}     0     NaN   \n",
       "3  {'offer id': 'fafdcd668e3743c1bb461111dcafc2a4'}     0     NaN   \n",
       "4  {'offer id': '4d5c57ea9a6940dd891ad53e9dbe8da0'}     0     NaN   \n",
       "\n",
       "                           offer_id  reward  \n",
       "0  9b98b8c7a33c4b65b9aebfe6a799e6d9     NaN  \n",
       "1  0b1e1539f2cc45b7b9fa7c272da2e1d7     NaN  \n",
       "2  2906b810c7d4411798c6938adc9daaa5     NaN  \n",
       "3  fafdcd668e3743c1bb461111dcafc2a4     NaN  \n",
       "4  4d5c57ea9a6940dd891ad53e9dbe8da0     NaN  "
      ]
     },
     "execution_count": 17,
     "metadata": {},
     "output_type": "execute_result"
    }
   ],
   "source": [
    "# unpack information in 'value' column to separate column: 'amount', 'offer id', 'offer_id', 'reward'\n",
    "temp = transcript['value'].apply(pd.Series)\n",
    "\n",
    "#combine \"offer_id\" column and \"offer id\" column as one, and drop the other \n",
    "temp['offer_id'].fillna(temp['offer id'], inplace =True)\n",
    "temp = temp.drop(columns=['offer id'])\n",
    "transcript_new = pd.concat([transcript, temp], axis=1)\n",
    "transcript_new.head()"
   ]
  },
  {
   "cell_type": "code",
   "execution_count": 18,
   "metadata": {},
   "outputs": [],
   "source": [
    "# drop the value column and rename reward as t_reward, person as person_id\n",
    "\n",
    "transcript_new.drop(columns=['value'], inplace=True)\n",
    "transcript_new.rename(columns={\"reward\": \"t_reward\", \"person\": \"person_id\"}, inplace=True)\n",
    "\n",
    "#rename id as person_id in profile\n",
    "profile.rename(columns={\"id\": \"person_id\"}, inplace=True)"
   ]
  },
  {
   "cell_type": "code",
   "execution_count": 19,
   "metadata": {},
   "outputs": [
    {
     "data": {
      "text/html": [
       "<div>\n",
       "<style scoped>\n",
       "    .dataframe tbody tr th:only-of-type {\n",
       "        vertical-align: middle;\n",
       "    }\n",
       "\n",
       "    .dataframe tbody tr th {\n",
       "        vertical-align: top;\n",
       "    }\n",
       "\n",
       "    .dataframe thead th {\n",
       "        text-align: right;\n",
       "    }\n",
       "</style>\n",
       "<table border=\"1\" class=\"dataframe\">\n",
       "  <thead>\n",
       "    <tr style=\"text-align: right;\">\n",
       "      <th></th>\n",
       "      <th>person_id</th>\n",
       "      <th>event</th>\n",
       "      <th>time</th>\n",
       "      <th>amount</th>\n",
       "      <th>offer_id</th>\n",
       "      <th>t_reward</th>\n",
       "      <th>gender</th>\n",
       "      <th>age</th>\n",
       "      <th>became_member_on</th>\n",
       "      <th>income</th>\n",
       "      <th>member_year</th>\n",
       "      <th>mebmer_month</th>\n",
       "    </tr>\n",
       "  </thead>\n",
       "  <tbody>\n",
       "    <tr>\n",
       "      <th>0</th>\n",
       "      <td>78afa995795e4d85b5d9ceeca43f5fef</td>\n",
       "      <td>offer received</td>\n",
       "      <td>0</td>\n",
       "      <td>NaN</td>\n",
       "      <td>9b98b8c7a33c4b65b9aebfe6a799e6d9</td>\n",
       "      <td>NaN</td>\n",
       "      <td>F</td>\n",
       "      <td>75.0</td>\n",
       "      <td>2017-05-09</td>\n",
       "      <td>100000.0</td>\n",
       "      <td>2017.0</td>\n",
       "      <td>5.0</td>\n",
       "    </tr>\n",
       "    <tr>\n",
       "      <th>1</th>\n",
       "      <td>a03223e636434f42ac4c3df47e8bac43</td>\n",
       "      <td>offer received</td>\n",
       "      <td>0</td>\n",
       "      <td>NaN</td>\n",
       "      <td>0b1e1539f2cc45b7b9fa7c272da2e1d7</td>\n",
       "      <td>NaN</td>\n",
       "      <td>NaN</td>\n",
       "      <td>NaN</td>\n",
       "      <td>NaT</td>\n",
       "      <td>NaN</td>\n",
       "      <td>NaN</td>\n",
       "      <td>NaN</td>\n",
       "    </tr>\n",
       "    <tr>\n",
       "      <th>2</th>\n",
       "      <td>e2127556f4f64592b11af22de27a7932</td>\n",
       "      <td>offer received</td>\n",
       "      <td>0</td>\n",
       "      <td>NaN</td>\n",
       "      <td>2906b810c7d4411798c6938adc9daaa5</td>\n",
       "      <td>NaN</td>\n",
       "      <td>M</td>\n",
       "      <td>68.0</td>\n",
       "      <td>2018-04-26</td>\n",
       "      <td>70000.0</td>\n",
       "      <td>2018.0</td>\n",
       "      <td>4.0</td>\n",
       "    </tr>\n",
       "    <tr>\n",
       "      <th>3</th>\n",
       "      <td>8ec6ce2a7e7949b1bf142def7d0e0586</td>\n",
       "      <td>offer received</td>\n",
       "      <td>0</td>\n",
       "      <td>NaN</td>\n",
       "      <td>fafdcd668e3743c1bb461111dcafc2a4</td>\n",
       "      <td>NaN</td>\n",
       "      <td>NaN</td>\n",
       "      <td>NaN</td>\n",
       "      <td>NaT</td>\n",
       "      <td>NaN</td>\n",
       "      <td>NaN</td>\n",
       "      <td>NaN</td>\n",
       "    </tr>\n",
       "    <tr>\n",
       "      <th>4</th>\n",
       "      <td>68617ca6246f4fbc85e91a2a49552598</td>\n",
       "      <td>offer received</td>\n",
       "      <td>0</td>\n",
       "      <td>NaN</td>\n",
       "      <td>4d5c57ea9a6940dd891ad53e9dbe8da0</td>\n",
       "      <td>NaN</td>\n",
       "      <td>NaN</td>\n",
       "      <td>NaN</td>\n",
       "      <td>NaT</td>\n",
       "      <td>NaN</td>\n",
       "      <td>NaN</td>\n",
       "      <td>NaN</td>\n",
       "    </tr>\n",
       "  </tbody>\n",
       "</table>\n",
       "</div>"
      ],
      "text/plain": [
       "                          person_id           event  time  amount  \\\n",
       "0  78afa995795e4d85b5d9ceeca43f5fef  offer received     0     NaN   \n",
       "1  a03223e636434f42ac4c3df47e8bac43  offer received     0     NaN   \n",
       "2  e2127556f4f64592b11af22de27a7932  offer received     0     NaN   \n",
       "3  8ec6ce2a7e7949b1bf142def7d0e0586  offer received     0     NaN   \n",
       "4  68617ca6246f4fbc85e91a2a49552598  offer received     0     NaN   \n",
       "\n",
       "                           offer_id  t_reward gender   age became_member_on  \\\n",
       "0  9b98b8c7a33c4b65b9aebfe6a799e6d9       NaN      F  75.0       2017-05-09   \n",
       "1  0b1e1539f2cc45b7b9fa7c272da2e1d7       NaN    NaN   NaN              NaT   \n",
       "2  2906b810c7d4411798c6938adc9daaa5       NaN      M  68.0       2018-04-26   \n",
       "3  fafdcd668e3743c1bb461111dcafc2a4       NaN    NaN   NaN              NaT   \n",
       "4  4d5c57ea9a6940dd891ad53e9dbe8da0       NaN    NaN   NaN              NaT   \n",
       "\n",
       "     income  member_year  mebmer_month  \n",
       "0  100000.0       2017.0           5.0  \n",
       "1       NaN          NaN           NaN  \n",
       "2   70000.0       2018.0           4.0  \n",
       "3       NaN          NaN           NaN  \n",
       "4       NaN          NaN           NaN  "
      ]
     },
     "execution_count": 19,
     "metadata": {},
     "output_type": "execute_result"
    }
   ],
   "source": [
    "# merge transcript_new with profile based on person id, \n",
    "#left join will be use caused we only need the customers made transactions\n",
    "\n",
    "merged = pd.merge(transcript_new, profile, on= ['person_id'], how = 'left')\n",
    "merged.head()"
   ]
  },
  {
   "cell_type": "code",
   "execution_count": 20,
   "metadata": {},
   "outputs": [
    {
     "data": {
      "text/html": [
       "<div>\n",
       "<style scoped>\n",
       "    .dataframe tbody tr th:only-of-type {\n",
       "        vertical-align: middle;\n",
       "    }\n",
       "\n",
       "    .dataframe tbody tr th {\n",
       "        vertical-align: top;\n",
       "    }\n",
       "\n",
       "    .dataframe thead th {\n",
       "        text-align: right;\n",
       "    }\n",
       "</style>\n",
       "<table border=\"1\" class=\"dataframe\">\n",
       "  <thead>\n",
       "    <tr style=\"text-align: right;\">\n",
       "      <th></th>\n",
       "      <th>person_id</th>\n",
       "      <th>event</th>\n",
       "      <th>time</th>\n",
       "      <th>amount</th>\n",
       "      <th>offer_id</th>\n",
       "      <th>t_reward</th>\n",
       "      <th>gender</th>\n",
       "      <th>age</th>\n",
       "      <th>became_member_on</th>\n",
       "      <th>income</th>\n",
       "      <th>member_year</th>\n",
       "      <th>mebmer_month</th>\n",
       "      <th>reward</th>\n",
       "      <th>channels</th>\n",
       "      <th>difficulty</th>\n",
       "      <th>duration</th>\n",
       "      <th>offer_type</th>\n",
       "    </tr>\n",
       "  </thead>\n",
       "  <tbody>\n",
       "    <tr>\n",
       "      <th>210173</th>\n",
       "      <td>b673e4cf251c498c9a8a0997874f6704</td>\n",
       "      <td>offer received</td>\n",
       "      <td>504</td>\n",
       "      <td>NaN</td>\n",
       "      <td>2298d6c36e964ae4a3e7e9706d1fb8c2</td>\n",
       "      <td>NaN</td>\n",
       "      <td>NaN</td>\n",
       "      <td>NaN</td>\n",
       "      <td>NaT</td>\n",
       "      <td>NaN</td>\n",
       "      <td>NaN</td>\n",
       "      <td>NaN</td>\n",
       "      <td>3.0</td>\n",
       "      <td>[web, email, mobile, social]</td>\n",
       "      <td>7.0</td>\n",
       "      <td>168.0</td>\n",
       "      <td>discount</td>\n",
       "    </tr>\n",
       "    <tr>\n",
       "      <th>268310</th>\n",
       "      <td>49c4a0965ad04077bac189d20a88ec4e</td>\n",
       "      <td>offer viewed</td>\n",
       "      <td>588</td>\n",
       "      <td>NaN</td>\n",
       "      <td>f19421c1d4aa40978ebb69ca19b0e20d</td>\n",
       "      <td>NaN</td>\n",
       "      <td>M</td>\n",
       "      <td>79.0</td>\n",
       "      <td>2018-07-06</td>\n",
       "      <td>54000.0</td>\n",
       "      <td>2018.0</td>\n",
       "      <td>7.0</td>\n",
       "      <td>5.0</td>\n",
       "      <td>[web, email, mobile, social]</td>\n",
       "      <td>5.0</td>\n",
       "      <td>120.0</td>\n",
       "      <td>bogo</td>\n",
       "    </tr>\n",
       "    <tr>\n",
       "      <th>161816</th>\n",
       "      <td>5176ddef3fe44ae59fd70ba2d08bff32</td>\n",
       "      <td>offer received</td>\n",
       "      <td>408</td>\n",
       "      <td>NaN</td>\n",
       "      <td>2298d6c36e964ae4a3e7e9706d1fb8c2</td>\n",
       "      <td>NaN</td>\n",
       "      <td>NaN</td>\n",
       "      <td>NaN</td>\n",
       "      <td>NaT</td>\n",
       "      <td>NaN</td>\n",
       "      <td>NaN</td>\n",
       "      <td>NaN</td>\n",
       "      <td>3.0</td>\n",
       "      <td>[web, email, mobile, social]</td>\n",
       "      <td>7.0</td>\n",
       "      <td>168.0</td>\n",
       "      <td>discount</td>\n",
       "    </tr>\n",
       "    <tr>\n",
       "      <th>34425</th>\n",
       "      <td>171c7f6ef14c416a87ac8907c58202ed</td>\n",
       "      <td>transaction</td>\n",
       "      <td>66</td>\n",
       "      <td>6.74</td>\n",
       "      <td>NaN</td>\n",
       "      <td>NaN</td>\n",
       "      <td>NaN</td>\n",
       "      <td>NaN</td>\n",
       "      <td>NaT</td>\n",
       "      <td>NaN</td>\n",
       "      <td>NaN</td>\n",
       "      <td>NaN</td>\n",
       "      <td>NaN</td>\n",
       "      <td>NaN</td>\n",
       "      <td>NaN</td>\n",
       "      <td>NaN</td>\n",
       "      <td>NaN</td>\n",
       "    </tr>\n",
       "    <tr>\n",
       "      <th>306358</th>\n",
       "      <td>1ac8b6a96fdb46ef882e0d41818f8f2d</td>\n",
       "      <td>transaction</td>\n",
       "      <td>714</td>\n",
       "      <td>4.56</td>\n",
       "      <td>NaN</td>\n",
       "      <td>NaN</td>\n",
       "      <td>M</td>\n",
       "      <td>27.0</td>\n",
       "      <td>2014-01-20</td>\n",
       "      <td>74000.0</td>\n",
       "      <td>2014.0</td>\n",
       "      <td>1.0</td>\n",
       "      <td>NaN</td>\n",
       "      <td>NaN</td>\n",
       "      <td>NaN</td>\n",
       "      <td>NaN</td>\n",
       "      <td>NaN</td>\n",
       "    </tr>\n",
       "  </tbody>\n",
       "</table>\n",
       "</div>"
      ],
      "text/plain": [
       "                               person_id           event  time  amount  \\\n",
       "210173  b673e4cf251c498c9a8a0997874f6704  offer received   504     NaN   \n",
       "268310  49c4a0965ad04077bac189d20a88ec4e    offer viewed   588     NaN   \n",
       "161816  5176ddef3fe44ae59fd70ba2d08bff32  offer received   408     NaN   \n",
       "34425   171c7f6ef14c416a87ac8907c58202ed     transaction    66    6.74   \n",
       "306358  1ac8b6a96fdb46ef882e0d41818f8f2d     transaction   714    4.56   \n",
       "\n",
       "                                offer_id  t_reward gender   age  \\\n",
       "210173  2298d6c36e964ae4a3e7e9706d1fb8c2       NaN    NaN   NaN   \n",
       "268310  f19421c1d4aa40978ebb69ca19b0e20d       NaN      M  79.0   \n",
       "161816  2298d6c36e964ae4a3e7e9706d1fb8c2       NaN    NaN   NaN   \n",
       "34425                                NaN       NaN    NaN   NaN   \n",
       "306358                               NaN       NaN      M  27.0   \n",
       "\n",
       "       became_member_on   income  member_year  mebmer_month  reward  \\\n",
       "210173              NaT      NaN          NaN           NaN     3.0   \n",
       "268310       2018-07-06  54000.0       2018.0           7.0     5.0   \n",
       "161816              NaT      NaN          NaN           NaN     3.0   \n",
       "34425               NaT      NaN          NaN           NaN     NaN   \n",
       "306358       2014-01-20  74000.0       2014.0           1.0     NaN   \n",
       "\n",
       "                            channels  difficulty  duration offer_type  \n",
       "210173  [web, email, mobile, social]         7.0     168.0   discount  \n",
       "268310  [web, email, mobile, social]         5.0     120.0       bogo  \n",
       "161816  [web, email, mobile, social]         7.0     168.0   discount  \n",
       "34425                            NaN         NaN       NaN        NaN  \n",
       "306358                           NaN         NaN       NaN        NaN  "
      ]
     },
     "execution_count": 20,
     "metadata": {},
     "output_type": "execute_result"
    }
   ],
   "source": [
    "# merge again with portfolio based on offer ids, left join \n",
    "merged = pd.merge(merged, portfolio, left_on= ['offer_id'], right_on= ['id'], how = 'left')\n",
    "merged = merged.drop(columns=['id'])\n",
    "\n",
    "merged['event'].replace('offer_received', 'offer received')\n",
    "#convert duration to hours\n",
    "merged['duration'] = merged['duration']* 24\n",
    "merged.sample(5)"
   ]
  },
  {
   "cell_type": "code",
   "execution_count": 21,
   "metadata": {},
   "outputs": [
    {
     "data": {
      "text/plain": [
       "(306534, 17)"
      ]
     },
     "execution_count": 21,
     "metadata": {},
     "output_type": "execute_result"
    }
   ],
   "source": [
    "merged.shape"
   ]
  },
  {
   "cell_type": "markdown",
   "metadata": {},
   "source": [
    "### Exploratory analysis"
   ]
  },
  {
   "cell_type": "markdown",
   "metadata": {},
   "source": [
    "**Distribution of customer demographic characters: gender: age, income, become_member_year**"
   ]
  },
  {
   "cell_type": "code",
   "execution_count": 22,
   "metadata": {},
   "outputs": [
    {
     "data": {
      "image/png": "[encoded data removed]",
      "text/plain": [
       "<Figure size 1080x360 with 3 Axes>"
      ]
     },
     "metadata": {
      "needs_background": "light"
     },
     "output_type": "display_data"
    }
   ],
   "source": [
    "merged.hist(column =['age', 'income', 'member_year'], layout=(1,3), figsize= (15, 5), bins =15);\n",
    "\n",
    "plt.savefig('Distribution.jpg')"
   ]
  },
  {
   "cell_type": "code",
   "execution_count": 23,
   "metadata": {},
   "outputs": [
    {
     "data": {
      "text/plain": [
       "M      50.790451\n",
       "F      36.896723\n",
       "NaN    11.017375\n",
       "O       1.295452\n",
       "Name: gender, dtype: float64"
      ]
     },
     "execution_count": 23,
     "metadata": {},
     "output_type": "execute_result"
    }
   ],
   "source": [
    "#more male or female\n",
    "merged.gender.value_counts(dropna=False)/merged.shape[0] *100"
   ]
  },
  {
   "cell_type": "markdown",
   "metadata": {},
   "source": [
    "There are more male than female customers. "
   ]
  },
  {
   "cell_type": "code",
   "execution_count": 24,
   "metadata": {},
   "outputs": [
    {
     "data": {
      "text/html": [
       "<div>\n",
       "<style scoped>\n",
       "    .dataframe tbody tr th:only-of-type {\n",
       "        vertical-align: middle;\n",
       "    }\n",
       "\n",
       "    .dataframe tbody tr th {\n",
       "        vertical-align: top;\n",
       "    }\n",
       "\n",
       "    .dataframe thead th {\n",
       "        text-align: right;\n",
       "    }\n",
       "</style>\n",
       "<table border=\"1\" class=\"dataframe\">\n",
       "  <thead>\n",
       "    <tr style=\"text-align: right;\">\n",
       "      <th></th>\n",
       "      <th>person_id</th>\n",
       "      <th>event</th>\n",
       "      <th>time</th>\n",
       "      <th>amount</th>\n",
       "      <th>offer_id</th>\n",
       "      <th>t_reward</th>\n",
       "      <th>gender</th>\n",
       "      <th>age</th>\n",
       "      <th>became_member_on</th>\n",
       "      <th>income</th>\n",
       "      <th>member_year</th>\n",
       "      <th>mebmer_month</th>\n",
       "      <th>reward</th>\n",
       "      <th>channels</th>\n",
       "      <th>difficulty</th>\n",
       "      <th>duration</th>\n",
       "      <th>offer_type</th>\n",
       "    </tr>\n",
       "  </thead>\n",
       "  <tbody>\n",
       "    <tr>\n",
       "      <th>0</th>\n",
       "      <td>78afa995795e4d85b5d9ceeca43f5fef</td>\n",
       "      <td>offer received</td>\n",
       "      <td>0</td>\n",
       "      <td>NaN</td>\n",
       "      <td>9b98b8c7a33c4b65b9aebfe6a799e6d9</td>\n",
       "      <td>NaN</td>\n",
       "      <td>F</td>\n",
       "      <td>75.0</td>\n",
       "      <td>2017-05-09</td>\n",
       "      <td>100000.0</td>\n",
       "      <td>2017.0</td>\n",
       "      <td>5.0</td>\n",
       "      <td>5.0</td>\n",
       "      <td>[web, email, mobile]</td>\n",
       "      <td>5.0</td>\n",
       "      <td>168.0</td>\n",
       "      <td>bogo</td>\n",
       "    </tr>\n",
       "    <tr>\n",
       "      <th>1</th>\n",
       "      <td>a03223e636434f42ac4c3df47e8bac43</td>\n",
       "      <td>offer received</td>\n",
       "      <td>0</td>\n",
       "      <td>NaN</td>\n",
       "      <td>0b1e1539f2cc45b7b9fa7c272da2e1d7</td>\n",
       "      <td>NaN</td>\n",
       "      <td>NaN</td>\n",
       "      <td>NaN</td>\n",
       "      <td>NaT</td>\n",
       "      <td>NaN</td>\n",
       "      <td>NaN</td>\n",
       "      <td>NaN</td>\n",
       "      <td>5.0</td>\n",
       "      <td>[web, email]</td>\n",
       "      <td>20.0</td>\n",
       "      <td>240.0</td>\n",
       "      <td>discount</td>\n",
       "    </tr>\n",
       "    <tr>\n",
       "      <th>2</th>\n",
       "      <td>e2127556f4f64592b11af22de27a7932</td>\n",
       "      <td>offer received</td>\n",
       "      <td>0</td>\n",
       "      <td>NaN</td>\n",
       "      <td>2906b810c7d4411798c6938adc9daaa5</td>\n",
       "      <td>NaN</td>\n",
       "      <td>M</td>\n",
       "      <td>68.0</td>\n",
       "      <td>2018-04-26</td>\n",
       "      <td>70000.0</td>\n",
       "      <td>2018.0</td>\n",
       "      <td>4.0</td>\n",
       "      <td>2.0</td>\n",
       "      <td>[web, email, mobile]</td>\n",
       "      <td>10.0</td>\n",
       "      <td>168.0</td>\n",
       "      <td>discount</td>\n",
       "    </tr>\n",
       "    <tr>\n",
       "      <th>3</th>\n",
       "      <td>8ec6ce2a7e7949b1bf142def7d0e0586</td>\n",
       "      <td>offer received</td>\n",
       "      <td>0</td>\n",
       "      <td>NaN</td>\n",
       "      <td>fafdcd668e3743c1bb461111dcafc2a4</td>\n",
       "      <td>NaN</td>\n",
       "      <td>NaN</td>\n",
       "      <td>NaN</td>\n",
       "      <td>NaT</td>\n",
       "      <td>NaN</td>\n",
       "      <td>NaN</td>\n",
       "      <td>NaN</td>\n",
       "      <td>2.0</td>\n",
       "      <td>[web, email, mobile, social]</td>\n",
       "      <td>10.0</td>\n",
       "      <td>240.0</td>\n",
       "      <td>discount</td>\n",
       "    </tr>\n",
       "    <tr>\n",
       "      <th>4</th>\n",
       "      <td>68617ca6246f4fbc85e91a2a49552598</td>\n",
       "      <td>offer received</td>\n",
       "      <td>0</td>\n",
       "      <td>NaN</td>\n",
       "      <td>4d5c57ea9a6940dd891ad53e9dbe8da0</td>\n",
       "      <td>NaN</td>\n",
       "      <td>NaN</td>\n",
       "      <td>NaN</td>\n",
       "      <td>NaT</td>\n",
       "      <td>NaN</td>\n",
       "      <td>NaN</td>\n",
       "      <td>NaN</td>\n",
       "      <td>10.0</td>\n",
       "      <td>[web, email, mobile, social]</td>\n",
       "      <td>10.0</td>\n",
       "      <td>120.0</td>\n",
       "      <td>bogo</td>\n",
       "    </tr>\n",
       "  </tbody>\n",
       "</table>\n",
       "</div>"
      ],
      "text/plain": [
       "                          person_id           event  time  amount  \\\n",
       "0  78afa995795e4d85b5d9ceeca43f5fef  offer received     0     NaN   \n",
       "1  a03223e636434f42ac4c3df47e8bac43  offer received     0     NaN   \n",
       "2  e2127556f4f64592b11af22de27a7932  offer received     0     NaN   \n",
       "3  8ec6ce2a7e7949b1bf142def7d0e0586  offer received     0     NaN   \n",
       "4  68617ca6246f4fbc85e91a2a49552598  offer received     0     NaN   \n",
       "\n",
       "                           offer_id  t_reward gender   age became_member_on  \\\n",
       "0  9b98b8c7a33c4b65b9aebfe6a799e6d9       NaN      F  75.0       2017-05-09   \n",
       "1  0b1e1539f2cc45b7b9fa7c272da2e1d7       NaN    NaN   NaN              NaT   \n",
       "2  2906b810c7d4411798c6938adc9daaa5       NaN      M  68.0       2018-04-26   \n",
       "3  fafdcd668e3743c1bb461111dcafc2a4       NaN    NaN   NaN              NaT   \n",
       "4  4d5c57ea9a6940dd891ad53e9dbe8da0       NaN    NaN   NaN              NaT   \n",
       "\n",
       "     income  member_year  mebmer_month  reward                      channels  \\\n",
       "0  100000.0       2017.0           5.0     5.0          [web, email, mobile]   \n",
       "1       NaN          NaN           NaN     5.0                  [web, email]   \n",
       "2   70000.0       2018.0           4.0     2.0          [web, email, mobile]   \n",
       "3       NaN          NaN           NaN     2.0  [web, email, mobile, social]   \n",
       "4       NaN          NaN           NaN    10.0  [web, email, mobile, social]   \n",
       "\n",
       "   difficulty  duration offer_type  \n",
       "0         5.0     168.0       bogo  \n",
       "1        20.0     240.0   discount  \n",
       "2        10.0     168.0   discount  \n",
       "3        10.0     240.0   discount  \n",
       "4        10.0     120.0       bogo  "
      ]
     },
     "execution_count": 24,
     "metadata": {},
     "output_type": "execute_result"
    }
   ],
   "source": [
    "# To analysis the demographic preference on offer types, we create the dataset only contains offer event, no transactions\n",
    "\n",
    "merged_offer = merged[merged['event'].isin(['offer received', 'offer viewed', 'offer completed'])]\n",
    "merged_offer.head()"
   ]
  },
  {
   "cell_type": "code",
   "execution_count": 25,
   "metadata": {},
   "outputs": [
    {
     "data": {
      "text/plain": [
       "M      0.494662\n",
       "F      0.380228\n",
       "NaN    0.112041\n",
       "O      0.013068\n",
       "Name: gender, dtype: float64"
      ]
     },
     "execution_count": 25,
     "metadata": {},
     "output_type": "execute_result"
    }
   ],
   "source": [
    "merged_offer.gender.value_counts(dropna=False)/merged_offer.shape[0]"
   ]
  },
  {
   "cell_type": "markdown",
   "metadata": {},
   "source": [
    "**Questions: Are there any difference among genders on offers they received, viewed and completed.**"
   ]
  },
  {
   "cell_type": "code",
   "execution_count": 26,
   "metadata": {},
   "outputs": [
    {
     "data": {
      "image/png": "[encoded data removed]",
      "text/plain": [
       "<Figure size 720x360 with 1 Axes>"
      ]
     },
     "metadata": {
      "needs_background": "light"
     },
     "output_type": "display_data"
    }
   ],
   "source": [
    "plt.figure(figsize=(10, 5))\n",
    "g = sns.countplot(x=\"event\", hue=\"gender\", palette=\"Set1\", data=merged_offer)\n",
    "    \n",
    "plt.title('Comparison of offer recieved, viewed and completed')\n",
    "plt.ylabel('Count')\n",
    "plt.xlabel('  ')\n",
    "plt.legend(title='Gender')\n",
    "\n",
    "plt.savefig(\"gender_offer.jpg\")\n",
    "plt.show();"
   ]
  },
  {
   "cell_type": "markdown",
   "metadata": {},
   "source": [
    "More male customers received offers, as well as viewed offer, while the number of offer completed is similar. "
   ]
  },
  {
   "cell_type": "code",
   "execution_count": 27,
   "metadata": {},
   "outputs": [],
   "source": [
    "# compare the completed rates, offer completed/ offer received\n",
    "# merged_offer.groupby(['gender']).event.value_counts()"
   ]
  },
  {
   "cell_type": "code",
   "execution_count": 28,
   "metadata": {},
   "outputs": [
    {
     "data": {
      "image/png": "[encoded data removed]",
      "text/plain": [
       "<Figure size 720x360 with 1 Axes>"
      ]
     },
     "metadata": {
      "needs_background": "light"
     },
     "output_type": "display_data"
    }
   ],
   "source": [
    "# Events for each offer type\n",
    "plt.figure(figsize=(10, 5))\n",
    "g = sns.countplot(x=\"event\", hue=\"offer_type\", palette=\"tab10\", data=merged_offer)\n",
    "    \n",
    "plt.title('Comparison of offer recieved, viewed and completed')\n",
    "plt.ylabel('Count')\n",
    "plt.xlabel(' ')\n",
    "plt.legend(title='Offer type')\n",
    "plt.savefig('offer_type_action.jpg')\n",
    "plt.show()"
   ]
  },
  {
   "cell_type": "markdown",
   "metadata": {},
   "source": [
    "There are much more bogo and discount being sent out and viewed than informational offer. Between the two, they have equeal number of offers send to customer, while a slight more bogo were viewed but less completed."
   ]
  },
  {
   "cell_type": "markdown",
   "metadata": {},
   "source": [
    "**Questions: How much are the spend on starbucks?**"
   ]
  },
  {
   "cell_type": "code",
   "execution_count": 29,
   "metadata": {},
   "outputs": [
    {
     "data": {
      "text/html": [
       "<div>\n",
       "<style scoped>\n",
       "    .dataframe tbody tr th:only-of-type {\n",
       "        vertical-align: middle;\n",
       "    }\n",
       "\n",
       "    .dataframe tbody tr th {\n",
       "        vertical-align: top;\n",
       "    }\n",
       "\n",
       "    .dataframe thead th {\n",
       "        text-align: right;\n",
       "    }\n",
       "</style>\n",
       "<table border=\"1\" class=\"dataframe\">\n",
       "  <thead>\n",
       "    <tr style=\"text-align: right;\">\n",
       "      <th></th>\n",
       "      <th>person_id</th>\n",
       "      <th>event</th>\n",
       "      <th>time</th>\n",
       "      <th>amount</th>\n",
       "      <th>offer_id</th>\n",
       "      <th>t_reward</th>\n",
       "      <th>gender</th>\n",
       "      <th>age</th>\n",
       "      <th>became_member_on</th>\n",
       "      <th>income</th>\n",
       "      <th>member_year</th>\n",
       "      <th>mebmer_month</th>\n",
       "      <th>reward</th>\n",
       "      <th>channels</th>\n",
       "      <th>difficulty</th>\n",
       "      <th>duration</th>\n",
       "      <th>offer_type</th>\n",
       "    </tr>\n",
       "  </thead>\n",
       "  <tbody>\n",
       "    <tr>\n",
       "      <th>12654</th>\n",
       "      <td>02c083884c7d45b39cc68e1314fec56c</td>\n",
       "      <td>transaction</td>\n",
       "      <td>0</td>\n",
       "      <td>0.83</td>\n",
       "      <td>NaN</td>\n",
       "      <td>NaN</td>\n",
       "      <td>F</td>\n",
       "      <td>20.0</td>\n",
       "      <td>2016-07-11</td>\n",
       "      <td>30000.0</td>\n",
       "      <td>2016.0</td>\n",
       "      <td>7.0</td>\n",
       "      <td>NaN</td>\n",
       "      <td>NaN</td>\n",
       "      <td>NaN</td>\n",
       "      <td>NaN</td>\n",
       "      <td>NaN</td>\n",
       "    </tr>\n",
       "    <tr>\n",
       "      <th>12657</th>\n",
       "      <td>9fa9ae8f57894cc9a3b8a9bbe0fc1b2f</td>\n",
       "      <td>transaction</td>\n",
       "      <td>0</td>\n",
       "      <td>34.56</td>\n",
       "      <td>NaN</td>\n",
       "      <td>NaN</td>\n",
       "      <td>M</td>\n",
       "      <td>42.0</td>\n",
       "      <td>2016-01-17</td>\n",
       "      <td>96000.0</td>\n",
       "      <td>2016.0</td>\n",
       "      <td>1.0</td>\n",
       "      <td>NaN</td>\n",
       "      <td>NaN</td>\n",
       "      <td>NaN</td>\n",
       "      <td>NaN</td>\n",
       "      <td>NaN</td>\n",
       "    </tr>\n",
       "    <tr>\n",
       "      <th>12659</th>\n",
       "      <td>54890f68699049c2a04d415abc25e717</td>\n",
       "      <td>transaction</td>\n",
       "      <td>0</td>\n",
       "      <td>13.23</td>\n",
       "      <td>NaN</td>\n",
       "      <td>NaN</td>\n",
       "      <td>M</td>\n",
       "      <td>36.0</td>\n",
       "      <td>2017-12-28</td>\n",
       "      <td>56000.0</td>\n",
       "      <td>2017.0</td>\n",
       "      <td>12.0</td>\n",
       "      <td>NaN</td>\n",
       "      <td>NaN</td>\n",
       "      <td>NaN</td>\n",
       "      <td>NaN</td>\n",
       "      <td>NaN</td>\n",
       "    </tr>\n",
       "    <tr>\n",
       "      <th>12670</th>\n",
       "      <td>b2f1cd155b864803ad8334cdf13c4bd2</td>\n",
       "      <td>transaction</td>\n",
       "      <td>0</td>\n",
       "      <td>19.51</td>\n",
       "      <td>NaN</td>\n",
       "      <td>NaN</td>\n",
       "      <td>F</td>\n",
       "      <td>55.0</td>\n",
       "      <td>2017-10-16</td>\n",
       "      <td>94000.0</td>\n",
       "      <td>2017.0</td>\n",
       "      <td>10.0</td>\n",
       "      <td>NaN</td>\n",
       "      <td>NaN</td>\n",
       "      <td>NaN</td>\n",
       "      <td>NaN</td>\n",
       "      <td>NaN</td>\n",
       "    </tr>\n",
       "    <tr>\n",
       "      <th>12671</th>\n",
       "      <td>fe97aa22dd3e48c8b143116a8403dd52</td>\n",
       "      <td>transaction</td>\n",
       "      <td>0</td>\n",
       "      <td>18.97</td>\n",
       "      <td>NaN</td>\n",
       "      <td>NaN</td>\n",
       "      <td>F</td>\n",
       "      <td>39.0</td>\n",
       "      <td>2017-12-17</td>\n",
       "      <td>67000.0</td>\n",
       "      <td>2017.0</td>\n",
       "      <td>12.0</td>\n",
       "      <td>NaN</td>\n",
       "      <td>NaN</td>\n",
       "      <td>NaN</td>\n",
       "      <td>NaN</td>\n",
       "      <td>NaN</td>\n",
       "    </tr>\n",
       "  </tbody>\n",
       "</table>\n",
       "</div>"
      ],
      "text/plain": [
       "                              person_id        event  time  amount offer_id  \\\n",
       "12654  02c083884c7d45b39cc68e1314fec56c  transaction     0    0.83      NaN   \n",
       "12657  9fa9ae8f57894cc9a3b8a9bbe0fc1b2f  transaction     0   34.56      NaN   \n",
       "12659  54890f68699049c2a04d415abc25e717  transaction     0   13.23      NaN   \n",
       "12670  b2f1cd155b864803ad8334cdf13c4bd2  transaction     0   19.51      NaN   \n",
       "12671  fe97aa22dd3e48c8b143116a8403dd52  transaction     0   18.97      NaN   \n",
       "\n",
       "       t_reward gender   age became_member_on   income  member_year  \\\n",
       "12654       NaN      F  20.0       2016-07-11  30000.0       2016.0   \n",
       "12657       NaN      M  42.0       2016-01-17  96000.0       2016.0   \n",
       "12659       NaN      M  36.0       2017-12-28  56000.0       2017.0   \n",
       "12670       NaN      F  55.0       2017-10-16  94000.0       2017.0   \n",
       "12671       NaN      F  39.0       2017-12-17  67000.0       2017.0   \n",
       "\n",
       "       mebmer_month  reward channels  difficulty  duration offer_type  \n",
       "12654           7.0     NaN      NaN         NaN       NaN        NaN  \n",
       "12657           1.0     NaN      NaN         NaN       NaN        NaN  \n",
       "12659          12.0     NaN      NaN         NaN       NaN        NaN  \n",
       "12670          10.0     NaN      NaN         NaN       NaN        NaN  \n",
       "12671          12.0     NaN      NaN         NaN       NaN        NaN  "
      ]
     },
     "execution_count": 29,
     "metadata": {},
     "output_type": "execute_result"
    }
   ],
   "source": [
    "#Only select the rows of 'transaction'\n",
    "merged_amount = merged[~merged['amount'].isnull()]\n",
    "merged_amount.head()"
   ]
  },
  {
   "cell_type": "code",
   "execution_count": 30,
   "metadata": {},
   "outputs": [
    {
     "data": {
      "image/png": "[encoded data removed]",
      "text/plain": [
       "<Figure size 1080x360 with 3 Axes>"
      ]
     },
     "metadata": {
      "needs_background": "light"
     },
     "output_type": "display_data"
    }
   ],
   "source": [
    "#Who spend more money on average\n",
    "\n",
    "total = merged_amount.groupby(['gender']).amount.sum()\n",
    "counts = merged_amount.groupby(['gender']).amount.count()\n",
    "ave = merged_amount.groupby(['gender']).amount.mean()\n",
    "x=['F', 'M', 'O']\n",
    "fig, axes = plt.subplots(nrows=1, ncols=3, figsize=(15,5))\n",
    "total.plot(ax=axes[0], kind='bar')\n",
    "axes[0].set_title('Total Spending')\n",
    "\n",
    "counts.plot(ax=axes[1], kind='bar')\n",
    "axes[1].set_title('Total Transactions')\n",
    "ave.plot(ax=axes[2], kind='bar')\n",
    "axes[2].set_title('Average Spending') \n",
    "plt.savefig(\"gender_offer.jpg\")\n",
    "plt.show();"
   ]
  },
  {
   "cell_type": "markdown",
   "metadata": {},
   "source": [
    "The total amount of money spend by both gender is similar. However, although male made much transactions than female, the average cost per transaction is lower. "
   ]
  },
  {
   "cell_type": "markdown",
   "metadata": {},
   "source": [
    "### Define the Success or Failed offer  \n",
    "\n",
    "Here is the challenge question: Could we point out which offer has impact on buyer's behavior?\n",
    "\n",
    "I consider an offer is successful as following:\n",
    "\n",
    "For bogo and discount, offer received -> offer viewed -> offer completed\n",
    "\n",
    "For informational offer, offer received -> offer viewed -> transactions \n",
    "\n",
    "In both situation, these events should happen within the duration period and the order should not be changed. \n",
    "\n",
    "Other than that, offers should be take as failed and has no impact on customer's decision. \n",
    "\n",
    "Concerns need to be aware:\n",
    "One person could receive the same type of offer more than once,\n",
    "Another offer recieved before current offer is completed. "
   ]
  },
  {
   "cell_type": "code",
   "execution_count": 31,
   "metadata": {},
   "outputs": [],
   "source": [
    "# take a look at the transaction for single person_id \n",
    "# merged[merged['person_id'] =='bb3983180f0f4b019976c13d5106ce11']"
   ]
  },
  {
   "cell_type": "code",
   "execution_count": 32,
   "metadata": {},
   "outputs": [],
   "source": [
    "def offer_sucess_define(df):\n",
    "    \"\"\"\n",
    "    Function to define which offer received by the customers are successful. Successful path are defined as following:\n",
    "    for bogo and discount: offer received → offer viewed → offer completed\n",
    "    for informational: offer received → offer viewed → transaction\n",
    "    All events should happen within the validity period of the offer.\n",
    "    \n",
    "    INPUT:\n",
    "  \n",
    "    Dataframe - dataframe with all rows of offer events and transaction\n",
    "    \n",
    "    OUTPUT:\n",
    "    Dataframe - dataframe with column \"success\", where a successful offer will be 1, failed as 0\n",
    "    \n",
    "    \"\"\"\n",
    "    \n",
    "    # get the index of all 'offer received' rows in the dataframe \n",
    "    total_offers_received_idx = np.where(df['event'] == 'offer received')[0].tolist()\n",
    "    \n",
    "    n_person = len(df.person_id.unique())\n",
    "    cnter=0\n",
    "    bar=progressbar.ProgressBar(maxval=n_person+1, widgets =[progressbar.Bar('=', '[', ']'), ' ', progressbar.Percentage()])\n",
    "    bar.start()\n",
    "\n",
    "    for person in df.person_id.unique():\n",
    "        cnter+=1\n",
    "        bar.update(cnter)\n",
    "\n",
    "        #dataframe for a single customer\n",
    "        temp1 = df[df['person_id']==person]\n",
    "\n",
    "        # get index of 'offer received' of  'offer_id' for this person as a list\n",
    "        offers_received_idx = np.intersect1d(temp1.index, total_offers_received_idx)\n",
    "        offer_id_list= temp1.loc[offers_received_idx]['offer_id'].tolist()\n",
    "\n",
    "        for offer_id, offer_received_idx in zip(offer_id_list, offers_received_idx): \n",
    "            \n",
    "            #type of the offer\n",
    "            receive_offer_type = temp1.loc[offer_received_idx]['offer_type']\n",
    "            \n",
    "            #calcaulate single offer start and end time \n",
    "            time_received = temp1.loc[offer_received_idx]['time']\n",
    "            duration_time = temp1.loc[offer_received_idx]['duration']\n",
    "\n",
    "            #all rows (activities) within the duration window   \n",
    "            temp2 = temp1.loc[offer_received_idx:]\n",
    "            temp2 = temp2[temp2['time'] <= (time_received + duration_time)]\n",
    "\n",
    "            if temp2.loc[offer_received_idx]['offer_type'] in ['bogo', 'discount']:\n",
    "\n",
    "                #check whether this offer is viewed and completed\n",
    "                try: \n",
    "                    # closest viewed offer\n",
    "                    time_viewed = (temp2[(temp2['event']=='offer viewed') & (temp2['offer_id']==offer_id)]['time'].tolist())[0]\n",
    "                    \n",
    "                    offer_viewd_idx = temp2[(temp2['event']=='offer viewed') & (temp2['offer_id']==offer_id)].index[0]\n",
    "                    temp3 = temp2.loc[offer_viewd_idx:]\n",
    "                    #find the offer completed after reviewed \n",
    "                    time_completed = (temp3[(temp3['event']=='offer completed') & (temp3['offer_id']==offer_id)]['time'].tolist())[0]\n",
    "                    \n",
    "                    # the order of time for each activity: received-> viewed-> completed, this could happen in the same day\n",
    "                    if (time_completed <= (time_received+duration_time)):\n",
    "                        \n",
    "                        #mark success as 1\n",
    "                        df.loc[offer_received_idx, 'success'] = 1\n",
    "                    else:\n",
    "                        df.loc[offer_received_idx, 'success'] = 1\n",
    "\n",
    "                except:\n",
    "                    #mark failed as 0\n",
    "                    df.loc[offer_received_idx, 'success'] = 0\n",
    "            #informational offer       \n",
    "            elif temp2.loc[offer_received_idx]['offer_type'] == 'informational':\n",
    "\n",
    "                try: \n",
    "                    #check whether this offer is viewed and have a transaction within the duration time\n",
    "                    time_viewed = (temp2[(temp2['event']=='offer viewed') & (temp2['offer_id']==offer_id)]['time'].tolist())[0]\n",
    "                    offer_viewd_idx = temp2[(temp2['event']=='offer viewed') & (temp2['offer_id']==offer_id)].index[0]\n",
    "                    \n",
    "                    temp3 = temp2.loc[offer_viewd_idx:]\n",
    "                    \n",
    "                    #find the closest transaction time after reviewed \n",
    "                    time_transaction = (temp3[temp3['event']=='transaction']['time'].tolist())[0]\n",
    "                    if (time_transaction <= (time_received+duration_time)):\n",
    "                        df.loc[offer_received_idx, 'success'] = 1\n",
    "                        \n",
    "                    else:\n",
    "                        df.loc[offer_received_idx, 'success'] = 0\n",
    "                except:\n",
    "                    df.loc[offer_received_idx, 'success'] = 0\n",
    "\n",
    "            else:\n",
    "                pass\n",
    "    bar.finish()        \n",
    "    return df\n"
   ]
  },
  {
   "cell_type": "code",
   "execution_count": 33,
   "metadata": {},
   "outputs": [
    {
     "name": "stderr",
     "output_type": "stream",
     "text": [
      "[=========================================================================] 100%\n"
     ]
    }
   ],
   "source": [
    "merged2 = offer_sucess_define(merged)"
   ]
  },
  {
   "cell_type": "markdown",
   "metadata": {},
   "source": [
    "### Questions:\n",
    "How much offer are send out for each type of offer?      \n",
    "Could we calculate the success rate?   \n",
    "Are the success rate different between genders or offer types? "
   ]
  },
  {
   "cell_type": "code",
   "execution_count": 34,
   "metadata": {},
   "outputs": [
    {
     "data": {
      "text/plain": [
       "(76277, 18)"
      ]
     },
     "execution_count": 34,
     "metadata": {},
     "output_type": "execute_result"
    }
   ],
   "source": [
    "# To answer the above question, I only select rows of 'offers received' \n",
    "received_offers = merged2[merged2['event' ]== 'offer received']\n",
    "received_offers.shape"
   ]
  },
  {
   "cell_type": "code",
   "execution_count": 35,
   "metadata": {},
   "outputs": [
    {
     "data": {
      "text/plain": [
       "success\n",
       "0.0    46455\n",
       "1.0    29822\n",
       "Name: success, dtype: int64"
      ]
     },
     "execution_count": 35,
     "metadata": {},
     "output_type": "execute_result"
    }
   ],
   "source": [
    "received_offers.groupby([ 'success'])['success'].count()"
   ]
  },
  {
   "cell_type": "code",
   "execution_count": 36,
   "metadata": {},
   "outputs": [
    {
     "name": "stdout",
     "output_type": "stream",
     "text": [
      "Total offers: 76277, Success offers : 29822, Failed offers : 46455, success rate: 39.096975497200994\n"
     ]
    }
   ],
   "source": [
    "count = received_offers.groupby(['success'])['success'].count()\n",
    "print(f'Total offers: {count[1] +count[0]}, Success offers : {count[1]}, Failed offers : {count[0]}, success rate: {(count[1]/(count[0]+count[1])) * 100}')"
   ]
  },
  {
   "cell_type": "code",
   "execution_count": 37,
   "metadata": {},
   "outputs": [
    {
     "data": {
      "text/plain": [
       "gender  success\n",
       "F       0.0        14671\n",
       "        1.0        12785\n",
       "M       0.0        23250\n",
       "        1.0        14879\n",
       "O       0.0          438\n",
       "        1.0          478\n",
       "Name: gender, dtype: int64"
      ]
     },
     "execution_count": 37,
     "metadata": {},
     "output_type": "execute_result"
    }
   ],
   "source": [
    "# Success rates by gender \n",
    "received_offers.groupby(['gender', 'success'])['gender'].count()"
   ]
  },
  {
   "cell_type": "code",
   "execution_count": 38,
   "metadata": {},
   "outputs": [
    {
     "name": "stdout",
     "output_type": "stream",
     "text": [
      "Female 46.565413752913756, Male 39.02279105143067,  O 52.183406113537124.\n"
     ]
    }
   ],
   "source": [
    "g = received_offers.groupby(['gender', 'success'])['gender'].count().tolist()\n",
    "print(f'Female {g[1]/ (g[0]+g[1]) * 100}, Male {g[3]/ (g[2]+g[3]) * 100},  O {g[5]/ (g[4]+g[5]) * 100}.')"
   ]
  },
  {
   "cell_type": "code",
   "execution_count": 39,
   "metadata": {},
   "outputs": [
    {
     "data": {
      "image/png": "[encoded data removed]",
      "text/plain": [
       "<Figure size 864x432 with 1 Axes>"
      ]
     },
     "metadata": {
      "needs_background": "light"
     },
     "output_type": "display_data"
    }
   ],
   "source": [
    "plt.figure(figsize=(12, 6))\n",
    "ax= sns.countplot(x=\"success\", hue=\"gender\", palette=\"tab10\", data=received_offers)\n",
    "    \n",
    "plt.title('Comparison of sucess rate between genders')\n",
    "plt.ylabel('Count')\n",
    "plt.xticks(range(2), ['Failed', 'Successed'])\n",
    "plt.xlabel('offer_received ')\n",
    "plt.legend(title='Gender', loc='upper right')\n",
    "\n",
    "\n",
    "rects = ax.patches\n",
    "\n",
    "# Make some labels.\n",
    "labels = ['', '46.6%','',  '39.0%','', '52.2%']\n",
    "\n",
    "for rect, label in zip(rects, labels):\n",
    "    height = rect.get_height()\n",
    "    ax.text(\n",
    "        rect.get_x() + rect.get_width() / 2, height + 5, label, ha=\"center\", va=\"bottom\"\n",
    "    )\n",
    "    \n",
    "plt.savefig('offer_success_gender.jpg')\n",
    "plt.show()"
   ]
  },
  {
   "cell_type": "code",
   "execution_count": 40,
   "metadata": {},
   "outputs": [
    {
     "data": {
      "text/plain": [
       "offer_type     success\n",
       "bogo           0.0        19351\n",
       "               1.0        11148\n",
       "discount       0.0        17827\n",
       "               1.0        12716\n",
       "informational  0.0         9277\n",
       "               1.0         5958\n",
       "Name: offer_type, dtype: int64"
      ]
     },
     "execution_count": 40,
     "metadata": {},
     "output_type": "execute_result"
    }
   ],
   "source": [
    "# Success rates by offer type\n",
    "received_offers.groupby(['offer_type', 'success'])['offer_type'].count()\n"
   ]
  },
  {
   "cell_type": "code",
   "execution_count": 41,
   "metadata": {},
   "outputs": [
    {
     "name": "stdout",
     "output_type": "stream",
     "text": [
      "bogo 36.552018098954065, discount 41.63310742232263, informational 39.10731867410568.\n"
     ]
    }
   ],
   "source": [
    "o = received_offers.groupby(['offer_type', 'success'])['offer_type'].count().tolist()\n",
    "\n",
    "print(f'bogo {o[1]/ (o[0]+o[1]) * 100}, discount {o[3]/ (o[2]+ o[3]) * 100}, informational {o[5]/ (o[4]+o[5]) * 100}.')"
   ]
  },
  {
   "cell_type": "code",
   "execution_count": 42,
   "metadata": {},
   "outputs": [
    {
     "data": {
      "image/png": "[encoded data removed]",
      "text/plain": [
       "<Figure size 1080x432 with 1 Axes>"
      ]
     },
     "metadata": {
      "needs_background": "light"
     },
     "output_type": "display_data"
    }
   ],
   "source": [
    "plt.figure(figsize=(15, 6))\n",
    "ax =sns.countplot(x=\"success\", hue=\"offer_type\", palette=\"tab10\", data=received_offers)\n",
    "    \n",
    "plt.title('Comparison of success rate between offer types')\n",
    "plt.ylabel('Count')\n",
    "plt.xticks(range(2), ['Failed', 'Successed'])\n",
    "plt.xlabel('offer_received ')\n",
    "plt.legend(title='Offer Type', loc='upper right')\n",
    "\n",
    "rects = ax.patches\n",
    "\n",
    "# Make some labels.\n",
    "labels = ['', '36.6%','',  '41.6%','', '39.1%']\n",
    "\n",
    "for rect, label in zip(rects, labels):\n",
    "    height = rect.get_height()\n",
    "    ax.text(\n",
    "        rect.get_x() + rect.get_width() / 2, height + 5, label, ha=\"center\", va=\"bottom\"\n",
    "    )\n",
    "    \n",
    "plt.savefig('offer_success_offer_type.jpg')\n",
    "plt.show()"
   ]
  },
  {
   "cell_type": "markdown",
   "metadata": {},
   "source": [
    "## Model to Predicting Offer Success\n",
    "\n",
    "Before building the prediction model, further data process is needed:\n",
    "\n",
    "1. Dataset only contains rows of \"offer received\" will be used.    \n",
    "2. Age and income would be convert to group of data range.\n",
    "3. Gender, member_year, channels, offer_type will transforme to dummy columns\n",
    "4. Numerical value need to be scaled:   duration,  reward,  mebmer_month  \n",
    "5. Columns to drop : 'person_id', 'event','amount', 'offer_id', 't_reward', 'diffculty' and the original rows after converted\n",
    "5. Drop rows wiht null value"
   ]
  },
  {
   "cell_type": "code",
   "execution_count": 43,
   "metadata": {},
   "outputs": [
    {
     "data": {
      "text/plain": [
       "Index(['person_id', 'event', 'time', 'amount', 'offer_id', 't_reward',\n",
       "       'gender', 'age', 'became_member_on', 'income', 'member_year',\n",
       "       'mebmer_month', 'reward', 'channels', 'difficulty', 'duration',\n",
       "       'offer_type', 'success'],\n",
       "      dtype='object')"
      ]
     },
     "execution_count": 43,
     "metadata": {},
     "output_type": "execute_result"
    }
   ],
   "source": [
    "merged2.columns"
   ]
  },
  {
   "cell_type": "code",
   "execution_count": 44,
   "metadata": {},
   "outputs": [
    {
     "data": {
      "text/html": [
       "<div>\n",
       "<style scoped>\n",
       "    .dataframe tbody tr th:only-of-type {\n",
       "        vertical-align: middle;\n",
       "    }\n",
       "\n",
       "    .dataframe tbody tr th {\n",
       "        vertical-align: top;\n",
       "    }\n",
       "\n",
       "    .dataframe thead th {\n",
       "        text-align: right;\n",
       "    }\n",
       "</style>\n",
       "<table border=\"1\" class=\"dataframe\">\n",
       "  <thead>\n",
       "    <tr style=\"text-align: right;\">\n",
       "      <th></th>\n",
       "      <th>time</th>\n",
       "      <th>gender</th>\n",
       "      <th>age</th>\n",
       "      <th>income</th>\n",
       "      <th>member_year</th>\n",
       "      <th>mebmer_month</th>\n",
       "      <th>reward</th>\n",
       "      <th>channels</th>\n",
       "      <th>duration</th>\n",
       "      <th>offer_type</th>\n",
       "      <th>success</th>\n",
       "    </tr>\n",
       "  </thead>\n",
       "  <tbody>\n",
       "    <tr>\n",
       "      <th>0</th>\n",
       "      <td>0</td>\n",
       "      <td>F</td>\n",
       "      <td>75.0</td>\n",
       "      <td>100000.0</td>\n",
       "      <td>2017.0</td>\n",
       "      <td>5.0</td>\n",
       "      <td>5.0</td>\n",
       "      <td>[web, email, mobile]</td>\n",
       "      <td>168.0</td>\n",
       "      <td>bogo</td>\n",
       "      <td>1.0</td>\n",
       "    </tr>\n",
       "    <tr>\n",
       "      <th>1</th>\n",
       "      <td>0</td>\n",
       "      <td>NaN</td>\n",
       "      <td>NaN</td>\n",
       "      <td>NaN</td>\n",
       "      <td>NaN</td>\n",
       "      <td>NaN</td>\n",
       "      <td>5.0</td>\n",
       "      <td>[web, email]</td>\n",
       "      <td>240.0</td>\n",
       "      <td>discount</td>\n",
       "      <td>0.0</td>\n",
       "    </tr>\n",
       "    <tr>\n",
       "      <th>2</th>\n",
       "      <td>0</td>\n",
       "      <td>M</td>\n",
       "      <td>68.0</td>\n",
       "      <td>70000.0</td>\n",
       "      <td>2018.0</td>\n",
       "      <td>4.0</td>\n",
       "      <td>2.0</td>\n",
       "      <td>[web, email, mobile]</td>\n",
       "      <td>168.0</td>\n",
       "      <td>discount</td>\n",
       "      <td>0.0</td>\n",
       "    </tr>\n",
       "    <tr>\n",
       "      <th>3</th>\n",
       "      <td>0</td>\n",
       "      <td>NaN</td>\n",
       "      <td>NaN</td>\n",
       "      <td>NaN</td>\n",
       "      <td>NaN</td>\n",
       "      <td>NaN</td>\n",
       "      <td>2.0</td>\n",
       "      <td>[web, email, mobile, social]</td>\n",
       "      <td>240.0</td>\n",
       "      <td>discount</td>\n",
       "      <td>0.0</td>\n",
       "    </tr>\n",
       "    <tr>\n",
       "      <th>4</th>\n",
       "      <td>0</td>\n",
       "      <td>NaN</td>\n",
       "      <td>NaN</td>\n",
       "      <td>NaN</td>\n",
       "      <td>NaN</td>\n",
       "      <td>NaN</td>\n",
       "      <td>10.0</td>\n",
       "      <td>[web, email, mobile, social]</td>\n",
       "      <td>120.0</td>\n",
       "      <td>bogo</td>\n",
       "      <td>0.0</td>\n",
       "    </tr>\n",
       "  </tbody>\n",
       "</table>\n",
       "</div>"
      ],
      "text/plain": [
       "   time gender   age    income  member_year  mebmer_month  reward  \\\n",
       "0     0      F  75.0  100000.0       2017.0           5.0     5.0   \n",
       "1     0    NaN   NaN       NaN          NaN           NaN     5.0   \n",
       "2     0      M  68.0   70000.0       2018.0           4.0     2.0   \n",
       "3     0    NaN   NaN       NaN          NaN           NaN     2.0   \n",
       "4     0    NaN   NaN       NaN          NaN           NaN    10.0   \n",
       "\n",
       "                       channels  duration offer_type  success  \n",
       "0          [web, email, mobile]     168.0       bogo      1.0  \n",
       "1                  [web, email]     240.0   discount      0.0  \n",
       "2          [web, email, mobile]     168.0   discount      0.0  \n",
       "3  [web, email, mobile, social]     240.0   discount      0.0  \n",
       "4  [web, email, mobile, social]     120.0       bogo      0.0  "
      ]
     },
     "execution_count": 44,
     "metadata": {},
     "output_type": "execute_result"
    }
   ],
   "source": [
    "df_model= received_offers.drop(columns=['person_id', 'event','amount', 'offer_id', 't_reward', 'became_member_on', 'difficulty'])\n",
    "df_model.head()"
   ]
  },
  {
   "cell_type": "code",
   "execution_count": 45,
   "metadata": {},
   "outputs": [],
   "source": [
    "# drop rows with nan values, these rows lack of basic information of the customers\n",
    "df_model.dropna(inplace=True)\n",
    "\n",
    "# convert value of age, income and year to groups\n",
    "df_model['age_group']  = pd.cut(df_model['age'], bins = [15,25,35,45,55,65,75,85,95,105], labels =[1, 2, 3, 4, 5,6,7,8, 9])\n",
    "df_model['income_group']  = pd.cut(df_model['income'], bins = np.arange(20000, 130000, 10000), labels =[1, 2, 3, 4, 5, 6, 7, 8, 9, 10])\n",
    "df_model['year_group']  = (df_model['member_year'] - 2012).astype(int)\n",
    "\n",
    "#convert categorical values: gender, offer types and channels\n",
    "offer_types = pd.get_dummies(df_model.offer_type)\n",
    "df_model = pd.concat([df_model, offer_types], axis=1)\n",
    "\n",
    "gender_types = pd.get_dummies(df_model.gender)\n",
    "df_model = pd.concat([df_model, gender_types], axis=1)\n",
    "\n",
    "for i in ['web', 'email', 'mobile', 'social']:\n",
    "    df_model[i] = df_model['channels'].apply(lambda x: 1 if i in x else 0)\n",
    "    \n",
    "#drop original columns \n",
    "df_model = df_model.astype({\"mebmer_month\": int})\n",
    "df_model.drop(columns= ['gender', 'age', 'income', 'member_year', 'channels', 'offer_type'], inplace=True)"
   ]
  },
  {
   "cell_type": "code",
   "execution_count": 46,
   "metadata": {},
   "outputs": [
    {
     "data": {
      "text/html": [
       "<div>\n",
       "<style scoped>\n",
       "    .dataframe tbody tr th:only-of-type {\n",
       "        vertical-align: middle;\n",
       "    }\n",
       "\n",
       "    .dataframe tbody tr th {\n",
       "        vertical-align: top;\n",
       "    }\n",
       "\n",
       "    .dataframe thead th {\n",
       "        text-align: right;\n",
       "    }\n",
       "</style>\n",
       "<table border=\"1\" class=\"dataframe\">\n",
       "  <thead>\n",
       "    <tr style=\"text-align: right;\">\n",
       "      <th></th>\n",
       "      <th>time</th>\n",
       "      <th>mebmer_month</th>\n",
       "      <th>reward</th>\n",
       "      <th>duration</th>\n",
       "      <th>success</th>\n",
       "      <th>age_group</th>\n",
       "      <th>income_group</th>\n",
       "      <th>year_group</th>\n",
       "      <th>bogo</th>\n",
       "      <th>discount</th>\n",
       "      <th>informational</th>\n",
       "      <th>F</th>\n",
       "      <th>M</th>\n",
       "      <th>O</th>\n",
       "      <th>web</th>\n",
       "      <th>email</th>\n",
       "      <th>mobile</th>\n",
       "      <th>social</th>\n",
       "    </tr>\n",
       "  </thead>\n",
       "  <tbody>\n",
       "    <tr>\n",
       "      <th>0</th>\n",
       "      <td>0</td>\n",
       "      <td>5</td>\n",
       "      <td>5.0</td>\n",
       "      <td>168.0</td>\n",
       "      <td>1.0</td>\n",
       "      <td>6</td>\n",
       "      <td>8</td>\n",
       "      <td>5</td>\n",
       "      <td>1</td>\n",
       "      <td>0</td>\n",
       "      <td>0</td>\n",
       "      <td>1</td>\n",
       "      <td>0</td>\n",
       "      <td>0</td>\n",
       "      <td>1</td>\n",
       "      <td>1</td>\n",
       "      <td>1</td>\n",
       "      <td>0</td>\n",
       "    </tr>\n",
       "    <tr>\n",
       "      <th>2</th>\n",
       "      <td>0</td>\n",
       "      <td>4</td>\n",
       "      <td>2.0</td>\n",
       "      <td>168.0</td>\n",
       "      <td>0.0</td>\n",
       "      <td>6</td>\n",
       "      <td>5</td>\n",
       "      <td>6</td>\n",
       "      <td>0</td>\n",
       "      <td>1</td>\n",
       "      <td>0</td>\n",
       "      <td>0</td>\n",
       "      <td>1</td>\n",
       "      <td>0</td>\n",
       "      <td>1</td>\n",
       "      <td>1</td>\n",
       "      <td>1</td>\n",
       "      <td>0</td>\n",
       "    </tr>\n",
       "    <tr>\n",
       "      <th>5</th>\n",
       "      <td>0</td>\n",
       "      <td>2</td>\n",
       "      <td>5.0</td>\n",
       "      <td>120.0</td>\n",
       "      <td>1.0</td>\n",
       "      <td>5</td>\n",
       "      <td>4</td>\n",
       "      <td>6</td>\n",
       "      <td>1</td>\n",
       "      <td>0</td>\n",
       "      <td>0</td>\n",
       "      <td>0</td>\n",
       "      <td>1</td>\n",
       "      <td>0</td>\n",
       "      <td>1</td>\n",
       "      <td>1</td>\n",
       "      <td>1</td>\n",
       "      <td>1</td>\n",
       "    </tr>\n",
       "    <tr>\n",
       "      <th>7</th>\n",
       "      <td>0</td>\n",
       "      <td>11</td>\n",
       "      <td>0.0</td>\n",
       "      <td>96.0</td>\n",
       "      <td>0.0</td>\n",
       "      <td>5</td>\n",
       "      <td>4</td>\n",
       "      <td>5</td>\n",
       "      <td>0</td>\n",
       "      <td>0</td>\n",
       "      <td>1</td>\n",
       "      <td>0</td>\n",
       "      <td>1</td>\n",
       "      <td>0</td>\n",
       "      <td>1</td>\n",
       "      <td>1</td>\n",
       "      <td>1</td>\n",
       "      <td>0</td>\n",
       "    </tr>\n",
       "    <tr>\n",
       "      <th>8</th>\n",
       "      <td>0</td>\n",
       "      <td>9</td>\n",
       "      <td>5.0</td>\n",
       "      <td>240.0</td>\n",
       "      <td>0.0</td>\n",
       "      <td>5</td>\n",
       "      <td>4</td>\n",
       "      <td>5</td>\n",
       "      <td>0</td>\n",
       "      <td>1</td>\n",
       "      <td>0</td>\n",
       "      <td>1</td>\n",
       "      <td>0</td>\n",
       "      <td>0</td>\n",
       "      <td>1</td>\n",
       "      <td>1</td>\n",
       "      <td>0</td>\n",
       "      <td>0</td>\n",
       "    </tr>\n",
       "  </tbody>\n",
       "</table>\n",
       "</div>"
      ],
      "text/plain": [
       "   time  mebmer_month  reward  duration  success age_group income_group  \\\n",
       "0     0             5     5.0     168.0      1.0         6            8   \n",
       "2     0             4     2.0     168.0      0.0         6            5   \n",
       "5     0             2     5.0     120.0      1.0         5            4   \n",
       "7     0            11     0.0      96.0      0.0         5            4   \n",
       "8     0             9     5.0     240.0      0.0         5            4   \n",
       "\n",
       "   year_group  bogo  discount  informational  F  M  O  web  email  mobile  \\\n",
       "0           5     1         0              0  1  0  0    1      1       1   \n",
       "2           6     0         1              0  0  1  0    1      1       1   \n",
       "5           6     1         0              0  0  1  0    1      1       1   \n",
       "7           5     0         0              1  0  1  0    1      1       1   \n",
       "8           5     0         1              0  1  0  0    1      1       0   \n",
       "\n",
       "   social  \n",
       "0       0  \n",
       "2       0  \n",
       "5       1  \n",
       "7       0  \n",
       "8       0  "
      ]
     },
     "execution_count": 46,
     "metadata": {},
     "output_type": "execute_result"
    }
   ],
   "source": [
    "df_model.head()"
   ]
  },
  {
   "cell_type": "code",
   "execution_count": 47,
   "metadata": {},
   "outputs": [],
   "source": [
    "# \n",
    "X = df_model.drop(columns = ['success'])\n",
    "Y = df_model['success']"
   ]
  },
  {
   "cell_type": "code",
   "execution_count": 48,
   "metadata": {},
   "outputs": [
    {
     "data": {
      "text/html": [
       "<div>\n",
       "<style scoped>\n",
       "    .dataframe tbody tr th:only-of-type {\n",
       "        vertical-align: middle;\n",
       "    }\n",
       "\n",
       "    .dataframe tbody tr th {\n",
       "        vertical-align: top;\n",
       "    }\n",
       "\n",
       "    .dataframe thead th {\n",
       "        text-align: right;\n",
       "    }\n",
       "</style>\n",
       "<table border=\"1\" class=\"dataframe\">\n",
       "  <thead>\n",
       "    <tr style=\"text-align: right;\">\n",
       "      <th></th>\n",
       "      <th>time</th>\n",
       "      <th>mebmer_month</th>\n",
       "      <th>reward</th>\n",
       "      <th>duration</th>\n",
       "      <th>age_group</th>\n",
       "      <th>income_group</th>\n",
       "      <th>year_group</th>\n",
       "      <th>bogo</th>\n",
       "      <th>discount</th>\n",
       "      <th>informational</th>\n",
       "      <th>F</th>\n",
       "      <th>M</th>\n",
       "      <th>O</th>\n",
       "      <th>web</th>\n",
       "      <th>email</th>\n",
       "      <th>mobile</th>\n",
       "      <th>social</th>\n",
       "    </tr>\n",
       "  </thead>\n",
       "  <tbody>\n",
       "    <tr>\n",
       "      <th>0</th>\n",
       "      <td>0</td>\n",
       "      <td>0.363636</td>\n",
       "      <td>0.5</td>\n",
       "      <td>0.571429</td>\n",
       "      <td>0.625</td>\n",
       "      <td>0.777778</td>\n",
       "      <td>0.8</td>\n",
       "      <td>1</td>\n",
       "      <td>0</td>\n",
       "      <td>0</td>\n",
       "      <td>1</td>\n",
       "      <td>0</td>\n",
       "      <td>0</td>\n",
       "      <td>1</td>\n",
       "      <td>1</td>\n",
       "      <td>1</td>\n",
       "      <td>0</td>\n",
       "    </tr>\n",
       "    <tr>\n",
       "      <th>2</th>\n",
       "      <td>0</td>\n",
       "      <td>0.272727</td>\n",
       "      <td>0.2</td>\n",
       "      <td>0.571429</td>\n",
       "      <td>0.625</td>\n",
       "      <td>0.444444</td>\n",
       "      <td>1.0</td>\n",
       "      <td>0</td>\n",
       "      <td>1</td>\n",
       "      <td>0</td>\n",
       "      <td>0</td>\n",
       "      <td>1</td>\n",
       "      <td>0</td>\n",
       "      <td>1</td>\n",
       "      <td>1</td>\n",
       "      <td>1</td>\n",
       "      <td>0</td>\n",
       "    </tr>\n",
       "    <tr>\n",
       "      <th>5</th>\n",
       "      <td>0</td>\n",
       "      <td>0.090909</td>\n",
       "      <td>0.5</td>\n",
       "      <td>0.285714</td>\n",
       "      <td>0.500</td>\n",
       "      <td>0.333333</td>\n",
       "      <td>1.0</td>\n",
       "      <td>1</td>\n",
       "      <td>0</td>\n",
       "      <td>0</td>\n",
       "      <td>0</td>\n",
       "      <td>1</td>\n",
       "      <td>0</td>\n",
       "      <td>1</td>\n",
       "      <td>1</td>\n",
       "      <td>1</td>\n",
       "      <td>1</td>\n",
       "    </tr>\n",
       "    <tr>\n",
       "      <th>7</th>\n",
       "      <td>0</td>\n",
       "      <td>0.909091</td>\n",
       "      <td>0.0</td>\n",
       "      <td>0.142857</td>\n",
       "      <td>0.500</td>\n",
       "      <td>0.333333</td>\n",
       "      <td>0.8</td>\n",
       "      <td>0</td>\n",
       "      <td>0</td>\n",
       "      <td>1</td>\n",
       "      <td>0</td>\n",
       "      <td>1</td>\n",
       "      <td>0</td>\n",
       "      <td>1</td>\n",
       "      <td>1</td>\n",
       "      <td>1</td>\n",
       "      <td>0</td>\n",
       "    </tr>\n",
       "    <tr>\n",
       "      <th>8</th>\n",
       "      <td>0</td>\n",
       "      <td>0.727273</td>\n",
       "      <td>0.5</td>\n",
       "      <td>1.000000</td>\n",
       "      <td>0.500</td>\n",
       "      <td>0.333333</td>\n",
       "      <td>0.8</td>\n",
       "      <td>0</td>\n",
       "      <td>1</td>\n",
       "      <td>0</td>\n",
       "      <td>1</td>\n",
       "      <td>0</td>\n",
       "      <td>0</td>\n",
       "      <td>1</td>\n",
       "      <td>1</td>\n",
       "      <td>0</td>\n",
       "      <td>0</td>\n",
       "    </tr>\n",
       "  </tbody>\n",
       "</table>\n",
       "</div>"
      ],
      "text/plain": [
       "   time  mebmer_month  reward  duration  age_group  income_group  year_group  \\\n",
       "0     0      0.363636     0.5  0.571429      0.625      0.777778         0.8   \n",
       "2     0      0.272727     0.2  0.571429      0.625      0.444444         1.0   \n",
       "5     0      0.090909     0.5  0.285714      0.500      0.333333         1.0   \n",
       "7     0      0.909091     0.0  0.142857      0.500      0.333333         0.8   \n",
       "8     0      0.727273     0.5  1.000000      0.500      0.333333         0.8   \n",
       "\n",
       "   bogo  discount  informational  F  M  O  web  email  mobile  social  \n",
       "0     1         0              0  1  0  0    1      1       1       0  \n",
       "2     0         1              0  0  1  0    1      1       1       0  \n",
       "5     1         0              0  0  1  0    1      1       1       1  \n",
       "7     0         0              1  0  1  0    1      1       1       0  \n",
       "8     0         1              0  1  0  0    1      1       0       0  "
      ]
     },
     "execution_count": 48,
     "metadata": {},
     "output_type": "execute_result"
    }
   ],
   "source": [
    "# scale some features\n",
    "scaler = MinMaxScaler()\n",
    "features = ['mebmer_month', 'reward', 'reward', 'duration', 'age_group', 'income_group', 'year_group']\n",
    "\n",
    "X[features] = scaler.fit_transform(X[features])\n",
    "X.head()"
   ]
  },
  {
   "cell_type": "code",
   "execution_count": 49,
   "metadata": {},
   "outputs": [],
   "source": [
    "# Split training and testing sets \n",
    "X_train, X_test, y_train, y_test = train_test_split(X, Y, random_state=42)"
   ]
  },
  {
   "cell_type": "code",
   "execution_count": 50,
   "metadata": {},
   "outputs": [],
   "source": [
    "\n",
    "def Classification_report (classifier = None):\n",
    "    \"\"\"\n",
    "    Builds classification model and print out report\n",
    "    \n",
    "    INPUT:\n",
    "  \n",
    "    classifier - the model to be used(default:None)\n",
    "    \n",
    "    OUTPUT:\n",
    "    classifier - the classification model\n",
    "    \n",
    "    \"\"\"\n",
    "    \n",
    "    classifier.fit(X_train, y_train)\n",
    "    \n",
    "    model_predictions = classifier.predict(X_test)\n",
    "    \n",
    "    print(\"Report: \", classification_report(y_test, model_predictions))\n",
    "    print(\"Overall accuracy: \", accuracy_score(y_test, model_predictions))\n",
    "    \n",
    "    return classifier"
   ]
  },
  {
   "cell_type": "markdown",
   "metadata": {},
   "source": []
  },
  {
   "cell_type": "code",
   "execution_count": 62,
   "metadata": {},
   "outputs": [
    {
     "name": "stdout",
     "output_type": "stream",
     "text": [
      "RandomForestClassifier(max_depth=20, random_state=42)\n",
      "Report:                precision    recall  f1-score   support\n",
      "\n",
      "         0.0       0.69      0.73      0.71      9552\n",
      "         1.0       0.61      0.56      0.58      7074\n",
      "\n",
      "    accuracy                           0.66     16626\n",
      "   macro avg       0.65      0.64      0.64     16626\n",
      "weighted avg       0.65      0.66      0.65     16626\n",
      "\n",
      "Overall accuracy:  0.656922891856129\n",
      "\n",
      "\n",
      "GradientBoostingClassifier(random_state=42)\n",
      "Report:                precision    recall  f1-score   support\n",
      "\n",
      "         0.0       0.70      0.81      0.75      9552\n",
      "         1.0       0.67      0.53      0.59      7074\n",
      "\n",
      "    accuracy                           0.69     16626\n",
      "   macro avg       0.69      0.67      0.67     16626\n",
      "weighted avg       0.69      0.69      0.68     16626\n",
      "\n",
      "Overall accuracy:  0.6900036088054854\n",
      "\n",
      "\n",
      "AdaBoostClassifier(random_state=42)\n",
      "Report:                precision    recall  f1-score   support\n",
      "\n",
      "         0.0       0.69      0.79      0.74      9552\n",
      "         1.0       0.64      0.52      0.58      7074\n",
      "\n",
      "    accuracy                           0.67     16626\n",
      "   macro avg       0.67      0.65      0.66     16626\n",
      "weighted avg       0.67      0.67      0.67     16626\n",
      "\n",
      "Overall accuracy:  0.6740647179117045\n",
      "\n",
      "\n"
     ]
    }
   ],
   "source": [
    "for i in [ RandomForestClassifier(max_depth=20, random_state=42), GradientBoostingClassifier(random_state=42), AdaBoostClassifier(random_state=42)]:\n",
    "    print(i)\n",
    "    Classification_report (classifier = i)\n",
    "    print('\\n')\n"
   ]
  },
  {
   "cell_type": "markdown",
   "metadata": {},
   "source": [
    "GradientBoostingClassifier has the highest accracy at 0.69."
   ]
  },
  {
   "cell_type": "code",
   "execution_count": 55,
   "metadata": {},
   "outputs": [],
   "source": [
    "# Hyperparameter tuning\n",
    "\n",
    "def best_param_selection(X=X, Y=Y, classifier = None, param_grid=None):\n",
    "    '''\n",
    "    Find out the best parameter for the given classifier and return report\n",
    "    \n",
    "    INPUT:\n",
    "    - X,Y: training datasets for X and y\n",
    "    - classifier: the model to be used(default:None)\n",
    "    - param_grid: dictionary contains paramemer to be screened \n",
    "    \n",
    "    OUTPUT:\n",
    "    - Print out of the Classification_report of the classifier\n",
    "    - dictionary with best parameters for the classifier\n",
    "    '''\n",
    "    \n",
    "    grid_search = GridSearchCV(classifier, param_grid)\n",
    "    grid_search.fit(X, Y)\n",
    "    best_params = grid_search.best_params_\n",
    "    report = Classification_report(classifier)\n",
    "    return best_params"
   ]
  },
  {
   "cell_type": "code",
   "execution_count": 60,
   "metadata": {},
   "outputs": [
    {
     "name": "stdout",
     "output_type": "stream",
     "text": [
      "Report:                precision    recall  f1-score   support\n",
      "\n",
      "         0.0       0.70      0.81      0.75      9552\n",
      "         1.0       0.67      0.53      0.59      7074\n",
      "\n",
      "    accuracy                           0.69     16626\n",
      "   macro avg       0.69      0.67      0.67     16626\n",
      "weighted avg       0.69      0.69      0.68     16626\n",
      "\n",
      "Overall accuracy:  0.6900036088054854\n"
     ]
    }
   ],
   "source": [
    "# grid search of the best parameter\n",
    "param_grid={\n",
    "            'max_depth' : [ 3, 5, 9],\n",
    "            'n_estimators': [20, 50, 100],\n",
    "            \"learning_rate\":[0.1, 0.5, 1]\n",
    "            }\n",
    "\n",
    "best_params = best_param_selection(X,Y, GradientBoostingClassifier(random_state=42), param_grid)"
   ]
  },
  {
   "cell_type": "code",
   "execution_count": 61,
   "metadata": {},
   "outputs": [
    {
     "name": "stdout",
     "output_type": "stream",
     "text": [
      "{'learning_rate': 0.1, 'max_depth': 5, 'n_estimators': 50}\n"
     ]
    }
   ],
   "source": [
    "print(best_params)"
   ]
  },
  {
   "cell_type": "markdown",
   "metadata": {},
   "source": [
    "After applying the best parameters to the model, unfortunately the accuracy did not raise as expected. So I kept the default parameters. "
   ]
  },
  {
   "cell_type": "code",
   "execution_count": 63,
   "metadata": {},
   "outputs": [
    {
     "data": {
      "text/plain": [
       "GradientBoostingClassifier(random_state=42)"
      ]
     },
     "execution_count": 63,
     "metadata": {},
     "output_type": "execute_result"
    }
   ],
   "source": [
    "#Feature importances plot\n",
    "\n",
    "gb = GradientBoostingClassifier(random_state=42)\n",
    "gb.fit(X_train, y_train)"
   ]
  },
  {
   "cell_type": "code",
   "execution_count": 64,
   "metadata": {},
   "outputs": [
    {
     "data": {
      "image/png": "[encoded data removed]",
      "text/plain": [
       "<Figure size 1080x432 with 1 Axes>"
      ]
     },
     "metadata": {
      "needs_background": "light"
     },
     "output_type": "display_data"
    }
   ],
   "source": [
    "\n",
    "sorted(gb.feature_importances_)\n",
    "feature_importances = pd.DataFrame(gb.feature_importances_,\n",
    "                                   index = X.columns, \n",
    "                                    columns=['importance']).sort_values('importance',ascending=False)\n",
    "\n",
    "\n",
    "feature_importances.plot.barh(figsize = (15, 6)).invert_yaxis()\n",
    "plt.xlabel('Importances', fontsize=18)\n",
    "# plt.ylabel('Importances', fontsize=18)\n",
    "plt.title('Feature importances', fontsize=20);\n",
    "\n",
    "plt.savefig('features.jpg');"
   ]
  },
  {
   "cell_type": "markdown",
   "metadata": {},
   "source": [
    "I successfuly builde a predict model based on offer and customer information.  Among three most popular algorithoms, GradientBoostingClassifier works the best.\n",
    "\n",
    "Our model has an accuracy of 69%, which is useful for the marketing team, although there is certainly room to improvement.\n",
    "\n",
    "\n",
    "The most relevant features for offer success  are social and year, then followed by Income, discount, reward and duration. \n"
   ]
  },
  {
   "cell_type": "markdown",
   "metadata": {},
   "source": [
    "# Conclusion\n",
    "\n",
    "Distribution of promotions/coupons to the clients become routine nowadays for many companies who want to expand their business.  Finding out the right clients who might be interested in would reduce the cost and increase their revenue. \n",
    "In the current analysis, I have explored the datasets from multiple aspects. Here is a summary of my findings: \n",
    "-\tMost of Customers’ income ranges from 40,000 to 100,000 and age ranges from 20 to 80.\n",
    "-\t There is gender preference in both offer action events and spending patterns. Man receives more offers but with less completed offer and spend less than woman on average. \n",
    "-\tThe differences of offer success rate are existed in both gender and offer types. Women again are more likely to redeem an offer than men. Among offer types, bogo has the highest success rate and informational offer had the lowest. \n",
    "-\tThe top relevant features are social, income range, year_become_member, discount offer, offer reward and duration. \n",
    "\n",
    " \n",
    "### Reflection  \n",
    " \n",
    "After defining a success offer case, the most challenge part is how to differentiate these offers.  There are many scenarios need to be aware of during writing the function.  For example, one person could receive the same type of offer more than once; another offer received before current offer is completed; Although happens in the same day, which happens first, view offer or complete offer. It does spend a fair amount of time and debugging to deal with these scenarios. \n",
    "\n",
    "### Improvement  \n",
    "\n",
    "- My prediction model does not take the customers’ transactions events into consideration. However, the pattern of a customer to make transaction could be significant in predicting the offers to be completed. Would a frequently coffee buyer like to receive offers and use them? Are there customers who want to complete the offer but the amount they spend is not enough?  One of the best practices to leverage our analysis is to create new variables that represent those data.\n",
    "- I do not separate the customers who did purchases without knowing the offer, that is offer completed with offer viewed or viewed later.  If the company continue to send offers to these customers, it will potentially reduce the overall profit. Another model to predict these customers is also needed. \n"
   ]
  },
  {
   "cell_type": "code",
   "execution_count": null,
   "metadata": {},
   "outputs": [],
   "source": []
  }
 ],
 "metadata": {
  "kernelspec": {
   "display_name": "Python 3 (ipykernel)",
   "language": "python",
   "name": "python3"
  },
  "language_info": {
   "codemirror_mode": {
    "name": "ipython",
    "version": 3
   },
   "file_extension": ".py",
   "mimetype": "text/x-python",
   "name": "python",
   "nbconvert_exporter": "python",
   "pygments_lexer": "ipython3",
   "version": "3.8.12"
  }
 },
 "nbformat": 4,
 "nbformat_minor": 2
}
